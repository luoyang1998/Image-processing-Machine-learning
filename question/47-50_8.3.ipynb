{
 "cells": [
  {
   "cell_type": "markdown",
   "metadata": {},
   "source": [
    "# 47-膨胀（Dilate）"
   ]
  },
  {
   "cell_type": "markdown",
   "metadata": {},
   "source": [
    "将图片大津二值化之后，进行两次形态学膨胀处理。\n",
    "\n",
    "在形态学处理的过程中，二值化图像中白色（255）的部分向$4-$近邻（上下左右）膨胀或收缩一格 。\n",
    "\n",
    "反复进行膨胀和收缩操作，可以消除独立存在的白色像素点（见问题四十九：开操作）；或者连接白色像素点（见问题五十：闭操作）。\n",
    "\n",
    "形态学处理中的膨胀算法如下。对于待操作的像素$I(x,y)=0$，$I(x, y-1)$，$I(x-1, y)$，$ I(x+1, y)$，$I(x, y+1)$中不论哪一个为$255$，令$I(x,y)=255$"
   ]
  },
  {
   "cell_type": "markdown",
   "metadata": {},
   "source": [
    "换句话说，如果将上面的操作执行两次，则可以扩大两格。\n",
    "\n",
    "在实际进行形态学处理的时候，待操作的像素$4-$近邻与矩阵$\\left[\\begin{matrix}0&1&0 \\ 1&0&1 \\ 0&1&0\\end{matrix}\\right]$相乘，结果大于$255$的话，将中心像素设为$255$。"
   ]
  },
  {
   "cell_type": "markdown",
   "metadata": {},
   "source": [
    "膨胀：白色膨胀"
   ]
  },
  {
   "cell_type": "code",
   "execution_count": 1,
   "metadata": {},
   "outputs": [],
   "source": [
    "import cv2\n",
    "import numpy as np\n",
    "import matplotlib.pyplot as plt"
   ]
  },
  {
   "cell_type": "code",
   "execution_count": 28,
   "metadata": {},
   "outputs": [],
   "source": [
    "img = cv2.imread(\"../picture/chans.png\").astype(np.float32)"
   ]
  },
  {
   "cell_type": "code",
   "execution_count": 3,
   "metadata": {},
   "outputs": [],
   "source": [
    "def BGR2GRAY(img):\n",
    "    \n",
    "    b = img[:,:,0]\n",
    "    g = img[:,:,1]\n",
    "    r = img[:,:,2]\n",
    "    \n",
    "    gray = 0.2126 * r + 0.7152 * g + 0.0722 * b\n",
    "    gray = gray.astype(np.uint8)\n",
    "    \n",
    "    return gray"
   ]
  },
  {
   "cell_type": "code",
   "execution_count": 24,
   "metadata": {},
   "outputs": [],
   "source": [
    "def otsu_binarization(img, th=128):\n",
    "    \n",
    "    H, W = img.shape\n",
    "    out = img.copy()\n",
    "    \n",
    "    max_sigma = 0\n",
    "    max_t = 0\n",
    "    \n",
    "    for t in range(1, 255):\n",
    "        v0 = out[np.where(out < t)]\n",
    "        m0 = np.mean(v0) if len(v0) > 0 else 0.\n",
    "        w0 = len(v0) / (H * W)\n",
    "        \n",
    "        v1 = out[np.where(out >= t)]\n",
    "        m1 = np.mean(v1) if len(v1) > 0 else 0.\n",
    "        w1 = len(v1) / (H * W)\n",
    "        \n",
    "        sigma = w0 * w1 * ((m0 - m1) ** 2)\n",
    "        \n",
    "        if sigma > max_sigma:\n",
    "            max_sigma = sigma\n",
    "            max_t = t\n",
    "            \n",
    "    print(\"threshold >>\", max_t)\n",
    "    th = max_t\n",
    "    out[out < th] = 0\n",
    "    out[out >= th] = 255\n",
    "    \n",
    "    return out"
   ]
  },
  {
   "cell_type": "code",
   "execution_count": 5,
   "metadata": {},
   "outputs": [],
   "source": [
    "def Dilate_code(img, time):\n",
    "    \n",
    "    H, W = img.shape\n",
    "    \n",
    "    m = np.array(((0, 1, 0), (1, 0, 1), (0, 1, 0)), dtype=np.int)\n",
    "    \n",
    "    out = img.copy()\n",
    "    for i in range(time):\n",
    "        tmp = np.pad(out, (1, 1), 'edge')\n",
    "        for y in range(1, H+1):\n",
    "            for x in range(1, W+1):\n",
    "                if np.sum(m * tmp[y-1 : y+2, x-1 : x+2]) >= 255:\n",
    "                    out[y-1, x-1] = 255\n",
    "                    \n",
    "    return out"
   ]
  },
  {
   "cell_type": "code",
   "execution_count": 29,
   "metadata": {},
   "outputs": [],
   "source": [
    "gray = BGR2GRAY(img)"
   ]
  },
  {
   "cell_type": "code",
   "execution_count": 30,
   "metadata": {},
   "outputs": [
    {
     "name": "stdout",
     "output_type": "stream",
     "text": [
      "threshold >> 102\n"
     ]
    }
   ],
   "source": [
    "otsu = otsu_binarization(gray)"
   ]
  },
  {
   "cell_type": "code",
   "execution_count": 31,
   "metadata": {},
   "outputs": [],
   "source": [
    "dilate = Dilate_code(otsu, time=2)"
   ]
  },
  {
   "cell_type": "code",
   "execution_count": 32,
   "metadata": {},
   "outputs": [],
   "source": [
    "cv2.imwrite('../picture/chan_result47_dilate.jpg', dilate)\n",
    "cv2.namedWindow(\"result\", 0);\n",
    "cv2.resizeWindow(\"result\", (600, 600));\n",
    "cv2.imshow(\"result\", dilate)\n",
    "cv2.waitKey(0)\n",
    "cv2.destroyAllWindows()"
   ]
  },
  {
   "cell_type": "code",
   "execution_count": 47,
   "metadata": {},
   "outputs": [],
   "source": [
    "cv2.imwrite('../picture/chan_result47_otsu_binar.jpg', otsu)\n",
    "cv2.namedWindow(\"result\", 0);\n",
    "cv2.resizeWindow(\"result\", (600, 600));\n",
    "cv2.imshow(\"result\", otsu)\n",
    "cv2.waitKey(0)\n",
    "cv2.destroyAllWindows()"
   ]
  },
  {
   "cell_type": "markdown",
   "metadata": {},
   "source": [
    "# 48-腐蚀（Erode）"
   ]
  },
  {
   "cell_type": "markdown",
   "metadata": {},
   "source": [
    "大津二值化之后，进行两次形态学腐蚀处理。\n",
    "\n",
    "形态学处理中腐蚀操作如下：对于待操作的像素$I(x,y)=255$，$I(x, y-1)$，$I(x-1, y)$，$ I(x+1, y)$，$I(x, y+1)$中不论哪一个不为$255$，令$I(x,y)=0$。"
   ]
  },
  {
   "cell_type": "markdown",
   "metadata": {},
   "source": [
    "在实际进行形态学处理的时候，待操作的像素$4-$近邻与矩阵$\\left[\\begin{matrix}0&1&0 \\ 1&0&1 \\ 0&1&0\\end{matrix}\\right]$相乘，结果小于$255\\times 4$的话，将中心像素设为$0$。\n",
    "\n",
    "腐蚀：黑色腐蚀"
   ]
  },
  {
   "cell_type": "code",
   "execution_count": 40,
   "metadata": {},
   "outputs": [],
   "source": [
    "def Erode_code(img, time):\n",
    "    \n",
    "    H, W = img.shape\n",
    "    \n",
    "    m = np.array(((0, 1, 0), (1, 0, 1), (0, 1, 0)), dtype=np.int)\n",
    "    \n",
    "    out = img.copy()\n",
    "    for i in range(time):\n",
    "        tmp = np.pad(out, (1, 1), 'edge')\n",
    "        for y in range(1, H+1):\n",
    "            for x in range(1, W+1):\n",
    "                if np.sum(m * tmp[y-1 : y+2, x-1 : x+2]) < 255*4:\n",
    "                    out[y-1, x-1] = 0\n",
    "                    \n",
    "    return out"
   ]
  },
  {
   "cell_type": "code",
   "execution_count": 41,
   "metadata": {},
   "outputs": [],
   "source": [
    "erode = Erode_code(otsu, time=2)"
   ]
  },
  {
   "cell_type": "code",
   "execution_count": 42,
   "metadata": {},
   "outputs": [],
   "source": [
    "cv2.imwrite('../picture/chan_result48_erode.jpg', erode)\n",
    "cv2.namedWindow(\"result\", 0);\n",
    "cv2.resizeWindow(\"result\", (600, 600));\n",
    "cv2.imshow(\"result\", erode)\n",
    "cv2.waitKey(0)\n",
    "cv2.destroyAllWindows()"
   ]
  },
  {
   "cell_type": "markdown",
   "metadata": {},
   "source": [
    "# 49-开运算（Opening Operation）"
   ]
  },
  {
   "cell_type": "markdown",
   "metadata": {},
   "source": [
    "大津二值化之后，进行开运算（N=1）吧\n",
    "\n",
    "开运算，即先进行N次腐蚀再进行N次膨胀。\n",
    "\n",
    "开运算可以用来去除仅存的小块像素"
   ]
  },
  {
   "cell_type": "code",
   "execution_count": 44,
   "metadata": {},
   "outputs": [],
   "source": [
    "def opening(img, time):\n",
    "    \n",
    "    out = Dilate_code(img, time)\n",
    "    out = Erode_code(out, time)\n",
    "    \n",
    "    return out"
   ]
  },
  {
   "cell_type": "code",
   "execution_count": 45,
   "metadata": {},
   "outputs": [],
   "source": [
    "open = opening(otsu, time=1)"
   ]
  },
  {
   "cell_type": "code",
   "execution_count": 46,
   "metadata": {},
   "outputs": [],
   "source": [
    "cv2.imwrite('../picture/chan_result49_opening.jpg', open)\n",
    "cv2.namedWindow(\"result\", 0);\n",
    "cv2.resizeWindow(\"result\", (600, 600));\n",
    "cv2.imshow(\"result\", open)\n",
    "cv2.waitKey(0)\n",
    "cv2.destroyAllWindows()"
   ]
  },
  {
   "cell_type": "markdown",
   "metadata": {},
   "source": [
    "# 50-闭运算（Closing Operation）"
   ]
  },
  {
   "cell_type": "markdown",
   "metadata": {},
   "source": [
    "Canny边缘检测之后，进行$N=1$的闭处理吧。\n",
    "\n",
    "闭运算，即先进行$N$次膨胀再进行$N$次腐蚀。\n",
    "\n",
    "闭运算能够将中断的像素连接起来。"
   ]
  },
  {
   "cell_type": "code",
   "execution_count": 57,
   "metadata": {},
   "outputs": [],
   "source": [
    "def closing(img, time):\n",
    "    \n",
    "    out = Erode_code(img, time)\n",
    "    out = Dilate_code(out, time)\n",
    "    \n",
    "    return out"
   ]
  },
  {
   "cell_type": "code",
   "execution_count": 60,
   "metadata": {},
   "outputs": [],
   "source": [
    "edge = cv2.imread(\"../picture/chan_result43_edge.jpg\").astype(np.uint8)"
   ]
  },
  {
   "cell_type": "code",
   "execution_count": 62,
   "metadata": {},
   "outputs": [],
   "source": [
    "edge = BGR2GRAY(edge)"
   ]
  },
  {
   "cell_type": "code",
   "execution_count": 65,
   "metadata": {},
   "outputs": [],
   "source": [
    "# 读入Canny处理图片，希望白色边缘连接，即黑色部分先腐蚀，白色膨胀，与之前操作相反，则将图片黑白反转\n",
    "edge = 255 - edge"
   ]
  },
  {
   "cell_type": "code",
   "execution_count": 66,
   "metadata": {},
   "outputs": [],
   "source": [
    "close = closing(edge, time=1)"
   ]
  },
  {
   "cell_type": "code",
   "execution_count": 68,
   "metadata": {},
   "outputs": [],
   "source": [
    "cv2.imwrite('../picture/chan_result50_closing.jpg', close)\n",
    "cv2.namedWindow(\"result\", 0);\n",
    "cv2.resizeWindow(\"result\", (600, 600));\n",
    "cv2.imshow(\"result\", close)\n",
    "cv2.waitKey(0)\n",
    "cv2.destroyAllWindows()"
   ]
  },
  {
   "cell_type": "code",
   "execution_count": null,
   "metadata": {},
   "outputs": [],
   "source": []
  }
 ],
 "metadata": {
  "kernelspec": {
   "display_name": "Python 3",
   "language": "python",
   "name": "python3"
  },
  "language_info": {
   "codemirror_mode": {
    "name": "ipython",
    "version": 3
   },
   "file_extension": ".py",
   "mimetype": "text/x-python",
   "name": "python",
   "nbconvert_exporter": "python",
   "pygments_lexer": "ipython3",
   "version": "3.6.5"
  },
  "toc": {
   "base_numbering": 1,
   "nav_menu": {},
   "number_sections": false,
   "sideBar": true,
   "skip_h1_title": false,
   "title_cell": "Table of Contents",
   "title_sidebar": "Contents",
   "toc_cell": false,
   "toc_position": {},
   "toc_section_display": true,
   "toc_window_display": false
  }
 },
 "nbformat": 4,
 "nbformat_minor": 2
}
