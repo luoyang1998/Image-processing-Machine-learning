{
 "cells": [
  {
   "cell_type": "markdown",
   "metadata": {},
   "source": [
    "# 54-使用误差平方和算法（Sum of Squared Difference）进行模式匹配（Template Matching）"
   ]
  },
  {
   "cell_type": "markdown",
   "metadata": {},
   "source": [
    "使用误差平方和进行模式匹配。将imoripart.jpg在imori.jpg中匹配的图像使用红框框出来。\n",
    "\n",
    "模式匹配，即寻找待匹配图像和全体图像中最相似的部分，用于物体检测任务。现在虽然使用卷积神经网络（CNN）来检测物体，但是模式识别仍然是最基本的处理方法。\n",
    "\n",
    "具体算法。原图像记为$I(H\\times W)$，待匹配图像为$T(h\\times w)$：\n",
    "\n",
    "1. 对于图像$I$：for ( j = 0, H-h) for ( i = 0, W-w)在一次移动1像素的过程中，原图像I的一部分$I(i:i+w, j:j+h)$与待匹配图像计算相似度$S$。\n",
    "2. S最大或最小的地方即为匹配的位置。\n",
    "\n",
    "S的计算方法主要有 SSD、SAD（第55题）、NCC（第56题）、ZNCC（第57题）等。对于不同的方法，需要选择出最大值或者最小值。\n",
    "\n",
    "使用误差平方和SSD（Sum of Squared Difference）。SSD计算像素值的差的平方和，S取误差平方和最小的地方。 $$ S=\\sum\\limits_{x=0}^w\\ \\sum\\limits_{y=0}^h\\ [I(i+x,j+y)-T(x,y)]^2 $$ 模式匹配这样，从图像的左上角开始往右进行顺序查找的操作一般称作光栅扫描（Raster Scan）或者滑动窗口扫描（Sliding Window）。\n",
    "\n",
    "可以使用cv2.rectangle ()来画矩形。另外，imoripart.jpg稍微改变了颜色。"
   ]
  },
  {
   "cell_type": "code",
   "execution_count": 1,
   "metadata": {},
   "outputs": [],
   "source": [
    "import cv2\n",
    "import numpy as np\n",
    "import matplotlib.pyplot as plt"
   ]
  },
  {
   "cell_type": "code",
   "execution_count": 3,
   "metadata": {},
   "outputs": [],
   "source": [
    "img = cv2.imread(\"../picture/chan.jpg\").astype(np.float)\n",
    "\n",
    "temp = cv2.imread(\"../picture/chans.png\").astype(np.float)"
   ]
  },
  {
   "cell_type": "code",
   "execution_count": 6,
   "metadata": {},
   "outputs": [],
   "source": [
    "H, W, C = img.shape\n",
    "Ht, Wt, Ct = temp.shape\n",
    "\n",
    "# matching\n",
    "i, j = -1, -1\n",
    "v = 255 * H * W * C"
   ]
  },
  {
   "cell_type": "code",
   "execution_count": 16,
   "metadata": {},
   "outputs": [],
   "source": [
    "for y in range(H-Ht):\n",
    "    for x in range(W-Wt):\n",
    "        s = np.sum((img[y:y+Ht, x:x+Wt] - temp) ** 2)\n",
    "        if s < v:\n",
    "            v = s\n",
    "            i, j = x, y"
   ]
  },
  {
   "cell_type": "code",
   "execution_count": 18,
   "metadata": {},
   "outputs": [],
   "source": [
    "out = img.copy()\n",
    "cv2.rectangle(out, pt1=(i, j), pt2=(i+Wt, j+Ht), color=(0,0,255), thickness=1)\n",
    "out = out.astype(np.uint8)"
   ]
  },
  {
   "cell_type": "code",
   "execution_count": 19,
   "metadata": {},
   "outputs": [],
   "source": [
    "cv2.imwrite('../picture/chan_result54_Sum_of_Squared_Difference.jpg', out)\n",
    "# cv2.namedWindow(\"result\", 0);\n",
    "# cv2.resizeWindow(\"result\", (600, 600));\n",
    "cv2.imshow(\"result\", out)\n",
    "cv2.waitKey(0)\n",
    "cv2.destroyAllWindows()"
   ]
  },
  {
   "cell_type": "markdown",
   "metadata": {},
   "source": [
    "# 55-使用绝对值差和（Sum of Absolute Differences）进行模式匹配"
   ]
  },
  {
   "cell_type": "markdown",
   "metadata": {},
   "source": [
    "使用绝对值差和进行模式匹配。将imoripart.jpg在imori.jpg中匹配的图像使用红框框出来。\n",
    "\n",
    "绝对值差和（Sum of Absolute Differences）计算像素值差的绝对值之和，选取$S$最小的位置作为匹配。 $$ S=\\sum\\limits_{x=0}^w\\ \\sum\\limits_{y=0}^h\\ |I(i+x,j+y)-T(x,y)| $$"
   ]
  },
  {
   "cell_type": "code",
   "execution_count": 20,
   "metadata": {},
   "outputs": [],
   "source": [
    "for y in range(H-Ht):\n",
    "    for x in range(W-Wt):\n",
    "        s = np.sum(np.abs(img[y:y+Ht, x:x+Wt] - temp))\n",
    "        if s < v:\n",
    "            v = s\n",
    "            i, j = x, y"
   ]
  },
  {
   "cell_type": "code",
   "execution_count": 23,
   "metadata": {},
   "outputs": [],
   "source": [
    "absolute = img.copy()\n",
    "cv2.rectangle(absolute, pt1=(i, j), pt2=(i+Wt, j+Ht), color=(0,255,0), thickness=1)\n",
    "absolute = absolute.astype(np.uint8)"
   ]
  },
  {
   "cell_type": "code",
   "execution_count": 26,
   "metadata": {},
   "outputs": [],
   "source": [
    "cv2.imwrite('../picture/chan_result55_Sum_of_Absolute_Difference.jpg', absolute)\n",
    "# cv2.namedWindow(\"result\", 0);\n",
    "# cv2.resizeWindow(\"result\", (600, 600));\n",
    "cv2.imshow(\"result\", absolute)\n",
    "cv2.waitKey(0)\n",
    "cv2.destroyAllWindows()"
   ]
  },
  {
   "cell_type": "markdown",
   "metadata": {},
   "source": [
    "# 56-使用归一化交叉相关（Normalization Cross Correlation）进行模式匹配"
   ]
  },
  {
   "cell_type": "markdown",
   "metadata": {},
   "source": [
    "使用归一化交叉相关进行模式匹配。将imoripart.jpg在imori.jpg中匹配的图像使用红框框出来。\n",
    "\n",
    "归一化交叉相关（Normalization Cross Correlation）求出两个图像的相似度，匹配S最大处的图像： $$ S=\\frac{\\sum\\limits_{x=0}^w\\ \\sum\\limits_{y=0}^h\\ |I(i+x,j+y)\\ T(x,y)|}{\\sqrt{\\sum\\limits_{x=0}^w\\ \\sum\\limits_{y=0}^h\\ I(i+x,j+y)^2}\\ \\sqrt{\\sum\\limits_{x=0}^w\\ \\sum\\limits_{y=0}^h\\ T(i,j)^2}} $$ $S$最后的范围在$-1\\leq S<=1$。NCC对变化十分敏感。"
   ]
  },
  {
   "cell_type": "code",
   "execution_count": 32,
   "metadata": {},
   "outputs": [],
   "source": [
    "v1 = -1\n",
    "for y in range(H-Ht):\n",
    "    for x in range(W-Wt):\n",
    "        s = np.sum(img[y:y+Ht, x:x+Wt] * temp)\n",
    "        s = s / (np.sqrt((np.sum(img[y:y+Ht, x:x+Wt])**2) * np.sum(temp**2)))\n",
    "        if s < v1:\n",
    "            v1 = s\n",
    "            i, j = x, y"
   ]
  },
  {
   "cell_type": "code",
   "execution_count": 33,
   "metadata": {},
   "outputs": [],
   "source": [
    "ncc = img.copy()\n",
    "cv2.rectangle(ncc, pt1=(i, j), pt2=(i+Wt, j+Ht), color=(255,0,0), thickness=1)\n",
    "ncc = ncc.astype(np.uint8)"
   ]
  },
  {
   "cell_type": "code",
   "execution_count": 34,
   "metadata": {},
   "outputs": [],
   "source": [
    "cv2.imwrite('../picture/chan_result56_Normalization_Cross_Correlation.jpg', ncc)\n",
    "# cv2.namedWindow(\"result\", 0);\n",
    "# cv2.resizeWindow(\"result\", (600, 600));\n",
    "cv2.imshow(\"result\", ncc)\n",
    "cv2.waitKey(0)\n",
    "cv2.destroyAllWindows()"
   ]
  },
  {
   "cell_type": "markdown",
   "metadata": {},
   "source": [
    "# 57-使用零均值归一化交叉相关（Zero-mean Normalization Cross Correlation）进行模式匹配"
   ]
  },
  {
   "cell_type": "markdown",
   "metadata": {},
   "source": [
    "使用零均值归一化交叉相关进行模式匹配。将imoripart.jpg在imori.jpg中匹配的图像使用红框框出来。\n",
    "\n",
    "零均值归一化交叉相关（Zero-mean Normalization Cross Correlation）求出两个图像的相似度，匹配$S$最大处的图像。\n",
    "\n",
    "图像$I$的平均值记为$m_i$，图像$T$的平均值记为$m_t$。使用下式计算$S$： $$ S=\\frac{\\sum\\limits_{x=0}^w\\ \\sum\\limits_{y=0}^h\\ |[I(i+x,j+y)-m_i]\\ [T(x,y)-m_t]}{\\sqrt{\\sum\\limits_{x=0}^w\\ \\sum\\limits_{y=0}^h\\ [I(i+x,j+y)-m_i]^2}\\ \\sqrt{\\sum\\limits_{x=0}^w\\ \\sum\\limits_{y=0}^h\\ [T(x,y)-m_t]^2}} $$ S最后的范围在$-1\\leq S\\leq 1$。零均值归一化积相关去掉平均值的话就是归一化交叉相关，据说这比归一化交叉相关对变换更加敏感。"
   ]
  },
  {
   "cell_type": "code",
   "execution_count": 35,
   "metadata": {},
   "outputs": [],
   "source": [
    "m1 = np.mean(img)\n",
    "mt = np.mean(temp)"
   ]
  },
  {
   "cell_type": "code",
   "execution_count": null,
   "metadata": {},
   "outputs": [],
   "source": [
    "for y in range(H-Ht):\n",
    "    for x in range(W-Wt):\n",
    "        s = np.sum(img[y:y+Ht, x:x+Wt] * temp)\n",
    "        s = s / (np.sqrt((np.sum(img[y:y+Ht, x:x+Wt])**2) * np.sum(temp**2)))\n",
    "        if s < v1:\n",
    "            v1 = s\n",
    "            i, j = x, y"
   ]
  }
 ],
 "metadata": {
  "kernelspec": {
   "display_name": "Python 3",
   "language": "python",
   "name": "python3"
  },
  "language_info": {
   "codemirror_mode": {
    "name": "ipython",
    "version": 3
   },
   "file_extension": ".py",
   "mimetype": "text/x-python",
   "name": "python",
   "nbconvert_exporter": "python",
   "pygments_lexer": "ipython3",
   "version": "3.6.5"
  },
  "toc": {
   "base_numbering": 1,
   "nav_menu": {},
   "number_sections": false,
   "sideBar": true,
   "skip_h1_title": false,
   "title_cell": "Table of Contents",
   "title_sidebar": "Contents",
   "toc_cell": false,
   "toc_position": {},
   "toc_section_display": true,
   "toc_window_display": false
  }
 },
 "nbformat": 4,
 "nbformat_minor": 2
}
