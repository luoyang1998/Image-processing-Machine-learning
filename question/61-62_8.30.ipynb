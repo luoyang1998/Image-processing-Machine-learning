{
 "cells": [
  {
   "cell_type": "markdown",
   "metadata": {},
   "source": [
    "# 61-4连接数"
   ]
  },
  {
   "cell_type": "markdown",
   "metadata": {},
   "source": [
    "请根据$4-$连接数将renketsu.png上色。\n",
    "\n",
    "$4-$连接数可以用于显示附近像素的状态。通常，对于中心像素$x_0(x，y)$不为零的情况，邻域定义如下：\n",
    "\n",
    "$$ \\begin{matrix} x_4(x-1,y-1)& x_3(x,y-1)& x_2(x+1,y-1)\\ x_5(x-1,y) & x_0(x,y) & x_1(x+1,y)\\ x_6(x-1,y+1)& x_7(x,y+1)& x_8(x+1,y+1) \\end{matrix} $$ \n",
    "\n",
    "这里，$4-$连接数通过以下等式计算： $$ S = (x_1 - x_1\\ x_2\\ x_3) + (x_3 - x_3\\ x_4\\ x_5) + (x_5 - x_5\\ x_6\\ x_7) + (x_7 - x_7\\ x_8\\ x_1) $$ $S$的取值范围为$[0,4]$：\n",
    "\n",
    "$S = 0$： 内部点；\n",
    "$S = 1$：端点；\n",
    "$S = 2$：连接点；\n",
    "$S = 3$：分支点；\n",
    "$S = 4$：交叉点。"
   ]
  },
  {
   "cell_type": "code",
   "execution_count": 1,
   "metadata": {},
   "outputs": [],
   "source": [
    "import cv2\n",
    "import numpy as np\n",
    "import matplotlib.pyplot as plt"
   ]
  },
  {
   "cell_type": "code",
   "execution_count": 2,
   "metadata": {},
   "outputs": [],
   "source": [
    "img = cv2.imread(\"../picture/renketsu.png\").astype(np.float32)"
   ]
  },
  {
   "cell_type": "code",
   "execution_count": 5,
   "metadata": {},
   "outputs": [],
   "source": [
    "def connect_4(img):\n",
    "\n",
    "    H, W, C = img.shape\n",
    "    \n",
    "    tmp = np.zeros((H, W), dtype=np.int)\n",
    "\n",
    "    tmp[img[..., 0] > 0] = 1\n",
    "\n",
    "    out = np.zeros((H, W, 3), dtype=np.uint8)\n",
    "\n",
    "    for y in range(H):\n",
    "        for x in range(W):\n",
    "            if tmp[y, x] < 1:\n",
    "                continue\n",
    "\n",
    "            S = 0\n",
    "            S += (tmp[y,min(x+1,W-1)] - tmp[y,min(x+1,W-1)] * tmp[max(y-1,0),min(x+1,W-1)] * tmp[max(y-1,0),x])\n",
    "            S += (tmp[max(y-1,0),x] - tmp[max(y-1,0),x] * tmp[max(y-1,0),max(x-1,0)] * tmp[y,max(x-1,0)])\n",
    "            S += (tmp[y,max(x-1,0)] - tmp[y,max(x-1,0)] * tmp[min(y+1,H-1),max(x-1,0)] * tmp[min(y+1,H-1),x])\n",
    "            S += (tmp[min(y+1,H-1),x] - tmp[min(y+1,H-1),x] * tmp[min(y+1,H-1),min(x+1,W-1)] * tmp[y,min(x+1,W-1)])\n",
    "            \n",
    "            if S == 0:\n",
    "                out[y,x] = [0, 0, 255]\n",
    "            elif S == 1:\n",
    "                out[y,x] = [0, 255, 0]\n",
    "            elif S == 2:\n",
    "                out[y,x] = [255, 0, 0]\n",
    "            elif S == 3:\n",
    "                out[y,x] = [255, 255, 0]\n",
    "            elif S == 4:\n",
    "                out[y,x] = [255, 0, 255]\n",
    "                    \n",
    "    out = out.astype(np.uint8)\n",
    "\n",
    "    return out"
   ]
  },
  {
   "cell_type": "code",
   "execution_count": 7,
   "metadata": {},
   "outputs": [],
   "source": [
    "out = connect_4(img)"
   ]
  },
  {
   "cell_type": "code",
   "execution_count": 8,
   "metadata": {},
   "outputs": [],
   "source": [
    "cv2.imwrite(\"../picture/result61_4Connections.jpg\", out)\n",
    "cv2.imshow(\"result\", out)\n",
    "cv2.waitKey(0)\n",
    "cv2.destroyAllWindows()"
   ]
  },
  {
   "cell_type": "markdown",
   "metadata": {},
   "source": [
    "# 62-8连接数"
   ]
  },
  {
   "cell_type": "markdown",
   "metadata": {},
   "source": [
    "请根据$8-$连接数将renketsu.png上色。\n",
    "\n",
    "这里，$8-$连接数通过以下等式，将各个$x_*$的值反转$0$和$1$计算： \n",
    "\n",
    "$$ S = (x_1 - x_1\\ x_2\\ x_3) + (x_3 - x_3\\ x_4\\ x_5) + (x_5 - x_5\\ x_6\\ x_7) + (x_7 - x_7\\ x_8\\ x_1) $$"
   ]
  },
  {
   "cell_type": "code",
   "execution_count": 10,
   "metadata": {},
   "outputs": [],
   "source": [
    "def connect_8(img):\n",
    "\n",
    "    H, W, C = img.shape\n",
    "\n",
    "    _tmp = np.zeros((H, W), dtype=np.int)\n",
    "\n",
    "    _tmp[img[..., 0] > 0] = 1\n",
    "\n",
    "    # 反转0 1计算\n",
    "    tmp = 1 - _tmp\n",
    "\n",
    "    out = np.zeros((H, W, 3), dtype=np.uint8)\n",
    "\n",
    "    for y in range(H):\n",
    "        for x in range(W):\n",
    "            if _tmp[y, x] < 1:\n",
    "                continue\n",
    "\n",
    "            S = 0\n",
    "            S += (tmp[y,min(x+1,W-1)] - tmp[y,min(x+1,W-1)] * tmp[max(y-1,0),min(x+1,W-1)] * tmp[max(y-1,0),x])\n",
    "            S += (tmp[max(y-1,0),x] - tmp[max(y-1,0),x] * tmp[max(y-1,0),max(x-1,0)] * tmp[y,max(x-1,0)])\n",
    "            S += (tmp[y,max(x-1,0)] - tmp[y,max(x-1,0)] * tmp[min(y+1,H-1),max(x-1,0)] * tmp[min(y+1,H-1),x])\n",
    "            S += (tmp[min(y+1,H-1),x] - tmp[min(y+1,H-1),x] * tmp[min(y+1,H-1),min(x+1,W-1)] * tmp[y,min(x+1,W-1)])\n",
    "            \n",
    "            if S == 0:\n",
    "                out[y,x] = [0, 0, 255]\n",
    "            elif S == 1:\n",
    "                out[y,x] = [0, 255, 0]\n",
    "            elif S == 2:\n",
    "                out[y,x] = [255, 0, 0]\n",
    "            elif S == 3:\n",
    "                out[y,x] = [255, 255, 0]\n",
    "            elif S == 4:\n",
    "                out[y,x] = [255, 0, 255]\n",
    "                    \n",
    "    out = out.astype(np.uint8)\n",
    "\n",
    "    return out"
   ]
  },
  {
   "cell_type": "code",
   "execution_count": 11,
   "metadata": {},
   "outputs": [],
   "source": [
    "out = connect_8(img)"
   ]
  },
  {
   "cell_type": "code",
   "execution_count": null,
   "metadata": {},
   "outputs": [],
   "source": [
    "cv2.imwrite(\"../picture/result61_4Connections.jpg\", out)\n",
    "cv2.imshow(\"result\", out)\n",
    "cv2.waitKey(0)\n",
    "cv2.destroyAllWindows()"
   ]
  }
 ],
 "metadata": {
  "kernelspec": {
   "display_name": "Python 3",
   "language": "python",
   "name": "python3"
  },
  "language_info": {
   "codemirror_mode": {
    "name": "ipython",
    "version": 3
   },
   "file_extension": ".py",
   "mimetype": "text/x-python",
   "name": "python",
   "nbconvert_exporter": "python",
   "pygments_lexer": "ipython3",
   "version": "3.6.5"
  }
 },
 "nbformat": 4,
 "nbformat_minor": 2
}
