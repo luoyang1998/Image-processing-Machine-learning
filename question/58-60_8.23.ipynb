{
 "cells": [
  {
   "cell_type": "markdown",
   "metadata": {},
   "source": [
    "# 58-4-邻域连通域标记"
   ]
  },
  {
   "cell_type": "markdown",
   "metadata": {},
   "source": [
    "将seg.png进行$4-$邻域连通域标记\n",
    "\n",
    "连通域标记（Connected Component Labeling）是将邻接的像素打上相同的标记的作业。\n",
    "\n",
    "将相邻的白色像素打上相同的标记。\n",
    "\n",
    "像这样的像素组成的被标记的块被称为连通区域（Connected Component）。称为4邻域的像素打上标记。\n",
    "\n",
    "Lookup Table是这样的：\n",
    "\n",
    "Source\tDistination\n",
    "\n",
    "    1       1\n",
    "\n",
    "    2\t    2\n",
    "\n",
    "    3   \t1\n",
    "\n",
    "一开始被打上1标签的像素（即Source=1的像素）最终被分配到的标签为1（Distination=1）；一开始被打上3标签的像素（即Source =3的像素）最终被分配的的标签也为1（Distination=1）。\n",
    "\n",
    "算法如下：\n",
    "\n",
    "1. 从左上角开始进行光栅扫描。\n",
    "\n",
    "2. 如果当前遍历到的像素i(x,y)是黑像素的什么也不干。如果是白像素，考察该像素的上方像素i(x,y-1)和左边像素i(x-1,y)，如果两个的取值都为0，将该像素分配一个新的标签。\n",
    "\n",
    "3. 如果两个像素中有一个不为0（也就是说已经分配了标签），将上方和左边的像素分配的标签中数值较小的那一个（0除外）分配给当前遍历到的像素i(x,y)。在这里，将上方像素和左边像素的标签写入Lookup Table的Source，将当前遍历的像素i(x,y)分配的标签写入Distination。\n",
    "\n",
    "4. 对照Lookup Table，对像素分配的标签由Source变为Distination。\n",
    "\n",
    "邻接像素就可以打上同样的标签了。因为这里是做$4-$邻域连通域标记，所以只考察上方像素和左边像素。"
   ]
  },
  {
   "cell_type": "code",
   "execution_count": 1,
   "metadata": {},
   "outputs": [],
   "source": [
    "import cv2\n",
    "import numpy as np\n",
    "import matplotlib.pyplot as plt"
   ]
  },
  {
   "cell_type": "code",
   "execution_count": 2,
   "metadata": {},
   "outputs": [],
   "source": [
    "img = cv2.imread(\"../picture/seg.png\").astype(np.float32)"
   ]
  },
  {
   "cell_type": "code",
   "execution_count": 3,
   "metadata": {},
   "outputs": [],
   "source": [
    "H, W, C = img.shape\n",
    "\n",
    "label = np.zeros((H, W), dtype=np.int)\n",
    "label[img[...,0]>0] = 1"
   ]
  },
  {
   "cell_type": "code",
   "execution_count": 4,
   "metadata": {},
   "outputs": [],
   "source": [
    "LUT = [0 for _ in range(H*W)]\n",
    "n = 1"
   ]
  },
  {
   "cell_type": "code",
   "execution_count": 5,
   "metadata": {},
   "outputs": [],
   "source": [
    "for y in range(H):\n",
    "    for x in range(W):\n",
    "        if label[y, x] == 0:\n",
    "            continue\n",
    "        c3 = label[max(y-1,0), x]\n",
    "        c5 = label[y, max(x-1,0)]\n",
    "        if c3 < 2 and c5 < 2:\n",
    "            n += 1\n",
    "            label[y, x] = n\n",
    "        else:\n",
    "            _vs = [c3, c5]\n",
    "            vs = [a for a in _vs if a > 1]\n",
    "            v = min(vs)\n",
    "            label[y, x] = v\n",
    "            \n",
    "            minv = v\n",
    "            for _v in vs:\n",
    "                if LUT[_v] != 0:\n",
    "                    minv = min(minv, LUT[_v])\n",
    "            for _v in vs:\n",
    "                LUT[_v] = minv"
   ]
  },
  {
   "cell_type": "code",
   "execution_count": 6,
   "metadata": {},
   "outputs": [],
   "source": [
    "count = 1"
   ]
  },
  {
   "cell_type": "code",
   "execution_count": 7,
   "metadata": {},
   "outputs": [],
   "source": [
    "for l in range(2, n+1):\n",
    "    flag = True\n",
    "    for i in range(n+1):\n",
    "        if LUT[i] == l:\n",
    "            if flag:\n",
    "                count += 1\n",
    "                flag = False\n",
    "            LUT[i] = count"
   ]
  },
  {
   "cell_type": "code",
   "execution_count": 8,
   "metadata": {},
   "outputs": [],
   "source": [
    "COLORS = [[0, 0, 255], [0, 255, 0], [255, 0, 0], [255, 255, 0]]\n",
    "out = np.zeros((H, W, C), dtype=np.uint8)\n",
    "\n",
    "for i, lut in enumerate(LUT[2:]):\n",
    "    out[label == (i+2)] = COLORS[lut-2]"
   ]
  },
  {
   "cell_type": "code",
   "execution_count": 9,
   "metadata": {},
   "outputs": [],
   "source": [
    "cv2.imwrite(\"../picture/result58_4Connected Component.jpg\", out)\n",
    "cv2.imshow(\"result\", out)\n",
    "cv2.waitKey(0)\n",
    "cv2.destroyAllWindows()"
   ]
  },
  {
   "cell_type": "markdown",
   "metadata": {},
   "source": [
    "# 59-8邻域连通域标记"
   ]
  },
  {
   "cell_type": "markdown",
   "metadata": {},
   "source": [
    "要进行$8-$邻域连通域标记，我们需要考察i(x-1,y-1)，i(x, y-1)，i(x+1,y-1)，i(x-1,y)这4个像素"
   ]
  },
  {
   "cell_type": "code",
   "execution_count": 22,
   "metadata": {},
   "outputs": [],
   "source": [
    "img = cv2.imread(\"../picture/seg.png\").astype(np.float32)\n",
    "H, W, C = img.shape\n",
    "\n",
    "label = np.zeros((H, W), dtype=np.int)\n",
    "label[img[..., 0]>0] = 1\n",
    "\n",
    "LUT = [0 for _ in range(H*W)]\n",
    "\n",
    "n = 1"
   ]
  },
  {
   "cell_type": "code",
   "execution_count": 23,
   "metadata": {},
   "outputs": [],
   "source": [
    "for y in range(H):\n",
    "    for x in range(W):\n",
    "        if label[y, x] == 0:\n",
    "            continue\n",
    "        c2 = label[max(y-1,0), min(x+1, W-1)]\n",
    "        c3 = label[max(y-1,0), x]\n",
    "        c4 = label[max(y-1,0), max(x-1,0)]\n",
    "        c5 = label[y, max(x-1,0)]\n",
    "        if c3 < 2 and c5 < 2 and c2 < 2 and c4 < 2:\n",
    "            n += 1\n",
    "            label[y, x] = n\n",
    "        else:\n",
    "            _vs = [c3, c5, c2, c4]\n",
    "            vs = [a for a in _vs if a > 1]\n",
    "            v = min(vs)\n",
    "            label[y, x] = v\n",
    "\n",
    "            minv = v\n",
    "            for _v in vs:\n",
    "                if LUT[_v] != 0:\n",
    "                    minv = min(minv, LUT[_v])\n",
    "            for _v in vs:\n",
    "                LUT[_v] = minv"
   ]
  },
  {
   "cell_type": "code",
   "execution_count": 24,
   "metadata": {},
   "outputs": [],
   "source": [
    "count = 1"
   ]
  },
  {
   "cell_type": "code",
   "execution_count": 25,
   "metadata": {},
   "outputs": [],
   "source": [
    "for l in range(2, n+1):\n",
    "    flag = True\n",
    "    for i in range(n+1):\n",
    "        if LUT[i] == l:\n",
    "            if flag:\n",
    "                count += 1\n",
    "                flag = False\n",
    "            LUT[i] = count"
   ]
  },
  {
   "cell_type": "code",
   "execution_count": 26,
   "metadata": {},
   "outputs": [],
   "source": [
    "COLORS = [[0, 0, 255], [0, 255, 0], [255, 0, 0], [255, 255, 0]]\n",
    "out = np.zeros((H, W, C), dtype=np.uint8)\n",
    "\n",
    "for i, lut in enumerate(LUT[2:]):\n",
    "    out[label == (i+2)] = COLORS[lut-2]"
   ]
  },
  {
   "cell_type": "code",
   "execution_count": 27,
   "metadata": {},
   "outputs": [],
   "source": [
    "cv2.imwrite(\"../picture/result59_8Connected Component.jpg\", out)\n",
    "cv2.imshow(\"result\", out)\n",
    "cv2.waitKey(0)\n",
    "cv2.destroyAllWindows()"
   ]
  },
  {
   "cell_type": "markdown",
   "metadata": {},
   "source": [
    "# 60-透明混合（Alpha Blending）"
   ]
  },
  {
   "cell_type": "markdown",
   "metadata": {},
   "source": [
    "将两张图片按照$6:4$的比例透明混合\n",
    "\n",
    "透明混合即通过设定透明度（Alpha值）来设定图像透明度的方法。在OpenCV中虽然没有透明度这个参数，但在PIL等库中有。在这里我们手动设定透明度。\n",
    "\n",
    "将两张图片重合的时候，这个方法是有效的。\n",
    "\n",
    "将img1和img2按1:1的比例重合的时候，使用下面的式子。通过改变 Alpha 值，你可以更改两张图片重叠的权重\n",
    "\n",
    "$alpha = 0.5$\n",
    "\n",
    "$out = img1 * alpha + img2 * (1 - alpha)$"
   ]
  },
  {
   "cell_type": "code",
   "execution_count": 38,
   "metadata": {},
   "outputs": [],
   "source": [
    "img1 = cv2.imread('../picture/chans.png').astype(np.float32)\n",
    "img2 = cv2.imread('../picture/imori.jpg').astype(np.float32)"
   ]
  },
  {
   "cell_type": "code",
   "execution_count": 39,
   "metadata": {},
   "outputs": [
    {
     "data": {
      "text/plain": [
       "(128, 128, 3)"
      ]
     },
     "execution_count": 39,
     "metadata": {},
     "output_type": "execute_result"
    }
   ],
   "source": [
    "img1.shape"
   ]
  },
  {
   "cell_type": "code",
   "execution_count": 30,
   "metadata": {},
   "outputs": [],
   "source": [
    "alpha = 0.6"
   ]
  },
  {
   "cell_type": "code",
   "execution_count": 40,
   "metadata": {},
   "outputs": [],
   "source": [
    "out = img1 * alpha + img2 * (1 - alpha)\n",
    "out = out.astype(np.uint8)"
   ]
  },
  {
   "cell_type": "code",
   "execution_count": 41,
   "metadata": {},
   "outputs": [],
   "source": [
    "cv2.imwrite(\"../picture/result60_Alpha Blending.jpg\", out)\n",
    "cv2.imshow(\"result\", out)\n",
    "cv2.waitKey(0)\n",
    "cv2.destroyAllWindows()"
   ]
  },
  {
   "cell_type": "code",
   "execution_count": null,
   "metadata": {},
   "outputs": [],
   "source": []
  }
 ],
 "metadata": {
  "kernelspec": {
   "display_name": "Python 3",
   "language": "python",
   "name": "python3"
  },
  "language_info": {
   "codemirror_mode": {
    "name": "ipython",
    "version": 3
   },
   "file_extension": ".py",
   "mimetype": "text/x-python",
   "name": "python",
   "nbconvert_exporter": "python",
   "pygments_lexer": "ipython3",
   "version": "3.6.5"
  },
  "toc": {
   "base_numbering": 1,
   "nav_menu": {},
   "number_sections": false,
   "sideBar": true,
   "skip_h1_title": false,
   "title_cell": "Table of Contents",
   "title_sidebar": "Contents",
   "toc_cell": false,
   "toc_position": {},
   "toc_section_display": true,
   "toc_window_display": false
  }
 },
 "nbformat": 4,
 "nbformat_minor": 2
}
