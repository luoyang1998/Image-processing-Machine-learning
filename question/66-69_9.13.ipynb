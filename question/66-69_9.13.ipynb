{
 "cells": [
  {
   "cell_type": "markdown",
   "metadata": {},
   "source": [
    "# 66-方向梯度直方图（HOG）第一步：梯度幅值・梯度方向"
   ]
  },
  {
   "cell_type": "markdown",
   "metadata": {},
   "source": [
    "求 HOG 特征量的梯度幅值和梯度方向\n",
    "\n",
    "HOG（Histogram of Oriented Gradients）是一种表示图像特征量的方法。特征量是表示图像的状态等的向量集合。\n",
    "\n",
    "在图像识别（图像是什么）和检测（物体在图像中的哪个位置）中，我们需要：\n",
    "\n",
    "1. 从图像中获取特征量（特征提取）；\n",
    "2. 基于特征量识别和检测（识别和检测）。\n",
    "\n",
    "由于深度学习通过机器学习自动执行特征提取和识别，所以看不到 HOG，但在深度学习变得流行之前，HOG 经常被用作特征量表达。\n",
    "\n",
    "通过以下算法获得HOG：\n",
    "\n",
    "1. 图像灰度化之后，在x方向和y方向上求出亮度的梯度：\n",
    "\n",
    "$x$方向： $$ g_x=I(x+1,y)-I(x-1,y) $$\n",
    "\n",
    "$y$方向： $$ g_y=I(x,y+1)-I(x,y-1) $$\n",
    "\n",
    "2. 从$g_x$和$g_y$确定梯度幅值和梯度方向：\n",
    "\n",
    "梯度幅值：$$ mag=\\sqrt{{g_x}^2+{g_y}^2} $$\n",
    "\n",
    "梯度方向： $$ ang=\\arctan{\\frac{g_y}{g_x}} $$\n",
    "\n",
    "3. 将梯度方向$[0,180]$进行9等分量化。也就是说，对于$[0,20]$量化为 index 0，对于$[20,40]$量化为 index 1……\n",
    "\n",
    "4. 将图像划分为$N \\times N$个区域（该区域称为 cell），并作出 cell 内步骤3得到的 index 的直方图。\n",
    "\n",
    "5. C x C个 cell 被称为一个 block。对每个 block 内的 cell 的直方图通过下面的式子进行归一化。由于归一化过程中窗口一次移动一个 cell 来完成的，因此一个 cell 会被归一化多次，通常$\\epsilon=1$： $$ h(t)=\\frac{h(t)}{\\sqrt{\\sum\\ h(t)+\\epsilon}} $$\n",
    "\n",
    "以上，求出 HOG 特征值。\n",
    "\n",
    "这一问，我们完成步骤1到3。\n",
    "\n",
    "为了使示例答案更容易看出效果，gra是彩色的。此外，mag被归一化至$[0,255]$。"
   ]
  },
  {
   "cell_type": "code",
   "execution_count": 1,
   "metadata": {},
   "outputs": [],
   "source": [
    "import cv2\n",
    "import numpy as np\n",
    "import matplotlib.pyplot as plt"
   ]
  },
  {
   "cell_type": "code",
   "execution_count": 8,
   "metadata": {},
   "outputs": [],
   "source": [
    "img = cv2.imread('../picture/chans.png').astype(np.float32)"
   ]
  },
  {
   "cell_type": "code",
   "execution_count": 38,
   "metadata": {},
   "outputs": [],
   "source": [
    "def RGB2GRAY(img):\n",
    "        gray = 0.2126 * img[..., 2] + 0.7152 * img[..., 1] + 0.0722 * img[..., 0]\n",
    "        return gray"
   ]
  },
  {
   "cell_type": "code",
   "execution_count": 20,
   "metadata": {},
   "outputs": [],
   "source": [
    "# 1.求亮度梯度\n",
    "def get_grad(gray):\n",
    "        \n",
    "    H, W = gray.shape\n",
    "\n",
    "    gray = np.pad(gray, (1, 1), 'edge')\n",
    "\n",
    "    gx = gray[1:H+1, 2:] - gray[1:H+1, :W]\n",
    "    gy = gray[2:, 1:W+1] - gray[:H, 1:W+1]\n",
    "    gx[gx == 0] = 1e-6\n",
    "\n",
    "    return gx, gy"
   ]
  },
  {
   "cell_type": "code",
   "execution_count": 21,
   "metadata": {},
   "outputs": [],
   "source": [
    "# 2.确定梯度方向和梯度幅值\n",
    "def get_MagGrag(gx, gy):\n",
    "        \n",
    "    magnitude = np.sqrt(gx ** 2 + gy ** 2)\n",
    "        \n",
    "    gradient = np.arctan(gy / gx)\n",
    "\n",
    "    gradient[gradient < 0] = np.pi / 2 + gradient[gradient < 0] + np.pi / 2\n",
    "\n",
    "    return magnitude, gradient"
   ]
  },
  {
   "cell_type": "code",
   "execution_count": 22,
   "metadata": {},
   "outputs": [],
   "source": [
    " # 3.量化\n",
    "def quantization(gradient):\n",
    "        \n",
    "    gradient_quantized = np.zeros_like(gradient, dtype=np.int)\n",
    "\n",
    "    d = np.pi / 9\n",
    "        \n",
    "    for i in range(9):\n",
    "        gradient_quantized[np.where((gradient >= d * i) & (gradient <= d * (i + 1)))] = i\n",
    "\n",
    "    return gradient_quantized"
   ]
  },
  {
   "cell_type": "code",
   "execution_count": 23,
   "metadata": {},
   "outputs": [],
   "source": [
    "# 进行1 2 3 步骤\n",
    "\n",
    "def HOG_step1(img):\n",
    "    \n",
    "    gray = RGB2GRAY(img)\n",
    "    \n",
    "    gx, gy = get_grad(gray)\n",
    "    \n",
    "    magnitude, gradient = get_MagGrag(gx, gy)\n",
    "    \n",
    "    gradient_quantized = quantization(gradient)\n",
    "    \n",
    "    return magnitude, gradient_quantized"
   ]
  },
  {
   "cell_type": "code",
   "execution_count": 24,
   "metadata": {},
   "outputs": [],
   "source": [
    "magnitude, gradient_quantized = HOG_step1(img)"
   ]
  },
  {
   "cell_type": "code",
   "execution_count": 25,
   "metadata": {},
   "outputs": [],
   "source": [
    "# 归一化梯度至 [0,255]\n",
    "\n",
    "_magnitude = (magnitude / magnitude.max() * 255).astype(np.uint8)"
   ]
  },
  {
   "cell_type": "code",
   "execution_count": 26,
   "metadata": {},
   "outputs": [],
   "source": [
    "H, W, C = img.shape\n",
    "out = np.zeros((H, W, 3), dtype=np.uint8)"
   ]
  },
  {
   "cell_type": "code",
   "execution_count": 27,
   "metadata": {},
   "outputs": [],
   "source": [
    "# 定义颜色\n",
    "C = [[255, 0, 0], [0, 255, 0], [0, 0, 255], [255, 255, 0], [255, 0, 255], [0, 255, 255],\n",
    "     [127, 127, 0], [127, 0, 127], [0, 127, 127]]"
   ]
  },
  {
   "cell_type": "code",
   "execution_count": 28,
   "metadata": {},
   "outputs": [],
   "source": [
    "# 是梯度图像展示为有颜色的\n",
    "\n",
    "for i in range(9):\n",
    "     out[gradient_quantized == i] = C[i]"
   ]
  },
  {
   "cell_type": "code",
   "execution_count": 29,
   "metadata": {},
   "outputs": [],
   "source": [
    "cv2.imwrite(\"../picture/result66_mag.jpg\", _magnitude)\n",
    "cv2.imwrite(\"../picture/result66_gra.jpg\", out)\n",
    "cv2.imshow(\"result\", out)\n",
    "cv2.waitKey(0)\n",
    "cv2.destroyAllWindows()"
   ]
  },
  {
   "cell_type": "markdown",
   "metadata": {},
   "source": [
    "# 67-方向梯度直方图（HOG）第二步：梯度直方图"
   ]
  },
  {
   "cell_type": "markdown",
   "metadata": {},
   "source": [
    "取$N=8$，$8 \\times 8$个像素为一个 cell，将每个 cell 的梯度幅值加到梯度方向的index处\n",
    "\n",
    "解答为按照下面的顺序排列索引对应的直方图： $$ \\begin{matrix} 1&2& 3\\ 4& 5& 6\\ 7& 8 &9 \\end{matrix} $$"
   ]
  },
  {
   "cell_type": "code",
   "execution_count": 30,
   "metadata": {},
   "outputs": [],
   "source": [
    "# 4.直方图\n",
    "\n",
    "def grad_histogram(gradient_quantized, magnitude, N=8):\n",
    "        \n",
    "        H, W = magnitude.shape\n",
    "\n",
    "        cell_N_H = H // N\n",
    "        cell_N_W = W // N\n",
    "        histogram = np.zeros((cell_N_H, cell_N_W, 9), dtype=np.float32)\n",
    "\n",
    "        for y in range(cell_N_H):\n",
    "            for x in range(cell_N_W):\n",
    "                for j in range(N):\n",
    "                    for i in range(N):\n",
    "                        histogram[y, x, gradient_quantized[y * 4 + j, x * 4 + i]] += magnitude[y * 4 + j, x * 4 + i]\n",
    "\n",
    "        return histogram"
   ]
  },
  {
   "cell_type": "code",
   "execution_count": 31,
   "metadata": {},
   "outputs": [],
   "source": [
    "# 进行1 2 3 4 步骤\n",
    "\n",
    "def HOG_step2(img):\n",
    "    \n",
    "    gray = RGB2GRAY(img)\n",
    "    \n",
    "    gx, gy = get_grad(gray)\n",
    "    \n",
    "    magnitude, gradient = get_MagGrag(gx, gy)\n",
    "    \n",
    "    gradient_quantized = quantization(gradient)\n",
    "    \n",
    "    histogram = grad_histogram(gradient_quantized, magnitude, N=8)\n",
    "    \n",
    "    return histogram"
   ]
  },
  {
   "cell_type": "code",
   "execution_count": 32,
   "metadata": {},
   "outputs": [],
   "source": [
    "histogram = HOG_step2(img)"
   ]
  },
  {
   "cell_type": "code",
   "execution_count": 33,
   "metadata": {},
   "outputs": [
    {
     "data": {
      "image/png": "[encoded data removed]",
      "text/plain": [
       "<Figure size 432x288 with 9 Axes>"
      ]
     },
     "metadata": {},
     "output_type": "display_data"
    }
   ],
   "source": [
    "for i in range(9):\n",
    "    plt.subplot(3,3,i+1)\n",
    "    plt.imshow(histogram[..., i])\n",
    "    plt.axis('off')\n",
    "    plt.xticks(color=\"None\")\n",
    "    plt.yticks(color=\"None\")\n",
    "    \n",
    "plt.savefig(\"../picture/result67_hist.jpg\")\n",
    "plt.show()"
   ]
  },
  {
   "cell_type": "markdown",
   "metadata": {},
   "source": [
    "# 68-方向梯度直方图（HOG）第三步：直方图归一化"
   ]
  },
  {
   "cell_type": "markdown",
   "metadata": {},
   "source": [
    "取$C=3$，将$3\\times 3$个 cell 看作一个 block，进行直方图归一化，通常$\\epsilon=1$： $$ h(t)=\\frac{h(t)}{\\sqrt{\\sum\\ h(t)+\\epsilon}} $$ 在此，得到HOG特征量"
   ]
  },
  {
   "cell_type": "code",
   "execution_count": 34,
   "metadata": {},
   "outputs": [],
   "source": [
    "# 5.直方图归一化\n",
    "\n",
    "def normalization(histogram, C=3, epsilon=1):\n",
    "    \n",
    "        cell_N_H, cell_N_W, _ = histogram.shape\n",
    "        \n",
    "        for y in range(cell_N_H):\n",
    "            for x in range(cell_N_W):\n",
    "                histogram[y, x] /= np.sqrt(np.sum(histogram[max(y - 1, 0) : min(y + 2, cell_N_H), max(x - 1, 0) : min(x + 2, cell_N_W)] ** 2) + epsilon)\n",
    "\n",
    "        return histogram"
   ]
  },
  {
   "cell_type": "code",
   "execution_count": 45,
   "metadata": {},
   "outputs": [],
   "source": [
    "def HOG_step3(img):\n",
    "    \n",
    "    gray = RGB2GRAY(img)\n",
    "\n",
    "    gx, gy = get_grad(gray)\n",
    "\n",
    "    magnitude, gradient = get_MagGrag(gx, gy)\n",
    "\n",
    "    gradient_quantized = quantization(gradient)\n",
    "\n",
    "    histogram = grad_histogram(gradient_quantized, magnitude)\n",
    "    \n",
    "    histogram = normalization(histogram)\n",
    "\n",
    "    return histogram"
   ]
  },
  {
   "cell_type": "code",
   "execution_count": 46,
   "metadata": {},
   "outputs": [],
   "source": [
    "histogram = HOG_step3(img)"
   ]
  },
  {
   "cell_type": "code",
   "execution_count": 47,
   "metadata": {},
   "outputs": [
    {
     "data": {
      "image/png": "[encoded data removed]",
      "text/plain": [
       "<Figure size 432x288 with 9 Axes>"
      ]
     },
     "metadata": {},
     "output_type": "display_data"
    }
   ],
   "source": [
    "for i in range(9):\n",
    "    plt.subplot(3,3,i+1)\n",
    "    plt.imshow(histogram[..., i])\n",
    "    plt.axis('off')\n",
    "    plt.xticks(color=\"None\")\n",
    "    plt.yticks(color=\"None\")\n",
    "    \n",
    "plt.savefig(\"../picture/result67_hist.jpg\")\n",
    "plt.show()"
   ]
  },
  {
   "cell_type": "markdown",
   "metadata": {},
   "source": [
    "# 69-方向梯度直方图（HOG）第四步：可视化特征量"
   ]
  },
  {
   "cell_type": "markdown",
   "metadata": {},
   "source": [
    "在这里将得到的特征量可视化。\n",
    "\n",
    "如果将特征量叠加在灰度化后的图像上，可以很容易看到外形。\n",
    "\n",
    "一个好的可视化的方法是这样的，为 cell 内的每个 index 的方向画一条线段，并且值越大，线段越白，值越小，线段越黑。"
   ]
  },
  {
   "cell_type": "code",
   "execution_count": 51,
   "metadata": {},
   "outputs": [],
   "source": [
    "def draw_HOG(img, histogram):\n",
    "\n",
    "    def draw(gray, histogram, N=8):\n",
    "\n",
    "        H, W = gray.shape\n",
    "        cell_N_H, cell_N_W, _ = histogram.shape\n",
    "        \n",
    "        out = gray[1 : H + 1, 1 : W + 1].copy().astype(np.uint8)\n",
    "\n",
    "        for y in range(cell_N_H):\n",
    "            for x in range(cell_N_W):\n",
    "                cx = x * N + N // 2\n",
    "                cy = y * N + N // 2\n",
    "                x1 = cx + N // 2 - 1\n",
    "                y1 = cy\n",
    "                x2 = cx - N // 2 + 1\n",
    "                y2 = cy\n",
    "                \n",
    "                h = histogram[y, x] / np.sum(histogram[y, x])\n",
    "                h /= h.max()\n",
    "        \n",
    "                for c in range(9):\n",
    "                \n",
    "                    # angle = (20 * c + 10 - 90) / 180. * np.pi\n",
    "                    # get angle\n",
    "                    angle = (20 * c + 10) / 180. * np.pi\n",
    "                    rx = int(np.sin(angle) * (x1 - cx) + np.cos(angle) * (y1 - cy) + cx)\n",
    "                    ry = int(np.cos(angle) * (x1 - cx) - np.cos(angle) * (y1 - cy) + cy)\n",
    "                    lx = int(np.sin(angle) * (x2 - cx) + np.cos(angle) * (y2 - cy) + cx)\n",
    "                    ly = int(np.cos(angle) * (x2 - cx) - np.cos(angle) * (y2 - cy) + cy)\n",
    "\n",
    "                    # color is HOG value\n",
    "                    c = int(255. * h[c])\n",
    "\n",
    "                    # draw line\n",
    "                    cv2.line(out, (lx, ly), (rx, ry), (c, c, c), thickness=1)\n",
    "\n",
    "        return out\n",
    "    \n",
    "    gray = RGB2GRAY(img)\n",
    "\n",
    "    # draw HOG\n",
    "    out = draw(gray, histogram)\n",
    "\n",
    "    return out"
   ]
  },
  {
   "cell_type": "code",
   "execution_count": 52,
   "metadata": {},
   "outputs": [],
   "source": [
    "out = draw_HOG(img, histogram)"
   ]
  },
  {
   "cell_type": "code",
   "execution_count": 53,
   "metadata": {},
   "outputs": [],
   "source": [
    "cv2.imwrite(\"../picture/result69_drawHOG.jpg\", out)\n",
    "cv2.imshow(\"result\", out)\n",
    "cv2.waitKey(0)\n",
    "cv2.destroyAllWindows()"
   ]
  },
  {
   "cell_type": "code",
   "execution_count": null,
   "metadata": {},
   "outputs": [],
   "source": []
  }
 ],
 "metadata": {
  "kernelspec": {
   "display_name": "Python 3",
   "language": "python",
   "name": "python3"
  },
  "language_info": {
   "codemirror_mode": {
    "name": "ipython",
    "version": 3
   },
   "file_extension": ".py",
   "mimetype": "text/x-python",
   "name": "python",
   "nbconvert_exporter": "python",
   "pygments_lexer": "ipython3",
   "version": "3.6.5"
  }
 },
 "nbformat": 4,
 "nbformat_minor": 2
}
