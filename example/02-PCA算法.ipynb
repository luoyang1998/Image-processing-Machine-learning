{
 "cells": [
  {
   "cell_type": "markdown",
   "id": "alert-enzyme",
   "metadata": {},
   "source": [
    "# 案例：使用PCA进行二维数据降维"
   ]
  },
  {
   "cell_type": "code",
   "execution_count": 1,
   "id": "voluntary-resistance",
   "metadata": {},
   "outputs": [],
   "source": [
    "import numpy as np\n",
    "import matplotlib.pyplot as plt\n",
    "import scipy.io as sio"
   ]
  },
  {
   "cell_type": "code",
   "execution_count": 3,
   "id": "liberal-weekend",
   "metadata": {},
   "outputs": [
    {
     "data": {
      "text/plain": [
       "(50, 2)"
      ]
     },
     "execution_count": 3,
     "metadata": {},
     "output_type": "execute_result"
    }
   ],
   "source": [
    "mat = sio.loadmat('E:/ML_NG/7-kmeans and PCA/data/ex7data1.mat')\n",
    "X = mat['X']\n",
    "X.shape"
   ]
  },
  {
   "cell_type": "code",
   "execution_count": 4,
   "id": "proprietary-mixture",
   "metadata": {},
   "outputs": [
    {
     "data": {
      "image/png": "[encoded data removed]",
      "text/plain": [
       "<Figure size 432x288 with 1 Axes>"
      ]
     },
     "metadata": {
      "needs_background": "light"
     },
     "output_type": "display_data"
    }
   ],
   "source": [
    "plt.scatter(X[:,0],X[:,1])\n",
    "plt.show()"
   ]
  },
  {
   "cell_type": "markdown",
   "id": "likely-preserve",
   "metadata": {},
   "source": [
    "# 对X去均值化"
   ]
  },
  {
   "cell_type": "code",
   "execution_count": 5,
   "id": "individual-matrix",
   "metadata": {},
   "outputs": [
    {
     "data": {
      "image/png": "[encoded data removed]",
      "text/plain": [
       "<Figure size 432x288 with 1 Axes>"
      ]
     },
     "metadata": {
      "needs_background": "light"
     },
     "output_type": "display_data"
    }
   ],
   "source": [
    "X_demean = X - np.mean(X,axis=0)  #按行取每列均值\n",
    "plt.scatter(X[:,0],X[:,1])\n",
    "plt.show()"
   ]
  },
  {
   "cell_type": "markdown",
   "id": "likely-fault",
   "metadata": {},
   "source": [
    "# 计算协方差矩阵"
   ]
  },
  {
   "cell_type": "code",
   "execution_count": 6,
   "id": "humanitarian-elephant",
   "metadata": {},
   "outputs": [
    {
     "data": {
      "text/plain": [
       "array([[1.34852518, 0.86535019],\n",
       "       [0.86535019, 1.02641621]])"
      ]
     },
     "execution_count": 6,
     "metadata": {},
     "output_type": "execute_result"
    }
   ],
   "source": [
    "C = X_demean.T @ X_demean / len(X)\n",
    "C"
   ]
  },
  {
   "cell_type": "markdown",
   "id": "fifty-transsexual",
   "metadata": {},
   "source": [
    "# 计算协方差矩阵特征值，特征向量"
   ]
  },
  {
   "cell_type": "code",
   "execution_count": 7,
   "id": "satisfactory-fault",
   "metadata": {},
   "outputs": [],
   "source": [
    "U,S,V = np.linalg.svd(C)"
   ]
  },
  {
   "cell_type": "code",
   "execution_count": 8,
   "id": "noticed-headset",
   "metadata": {},
   "outputs": [
    {
     "data": {
      "text/plain": [
       "array([2.06768062, 0.30726078])"
      ]
     },
     "execution_count": 8,
     "metadata": {},
     "output_type": "execute_result"
    }
   ],
   "source": [
    "S"
   ]
  },
  {
   "cell_type": "code",
   "execution_count": 9,
   "id": "eligible-lover",
   "metadata": {},
   "outputs": [
    {
     "data": {
      "text/plain": [
       "array([[-0.76908153, -0.63915068],\n",
       "       [-0.63915068,  0.76908153]])"
      ]
     },
     "execution_count": 9,
     "metadata": {},
     "output_type": "execute_result"
    }
   ],
   "source": [
    "U"
   ]
  },
  {
   "cell_type": "code",
   "execution_count": 10,
   "id": "cathedral-healthcare",
   "metadata": {},
   "outputs": [],
   "source": [
    "U1= U[:,0]"
   ]
  },
  {
   "cell_type": "markdown",
   "id": "dated-class",
   "metadata": {},
   "source": [
    "# 实现降维"
   ]
  },
  {
   "cell_type": "code",
   "execution_count": 11,
   "id": "polished-treasure",
   "metadata": {},
   "outputs": [],
   "source": [
    "X_reduction = X_demean @ U1"
   ]
  },
  {
   "cell_type": "code",
   "execution_count": 17,
   "id": "living-terrain",
   "metadata": {},
   "outputs": [
    {
     "data": {
      "image/png": "[encoded data removed]",
      "text/plain": [
       "<Figure size 504x504 with 1 Axes>"
      ]
     },
     "metadata": {
      "needs_background": "light"
     },
     "output_type": "display_data"
    }
   ],
   "source": [
    "plt.figure(figsize=(7,7))\n",
    "\n",
    "plt.scatter(X_demean[:,0],X_demean[:,1])\n",
    "plt.plot([0,U1[0]],[0,U1[1]],c='r')\n",
    "plt.plot([0,U[:,1][0]],[0,U[:,1][1]],c='k')\n",
    "plt.show()"
   ]
  },
  {
   "cell_type": "markdown",
   "id": "anticipated-third",
   "metadata": {},
   "source": [
    "# 还原数据"
   ]
  },
  {
   "cell_type": "code",
   "execution_count": 20,
   "id": "artificial-prescription",
   "metadata": {},
   "outputs": [],
   "source": [
    "X_restore= X_reduction.reshape(50,1)@U1.reshape(1,2) + np.mean(X,axis=0)"
   ]
  },
  {
   "cell_type": "code",
   "execution_count": 18,
   "id": "blind-grove",
   "metadata": {},
   "outputs": [
    {
     "data": {
      "text/plain": [
       "((50,), (2,))"
      ]
     },
     "execution_count": 18,
     "metadata": {},
     "output_type": "execute_result"
    }
   ],
   "source": [
    "X_reduction.shape,U1.shape"
   ]
  },
  {
   "cell_type": "code",
   "execution_count": 21,
   "id": "virgin-version",
   "metadata": {},
   "outputs": [
    {
     "data": {
      "image/png": "[encoded data removed]",
      "text/plain": [
       "<Figure size 432x288 with 1 Axes>"
      ]
     },
     "metadata": {
      "needs_background": "light"
     },
     "output_type": "display_data"
    }
   ],
   "source": [
    "plt.scatter(X[:,0],X[:,1])\n",
    "plt.scatter(X_restore[:,0],X_restore[:,1])\n",
    "plt.show()"
   ]
  },
  {
   "cell_type": "code",
   "execution_count": null,
   "id": "frequent-sellers",
   "metadata": {},
   "outputs": [],
   "source": []
  }
 ],
 "metadata": {
  "kernelspec": {
   "display_name": "Python 3",
   "language": "python",
   "name": "python3"
  },
  "language_info": {
   "codemirror_mode": {
    "name": "ipython",
    "version": 3
   },
   "file_extension": ".py",
   "mimetype": "text/x-python",
   "name": "python",
   "nbconvert_exporter": "python",
   "pygments_lexer": "ipython3",
   "version": "3.6.5"
  },
  "toc": {
   "base_numbering": 1,
   "nav_menu": {},
   "number_sections": true,
   "sideBar": true,
   "skip_h1_title": false,
   "title_cell": "Table of Contents",
   "title_sidebar": "Contents",
   "toc_cell": false,
   "toc_position": {},
   "toc_section_display": true,
   "toc_window_display": false
  }
 },
 "nbformat": 4,
 "nbformat_minor": 5
}
