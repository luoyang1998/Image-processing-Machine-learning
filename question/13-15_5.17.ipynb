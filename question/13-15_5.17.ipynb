{
 "cells": [
  {
   "cell_type": "markdown",
   "metadata": {},
   "source": [
    "# 13 MAX-MIN滤波器"
   ]
  },
  {
   "cell_type": "markdown",
   "metadata": {},
   "source": [
    "使用MAX-MIN滤波器来进行滤波\n",
    "\n",
    "MAX-MIN滤波器使用网格内像素的最大值和最小值的差值对网格内像素重新赋值。通常用于边缘检测。\n",
    "\n",
    "边缘检测用于检测图像中的线。像这样提取图像中的信息的操作被称为特征提取。\n",
    "\n",
    "边缘检测通常在灰度图像上进行。"
   ]
  },
  {
   "cell_type": "code",
   "execution_count": 4,
   "metadata": {},
   "outputs": [],
   "source": [
    "import cv2\n",
    "import numpy as np"
   ]
  },
  {
   "cell_type": "code",
   "execution_count": 27,
   "metadata": {},
   "outputs": [],
   "source": [
    "# 读取灰度图\n",
    "# 直接读入默认读成三通道\n",
    "\n",
    "img = cv2.imread('../picture/chan_gray.jpg',0)"
   ]
  },
  {
   "cell_type": "code",
   "execution_count": 28,
   "metadata": {},
   "outputs": [
    {
     "data": {
      "text/plain": [
       "(540, 540)"
      ]
     },
     "execution_count": 28,
     "metadata": {},
     "output_type": "execute_result"
    }
   ],
   "source": [
    "img.shape"
   ]
  },
  {
   "cell_type": "code",
   "execution_count": 31,
   "metadata": {},
   "outputs": [],
   "source": [
    "def max_min(img, K_size):\n",
    "    \n",
    "    h, w = img.shape\n",
    "    \n",
    "    # Zero padding\n",
    "    pad = K_size // 2\n",
    "    out = np.zeros((h + pad * 2, w + pad * 2), dtype=np.float)\n",
    "    out[pad: pad + h, pad: pad + w] = img.copy().astype(np.float)\n",
    "    tmp = out.copy()\n",
    "    \n",
    "    # 滤波\n",
    "    for y in range(h):\n",
    "        for x in range(w):\n",
    "            out[pad + y, pad + x] = np.max(tmp[y: y + K_size, x: x + K_size]) - np.min(tmp[y: y + K_size, x: x + K_size])\n",
    "\n",
    "    out = out[pad: pad + h, pad: pad + w].astype(np.uint8)\n",
    "\n",
    "    return out"
   ]
  },
  {
   "cell_type": "code",
   "execution_count": 32,
   "metadata": {},
   "outputs": [],
   "source": [
    "img_maxmin = max_min(img, K_size=7)"
   ]
  },
  {
   "cell_type": "code",
   "execution_count": 33,
   "metadata": {},
   "outputs": [],
   "source": [
    "cv2.imwrite('../picture/chan_result13_maxmain_filter.jpg', img_maxmin)\n",
    "cv2.namedWindow(\"result\", 0);\n",
    "cv2.resizeWindow(\"result\", (600, 600));\n",
    "cv2.imshow(\"result\", img_maxmin)\n",
    "cv2.waitKey(0)\n",
    "cv2.destroyAllWindows()"
   ]
  },
  {
   "cell_type": "markdown",
   "metadata": {},
   "source": [
    "# 14 差分滤波器(Differential Filter)"
   ]
  },
  {
   "cell_type": "markdown",
   "metadata": {},
   "source": [
    "使用$3\\times3$的差分滤波器来进行滤波。\n",
    "\n",
    "差分滤波器对图像亮度急剧变化的边缘有提取效果，可以获得邻接像素的差值。\n",
    "\n",
    "纵向： $$ K=\\left[ \\begin{matrix} 0&-1&0\\ 0&1&0\\ 0&0&0 \\end{matrix} \\right] $$ 横向： $$ K=\\left[ \\begin{matrix} 0&0&0\\ -1&1&0\\ 0&0&0 \\end{matrix} \\right] $$"
   ]
  },
  {
   "cell_type": "code",
   "execution_count": 37,
   "metadata": {},
   "outputs": [],
   "source": [
    "def differential_filter(img, K_size):\n",
    "    \n",
    "    h, w = img.shape\n",
    "    \n",
    "    # Zero padding\n",
    "    pad = K_size // 2\n",
    "    out = np.zeros((h + pad * 2, w + pad * 2), dtype=np.float)\n",
    "    out[pad: pad + h, pad: pad + w] = img.copy().astype(np.float)\n",
    "    tmp = out.copy()\n",
    "    \n",
    "    out_v = out.copy()\n",
    "    out_h = out.copy()\n",
    "\n",
    "    # 纵向\n",
    "    Kv = [[0., -1., 0.],[0., 1., 0.],[0., 0., 0.]]\n",
    "    # 横向\n",
    "    Kh = [[0., 0., 0.],[-1., 1., 0.], [0., 0., 0.]]\n",
    "\n",
    "    # 滤波\n",
    "    for y in range(h):\n",
    "        for x in range(w):\n",
    "            out_v[pad + y, pad + x] = np.sum(Kv * (tmp[y: y + K_size, x: x + K_size]))\n",
    "            out_h[pad + y, pad + x] = np.sum(Kh * (tmp[y: y + K_size, x: x + K_size]))\n",
    "\n",
    "    out_v = np.clip(out_v, 0, 255)\n",
    "    out_h = np.clip(out_h, 0, 255)\n",
    "\n",
    "    out_v = out_v[pad: pad + h, pad: pad + w].astype(np.uint8)\n",
    "    out_h = out_h[pad: pad + h, pad: pad + w].astype(np.uint8)\n",
    "\n",
    "    return out_v, out_h"
   ]
  },
  {
   "cell_type": "code",
   "execution_count": 39,
   "metadata": {},
   "outputs": [],
   "source": [
    "out_v, out_h = differential_filter(img, K_size = 3)"
   ]
  },
  {
   "cell_type": "code",
   "execution_count": 40,
   "metadata": {},
   "outputs": [],
   "source": [
    "cv2.imwrite('../picture/chan_result14_diff_v_filter.jpg', out_v)\n",
    "cv2.namedWindow(\"result\", 0);\n",
    "cv2.resizeWindow(\"result\", (600, 600));\n",
    "cv2.imshow(\"result\", out_v)\n",
    "cv2.waitKey(0)\n",
    "cv2.destroyAllWindows()"
   ]
  },
  {
   "cell_type": "code",
   "execution_count": 41,
   "metadata": {},
   "outputs": [],
   "source": [
    "cv2.imwrite('../picture/chan_result14_diff_h_filter.jpg', out_h)\n",
    "cv2.namedWindow(\"result\", 0);\n",
    "cv2.resizeWindow(\"result\", (600, 600));\n",
    "cv2.imshow(\"result\", out_h)\n",
    "cv2.waitKey(0)\n",
    "cv2.destroyAllWindows()"
   ]
  },
  {
   "cell_type": "markdown",
   "metadata": {},
   "source": [
    "# 15 Sobel滤波器"
   ]
  },
  {
   "cell_type": "markdown",
   "metadata": {},
   "source": [
    "使用$3\\times3$的Sobel滤波器来进行滤波。\n",
    "\n",
    "Sobel滤波器可以提取特定方向（纵向或横向）的边缘，滤波器按下式定义：\n",
    "\n",
    "纵向： $$ K=\\left[ \\begin{matrix} 1&2&1\\ 0&0&0\\ -1&-2&-1 \\end{matrix} \\right] $$ 横向： $$ K=\\left[ \\begin{matrix} 1&0&-1\\ 2&0&-2\\ 1&0&-1 \\end{matrix} \\right] $$"
   ]
  },
  {
   "cell_type": "code",
   "execution_count": 45,
   "metadata": {},
   "outputs": [],
   "source": [
    "def sobel_filter(img, K_size):\n",
    "    \n",
    "    h, w = img.shape\n",
    "    \n",
    "    # Zero padding\n",
    "    pad = K_size // 2\n",
    "    out = np.zeros((h + pad * 2, w + pad * 2), dtype=np.float)\n",
    "    out[pad: pad + h, pad: pad + w] = img.copy().astype(np.float)\n",
    "    tmp = out.copy()\n",
    "\n",
    "    out_v = out.copy()\n",
    "    out_h = out.copy()\n",
    "\n",
    "    # Sobel 纵向\n",
    "    Kv = [[1., 2., 1.],[0., 0., 0.], [-1., -2., -1.]]\n",
    "    # Sobel 横向\n",
    "    Kh = [[1., 0., -1.],[2., 0., -2.],[1., 0., -1.]]\n",
    "\n",
    "    # 滤波\n",
    "    for y in range(h):\n",
    "        for x in range(w):\n",
    "            out_v[pad + y, pad + x] = np.sum(Kv * (tmp[y: y + K_size, x: x + K_size]))\n",
    "            out_h[pad + y, pad + x] = np.sum(Kh * (tmp[y: y + K_size, x: x + K_size]))\n",
    "\n",
    "    out_v = np.clip(out_v, 0, 255)\n",
    "    out_h = np.clip(out_h, 0, 255)\n",
    "\n",
    "    out_v = out_v[pad: pad + h, pad: pad + w].astype(np.uint8)\n",
    "    out_h = out_h[pad: pad + h, pad: pad + w].astype(np.uint8)\n",
    "\n",
    "    return out_v, out_h"
   ]
  },
  {
   "cell_type": "code",
   "execution_count": 46,
   "metadata": {},
   "outputs": [],
   "source": [
    "out_v, out_h = sobel_filter(img, K_size = 3)"
   ]
  },
  {
   "cell_type": "code",
   "execution_count": 47,
   "metadata": {},
   "outputs": [],
   "source": [
    "cv2.imwrite('../picture/chan_result15_sobel_v_filter.jpg', out_v)\n",
    "cv2.namedWindow(\"result\", 0);\n",
    "cv2.resizeWindow(\"result\", (600, 600));\n",
    "cv2.imshow(\"result\", out_v)\n",
    "cv2.waitKey(0)\n",
    "cv2.destroyAllWindows()"
   ]
  },
  {
   "cell_type": "code",
   "execution_count": 48,
   "metadata": {},
   "outputs": [],
   "source": [
    "cv2.imwrite('../picture/chan_result15_sobel_h_filter.jpg', out_h)\n",
    "cv2.namedWindow(\"result\", 0);\n",
    "cv2.resizeWindow(\"result\", (600, 600));\n",
    "cv2.imshow(\"result\", out_h)\n",
    "cv2.waitKey(0)\n",
    "cv2.destroyAllWindows()"
   ]
  },
  {
   "cell_type": "code",
   "execution_count": null,
   "metadata": {},
   "outputs": [],
   "source": []
  }
 ],
 "metadata": {
  "kernelspec": {
   "display_name": "Python 3",
   "language": "python",
   "name": "python3"
  },
  "language_info": {
   "codemirror_mode": {
    "name": "ipython",
    "version": 3
   },
   "file_extension": ".py",
   "mimetype": "text/x-python",
   "name": "python",
   "nbconvert_exporter": "python",
   "pygments_lexer": "ipython3",
   "version": "3.6.5"
  },
  "toc": {
   "base_numbering": 1,
   "nav_menu": {},
   "number_sections": true,
   "sideBar": true,
   "skip_h1_title": false,
   "title_cell": "Table of Contents",
   "title_sidebar": "Contents",
   "toc_cell": false,
   "toc_position": {},
   "toc_section_display": true,
   "toc_window_display": false
  }
 },
 "nbformat": 4,
 "nbformat_minor": 2
}
