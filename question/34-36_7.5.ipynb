{
 "cells": [
  {
   "cell_type": "markdown",
   "metadata": {},
   "source": [
    "# 34-傅立叶变换——高通滤波"
   ]
  },
  {
   "cell_type": "markdown",
   "metadata": {},
   "source": [
    "将图像灰度化之后进行傅立叶变换并进行高通滤波，之后再用傅立叶逆变换复原\n",
    "\n",
    "在这里，我们使用可以去除低频部分，只保留高频部分的高通滤波器。假设从低频的中心到高频的距离为$r$，我们保留$0.2\\ r$​的低频分量。"
   ]
  },
  {
   "cell_type": "code",
   "execution_count": 1,
   "metadata": {},
   "outputs": [],
   "source": [
    "import numpy as np\n",
    "import cv2\n",
    "import matplotlib.pyplot as plt"
   ]
  },
  {
   "cell_type": "code",
   "execution_count": 2,
   "metadata": {},
   "outputs": [],
   "source": [
    "# DFT hyper-parameters\n",
    "K, L = 64, 64\n",
    "channel = 3"
   ]
  },
  {
   "cell_type": "code",
   "execution_count": 3,
   "metadata": {},
   "outputs": [],
   "source": [
    "# DFT\n",
    "def dft(img):\n",
    "    H, W, C = img.shape\n",
    "\n",
    "    G = np.zeros((L, K, channel), dtype=np.complex)\n",
    "    # np.complex创建一个值为 real+imag*j的复数或者转化为一个字符串或数为复数？？\n",
    "\n",
    "    # 准备对应于原始图像位置的处理过的索引\n",
    "    x = np.tile(np.arange(W), (H, 1))\n",
    "    y = np.arange(H).repeat(W).reshape(H, -1)\n",
    "\n",
    "    # dft\n",
    "    for c in range(channel):\n",
    "            for l in range(L):\n",
    "                for k in range(K):\n",
    "                    G[l, k, c] = np.sum(img[..., c] * np.exp(-2j * np.pi * (x * k / K + y * l / L))) / np.sqrt(K * L)\n",
    "\n",
    "    return G"
   ]
  },
  {
   "cell_type": "code",
   "execution_count": 4,
   "metadata": {},
   "outputs": [],
   "source": [
    "# IDFT\n",
    "def idft(G):\n",
    "    H, W, _ = G.shape\n",
    "    out = np.zeros((H, W, channel), dtype=np.float32)\n",
    "\n",
    "    # 准备对应于原始图像位置的处理过的索引\n",
    "    x = np.tile(np.arange(W), (H, 1))\n",
    "    y = np.arange(H).repeat(W).reshape(H, -1)\n",
    "\n",
    "    # idft\n",
    "    for c in range(channel):\n",
    "            for l in range(H):\n",
    "                for k in range(W):\n",
    "                    out[l, k, c] = np.abs(np.sum(G[..., c] * np.exp(2j * np.pi * (x * k / W + y * l / H)))) / np.sqrt(W * H)\n",
    "\n",
    "    out = np.clip(out, 0, 255)\n",
    "    out = out.astype(np.uint8)\n",
    "\n",
    "    return out"
   ]
  },
  {
   "cell_type": "code",
   "execution_count": 5,
   "metadata": {},
   "outputs": [],
   "source": [
    "# HPF\n",
    "def hpf(G, ratio=0.5):\n",
    "    H, W, C = G.shape\n",
    "\n",
    "    _G = np.zeros_like(G)\n",
    "    _G[:H//2, :W//2] = G[H//2:, W//2:]\n",
    "    _G[:H//2, W//2:] = G[H//2:, :W//2]\n",
    "    _G[H//2:, :W//2] = G[:H//2, W//2:]\n",
    "    _G[H//2:, W//2:] = G[:H//2, :W//2]\n",
    "\n",
    "    x = np.tile(np.arange(W), (H, 1))\n",
    "    y = np.arange(H).repeat(W).reshape(H, -1)\n",
    "\n",
    "    # 滤波器\n",
    "    _x = x - W // 2\n",
    "    _y = y - H // 2\n",
    "    r = np.sqrt(_x ** 2 + _y ** 2)\n",
    "    mask = np.ones((H, W), dtype=np.float32)\n",
    "    mask[r < (W // 2 * ratio)] = 0\n",
    "\n",
    "    mask = np.repeat(mask, channel).reshape(H, W, channel)\n",
    "\n",
    "    # filtering\n",
    "    _G *= mask\n",
    "\n",
    "    G[:H//2, :W//2] = _G[H//2:, W//2:]\n",
    "    G[:H//2, W//2:] = _G[H//2:, :W//2]\n",
    "    G[H//2:, :W//2] = _G[:H//2, W//2:]\n",
    "    G[H//2:, W//2:] = _G[:H//2, :W//2]\n",
    "\n",
    "    return G"
   ]
  },
  {
   "cell_type": "code",
   "execution_count": 8,
   "metadata": {},
   "outputs": [],
   "source": [
    "img = cv2.imread('../picture/chan_small.jpg').astype(np.float32)"
   ]
  },
  {
   "cell_type": "code",
   "execution_count": 9,
   "metadata": {},
   "outputs": [],
   "source": [
    "img_ = dft(img)"
   ]
  },
  {
   "cell_type": "code",
   "execution_count": 10,
   "metadata": {},
   "outputs": [],
   "source": [
    "img_hpf = hpf(img_)"
   ]
  },
  {
   "cell_type": "code",
   "execution_count": 11,
   "metadata": {},
   "outputs": [],
   "source": [
    "img_hpf = idft(img_hpf)"
   ]
  },
  {
   "cell_type": "code",
   "execution_count": 12,
   "metadata": {},
   "outputs": [],
   "source": [
    "cv2.imwrite('../picture/chan_result34_hpf.jpg', img_hpf)\n",
    "cv2.namedWindow(\"result\", 0);\n",
    "cv2.resizeWindow(\"result\", (600, 600));\n",
    "cv2.imshow(\"result\", img_hpf)\n",
    "cv2.waitKey(0)\n",
    "cv2.destroyAllWindows()"
   ]
  },
  {
   "cell_type": "markdown",
   "metadata": {},
   "source": [
    "# 35-傅立叶变换——带通滤波"
   ]
  },
  {
   "cell_type": "markdown",
   "metadata": {},
   "source": [
    "将图像灰度化之后进行傅立叶变换并进行带通滤波，之后再用傅立叶逆变换复原\n",
    "\n",
    "在这里，我们使用可以保留介于低频成分和高频成分之间的分量的带通滤波器。在这里，我们使用可以去除低频部分，只保留高频部分的高通滤波器。假设从低频的中心到高频的距离为$r$，我们保留$0.1\\ r$至$0.5\\ r$的分量。"
   ]
  },
  {
   "cell_type": "code",
   "execution_count": 13,
   "metadata": {},
   "outputs": [],
   "source": [
    "# BPF\n",
    "def bpf(G, ratio1=0.2, ratio2=0.8):\n",
    "    H, W, C = G.shape\n",
    "\n",
    "    _G = np.zeros_like(G)\n",
    "    _G[:H//2, :W//2] = G[H//2:, W//2:]\n",
    "    _G[:H//2, W//2:] = G[H//2:, :W//2]\n",
    "    _G[H//2:, :W//2] = G[:H//2, W//2:]\n",
    "    _G[H//2:, W//2:] = G[:H//2, :W//2]\n",
    "\n",
    "    x = np.tile(np.arange(W), (H, 1))\n",
    "    y = np.arange(H).repeat(W).reshape(H, -1)\n",
    "\n",
    "    # 滤波器\n",
    "    _x = x - W // 2\n",
    "    _y = y - H // 2\n",
    "    r = np.sqrt(_x ** 2 + _y ** 2)\n",
    "    mask = np.ones((H, W), dtype=np.float32)\n",
    "    mask[(r < (W // 2 * ratio1)) | (r > (W // 2 * ratio2))] = 0\n",
    "\n",
    "    mask = np.repeat(mask, channel).reshape(H, W, channel)\n",
    "\n",
    "    # filtering\n",
    "    _G *= mask\n",
    "\n",
    "    G[:H//2, :W//2] = _G[H//2:, W//2:]\n",
    "    G[:H//2, W//2:] = _G[H//2:, :W//2]\n",
    "    G[H//2:, :W//2] = _G[:H//2, W//2:]\n",
    "    G[H//2:, W//2:] = _G[:H//2, :W//2]\n",
    "\n",
    "    return G"
   ]
  },
  {
   "cell_type": "code",
   "execution_count": 14,
   "metadata": {},
   "outputs": [],
   "source": [
    "img_ = bpf(img_)"
   ]
  },
  {
   "cell_type": "code",
   "execution_count": 15,
   "metadata": {},
   "outputs": [],
   "source": [
    "img_bpf = idft(img_)"
   ]
  },
  {
   "cell_type": "code",
   "execution_count": 16,
   "metadata": {},
   "outputs": [],
   "source": [
    "cv2.imwrite('../picture/chan_result35_bpf.jpg', img_bpf)\n",
    "cv2.namedWindow(\"result\", 0);\n",
    "cv2.resizeWindow(\"result\", (600, 600));\n",
    "cv2.imshow(\"result\", img_bpf)\n",
    "cv2.waitKey(0)\n",
    "cv2.destroyAllWindows()"
   ]
  },
  {
   "cell_type": "markdown",
   "metadata": {},
   "source": [
    "# 36-JPEG 压缩——第一步：离散余弦变换（Discrete Cosine Transformation）"
   ]
  },
  {
   "cell_type": "markdown",
   "metadata": {},
   "source": [
    "图像灰度化之后，先进行离散余弦变换，再进行离散余弦逆变换吧！\n",
    "\n",
    "离散余弦变换（Discrete Cosine Transformation）是一种使用下面式子计算的频率变换： $$ 0\\leq u,\\ v\\leq T\\ F(u,v)=\\frac{2}{T}\\ C(u)\\ C(v)\\ \\sum\\limits_{y=0}^{T-1}\\ \\sum\\limits_{x=0}^{T-1}\\ I(x,y)\\ \\cos(\\frac{(2\\ x+1)\\ u\\ \\pi}{2\\ T}\\ \\cos(\\frac{(2\\ y+1)\\ v\\ \\pi}{2\\ T})\\ C(u)= \\begin{cases} \\frac{1}{\\sqrt{2}}& (\\text{if}\\ u=0)\\ 1&(\\text{else}) \\end{cases} $$ 离散余弦逆变换（Inverse Discrete Cosine Transformation）是离散余弦变换的逆变换，使用下式定义。\n",
    "\n",
    "在这里，$K$是决定图像复原时分辨率高低的参数。$K=T$时，DCT的系数全被保留，因此IDCT时分辨率最大。$K=1$或$K=2$时，图像复原时的信息量（DCT系数）减少，分辨率降低。如果适当地设定$K$，可以减小文件大小。 $$ 1\\leq K\\leq T\\ f(x,y)=\\frac{2}{T}\\ \\sum\\limits_{u=0}^{K-1}\\sum\\limits_{v=0}^{K-1}\\ C(u)\\ C(v)\\ F(u,v)\\ \\cos(\\frac{(2\\ x+1)\\ u\\ \\pi}{2\\ T})\\ \\cos(\\frac{(2\\ y+1)\\ v\\ \\pi}{2\\ T})\\ C(u)= \\begin{cases} \\frac{1}{\\sqrt{2}}& (\\text{if}\\ u=0)\\ 1&(\\text{else}) \\end{cases} $$ 在这里我们先将图像分割成$8\\times8$的小块，在各个小块中使用离散余弦变换编码，使用离散余弦逆变换解码，这就是 JPEG的编码过程。现在我们也同样地，把图像分割成$8\\times8$的小块，然后进行离散余弦变换和离散余弦逆变换。"
   ]
  },
  {
   "cell_type": "code",
   "execution_count": 28,
   "metadata": {},
   "outputs": [],
   "source": [
    "# DCT hyoer-parameter\n",
    "T = 8\n",
    "K = 8\n",
    "channel = 3"
   ]
  },
  {
   "cell_type": "code",
   "execution_count": 18,
   "metadata": {},
   "outputs": [],
   "source": [
    "# DCT weight\n",
    "def w(x, y, u, v):\n",
    "    cu = 1.\n",
    "    cv = 1.\n",
    "    if u == 0:\n",
    "        cu /= np.sqrt(2)\n",
    "    if v == 0:\n",
    "        cv /= np.sqrt(2)\n",
    "    theta = np.pi / (2 * T)\n",
    "    \n",
    "    return (( 2 * cu * cv / T) * np.cos((2*x+1)*u*theta) * np.cos((2*y+1)*v*theta))"
   ]
  },
  {
   "cell_type": "code",
   "execution_count": 19,
   "metadata": {},
   "outputs": [],
   "source": [
    "# DCT\n",
    "def dct(img):\n",
    "    H, W, _ = img.shape\n",
    "\n",
    "    F = np.zeros((H, W, channel), dtype=np.float32)\n",
    "\n",
    "    for c in range(channel):\n",
    "        for yi in range(0, H, T):\n",
    "            for xi in range(0, W, T):\n",
    "                for v in range(T):\n",
    "                    for u in range(T):\n",
    "                        for y in range(T):\n",
    "                            for x in range(T):\n",
    "                                F[v+yi, u+xi, c] += img[y+yi, x+xi, c] * w(x,y,u,v)\n",
    "\n",
    "    return F"
   ]
  },
  {
   "cell_type": "code",
   "execution_count": 20,
   "metadata": {},
   "outputs": [],
   "source": [
    "# IDCT\n",
    "def idct(F):\n",
    "    H, W, _ = F.shape\n",
    "\n",
    "    out = np.zeros((H, W, channel), dtype=np.float32)\n",
    "\n",
    "    for c in range(channel):\n",
    "        for yi in range(0, H, T):\n",
    "            for xi in range(0, W, T):\n",
    "                for y in range(T):\n",
    "                    for x in range(T):\n",
    "                        for v in range(K):\n",
    "                            for u in range(K):\n",
    "                                out[y+yi, x+xi, c] += F[v+yi, u+xi, c] * w(x,y,u,v)\n",
    "\n",
    "    out = np.clip(out, 0, 255)\n",
    "    out = np.round(out).astype(np.uint8)\n",
    "\n",
    "    return out"
   ]
  },
  {
   "cell_type": "code",
   "execution_count": 35,
   "metadata": {},
   "outputs": [],
   "source": [
    "img = cv2.imread('../picture/chans.png').astype(np.float32)"
   ]
  },
  {
   "cell_type": "code",
   "execution_count": 36,
   "metadata": {},
   "outputs": [
    {
     "data": {
      "text/plain": [
       "(128, 128, 3)"
      ]
     },
     "execution_count": 36,
     "metadata": {},
     "output_type": "execute_result"
    }
   ],
   "source": [
    "img.shape"
   ]
  },
  {
   "cell_type": "code",
   "execution_count": 37,
   "metadata": {},
   "outputs": [],
   "source": [
    "F = dct(img)"
   ]
  },
  {
   "cell_type": "code",
   "execution_count": 40,
   "metadata": {},
   "outputs": [],
   "source": [
    "img_dct = idct(F)"
   ]
  },
  {
   "cell_type": "code",
   "execution_count": 41,
   "metadata": {},
   "outputs": [
    {
     "data": {
      "text/plain": [
       "True"
      ]
     },
     "execution_count": 41,
     "metadata": {},
     "output_type": "execute_result"
    }
   ],
   "source": [
    "cv2.imwrite(\"../picture/chan_result36_Frequency Domain.jpg\", F)"
   ]
  },
  {
   "cell_type": "code",
   "execution_count": 42,
   "metadata": {},
   "outputs": [],
   "source": [
    "cv2.imwrite('../picture/chan_result36_Discrete Cosine Transformation.jpg', img_dct)\n",
    "cv2.namedWindow(\"result\", 0);\n",
    "cv2.resizeWindow(\"result\", (600, 600));\n",
    "cv2.imshow(\"result\", img_dct)\n",
    "cv2.waitKey(0)\n",
    "cv2.destroyAllWindows()"
   ]
  },
  {
   "cell_type": "code",
   "execution_count": null,
   "metadata": {},
   "outputs": [],
   "source": []
  }
 ],
 "metadata": {
  "kernelspec": {
   "display_name": "Python 3",
   "language": "python",
   "name": "python3"
  },
  "language_info": {
   "codemirror_mode": {
    "name": "ipython",
    "version": 3
   },
   "file_extension": ".py",
   "mimetype": "text/x-python",
   "name": "python",
   "nbconvert_exporter": "python",
   "pygments_lexer": "ipython3",
   "version": "3.6.5"
  },
  "toc": {
   "base_numbering": 1,
   "nav_menu": {},
   "number_sections": true,
   "sideBar": true,
   "skip_h1_title": false,
   "title_cell": "Table of Contents",
   "title_sidebar": "Contents",
   "toc_cell": false,
   "toc_position": {},
   "toc_section_display": true,
   "toc_window_display": false
  }
 },
 "nbformat": 4,
 "nbformat_minor": 2
}
