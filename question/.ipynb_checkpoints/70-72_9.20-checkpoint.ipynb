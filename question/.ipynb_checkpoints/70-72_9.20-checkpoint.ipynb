{
 "cells": [
  {
   "cell_type": "markdown",
   "metadata": {},
   "source": [
    "# 70-色彩追踪（Color Tracking）"
   ]
  },
  {
   "cell_type": "markdown",
   "metadata": {},
   "source": [
    "在HSV色彩空间内对图像创建一个只有蓝色部分值为255的图像。\n",
    "\n",
    "色彩追踪是提取特定颜色的区域的方法。\n",
    "\n",
    "然而，由于在 RGB 色彩空间内颜色有$256^3$种，因此十分困难（或者说手动提取相当困难），因此进行 HSV 变换。\n",
    "\n",
    "HSV 变换在问题5中提到过，是将 RGB 变换到色相（Hue）、饱和度（Saturation）、明度（Value）的方法。\n",
    "\n",
    "饱和度越小越白，饱和度越大颜色越浓烈，$0\\leq S\\leq 1$；\n",
    "\n",
    "明度数值越高越接近白色，数值越低越接近黑色（$0\\leq V\\leq 1$）；\n",
    "\n",
    "色相：将颜色使用0到360度表示，具体色相与数值按下表对应：\n",
    "\n",
    "红\t黄\t绿\t青色\t蓝色\t品红\t红\n",
    "\n",
    "0°\t60°\t120°\t180°\t240°\t300°\t360°\n",
    "\n",
    "也就是说，为了追踪蓝色，可以在进行 HSV 转换后提取其中$180\\leq H\\leq 260$的位置，将其变为$255$。"
   ]
  },
  {
   "cell_type": "code",
   "execution_count": null,
   "metadata": {},
   "outputs": [],
   "source": []
  }
 ],
 "metadata": {
  "kernelspec": {
   "display_name": "Python 3",
   "language": "python",
   "name": "python3"
  },
  "language_info": {
   "codemirror_mode": {
    "name": "ipython",
    "version": 3
   },
   "file_extension": ".py",
   "mimetype": "text/x-python",
   "name": "python",
   "nbconvert_exporter": "python",
   "pygments_lexer": "ipython3",
   "version": "3.6.5"
  }
 },
 "nbformat": 4,
 "nbformat_minor": 2
}
