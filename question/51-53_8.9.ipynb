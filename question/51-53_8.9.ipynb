{
 "cells": [
  {
   "cell_type": "markdown",
   "metadata": {},
   "source": [
    "# 51-形态学梯度（Morphology Gradient）"
   ]
  },
  {
   "cell_type": "markdown",
   "metadata": {},
   "source": [
    "在进行大津二值化之后，计算图像的形态学梯度。\n",
    "\n",
    "形态学梯度为经过膨胀操作（dilate）的图像与经过腐蚀操作（erode）的图像的差，可以用于抽出物体的边缘。\n",
    "\n",
    "设置，形态学处理的核N=1。"
   ]
  },
  {
   "cell_type": "code",
   "execution_count": 1,
   "metadata": {},
   "outputs": [],
   "source": [
    "import cv2\n",
    "import numpy as np\n",
    "import matplotlib.pyplot as plt"
   ]
  },
  {
   "cell_type": "code",
   "execution_count": 2,
   "metadata": {},
   "outputs": [],
   "source": [
    "img = cv2.imread(\"../picture/chans.png\").astype(np.float32)"
   ]
  },
  {
   "cell_type": "code",
   "execution_count": 6,
   "metadata": {},
   "outputs": [],
   "source": [
    "def BGR2GRAY(img):\n",
    "    \n",
    "    b = img[:,:,0]\n",
    "    g = img[:,:,1]\n",
    "    r = img[:,:,2]\n",
    "    \n",
    "    gray = 0.2126 * r + 0.7152 * g + 0.0722 * b\n",
    "    gray = gray.astype(np.uint8)\n",
    "    \n",
    "    return gray"
   ]
  },
  {
   "cell_type": "code",
   "execution_count": 7,
   "metadata": {},
   "outputs": [],
   "source": [
    "def otsu_binarization(img, th=128):\n",
    "    \n",
    "    H, W = img.shape\n",
    "    out = img.copy()\n",
    "    \n",
    "    max_sigma = 0\n",
    "    max_t = 0\n",
    "    \n",
    "    for t in range(1, 255):\n",
    "        v0 = out[np.where(out < t)]\n",
    "        m0 = np.mean(v0) if len(v0) > 0 else 0.\n",
    "        w0 = len(v0) / (H * W)\n",
    "        \n",
    "        v1 = out[np.where(out >= t)]\n",
    "        m1 = np.mean(v1) if len(v1) > 0 else 0.\n",
    "        w1 = len(v1) / (H * W)\n",
    "        \n",
    "        sigma = w0 * w1 * ((m0 - m1) ** 2)\n",
    "        \n",
    "        if sigma > max_sigma:\n",
    "            max_sigma = sigma\n",
    "            max_t = t\n",
    "            \n",
    "    print(\"threshold >>\", max_t)\n",
    "    th = max_t\n",
    "    out[out < th] = 0\n",
    "    out[out >= th] = 255\n",
    "    \n",
    "    return out"
   ]
  },
  {
   "cell_type": "code",
   "execution_count": 4,
   "metadata": {},
   "outputs": [],
   "source": [
    "def Dilate_code(img, time):\n",
    "    \n",
    "    H, W = img.shape\n",
    "    \n",
    "    m = np.array(((0, 1, 0), (1, 0, 1), (0, 1, 0)), dtype=np.int)\n",
    "    \n",
    "    out = img.copy()\n",
    "    for i in range(time):\n",
    "        tmp = np.pad(out, (1, 1), 'edge')\n",
    "        for y in range(1, H+1):\n",
    "            for x in range(1, W+1):\n",
    "                if np.sum(m * tmp[y-1 : y+2, x-1 : x+2]) >= 255:\n",
    "                    out[y-1, x-1] = 255\n",
    "                    \n",
    "    return out"
   ]
  },
  {
   "cell_type": "code",
   "execution_count": 5,
   "metadata": {},
   "outputs": [],
   "source": [
    "def Erode_code(img, time):\n",
    "    \n",
    "    H, W = img.shape\n",
    "    \n",
    "    m = np.array(((0, 1, 0), (1, 0, 1), (0, 1, 0)), dtype=np.int)\n",
    "    \n",
    "    out = img.copy()\n",
    "    for i in range(time):\n",
    "        tmp = np.pad(out, (1, 1), 'edge')\n",
    "        for y in range(1, H+1):\n",
    "            for x in range(1, W+1):\n",
    "                if np.sum(m * tmp[y-1 : y+2, x-1 : x+2]) < 255*4:\n",
    "                    out[y-1, x-1] = 0\n",
    "                    \n",
    "    return out"
   ]
  },
  {
   "cell_type": "code",
   "execution_count": 8,
   "metadata": {},
   "outputs": [],
   "source": [
    "gray = BGR2GRAY(img)"
   ]
  },
  {
   "cell_type": "code",
   "execution_count": 9,
   "metadata": {},
   "outputs": [
    {
     "name": "stdout",
     "output_type": "stream",
     "text": [
      "threshold >> 102\n"
     ]
    }
   ],
   "source": [
    "otsu = otsu_binarization(gray)"
   ]
  },
  {
   "cell_type": "code",
   "execution_count": 10,
   "metadata": {},
   "outputs": [],
   "source": [
    "dilate = Dilate_code(otsu, time=1)\n",
    "\n",
    "erode = Erode_code(otsu, time=1)\n",
    "\n",
    "gradient = dilate - erode"
   ]
  },
  {
   "cell_type": "code",
   "execution_count": 12,
   "metadata": {},
   "outputs": [],
   "source": [
    "cv2.imwrite('../picture/chan_result51_Gradient.jpg', gradient)\n",
    "# cv2.namedWindow(\"result\", 0);\n",
    "# cv2.resizeWindow(\"result\", (600, 600));\n",
    "cv2.imshow(\"result\", gradient)\n",
    "cv2.waitKey(0)\n",
    "cv2.destroyAllWindows()"
   ]
  },
  {
   "cell_type": "markdown",
   "metadata": {},
   "source": [
    "# 52-顶帽（Top Hat）"
   ]
  },
  {
   "cell_type": "markdown",
   "metadata": {},
   "source": [
    "在进行大津二值化之后，进行顶帽运算吧。\n",
    "\n",
    "顶帽运算是原图像与开运算的结果图的差。\n",
    "\n",
    "在这里，我们求大津二值化之后的图像和开处理（N=3）之后的图像的差，可以提取出细线状的部分或者噪声。"
   ]
  },
  {
   "cell_type": "code",
   "execution_count": 14,
   "metadata": {},
   "outputs": [],
   "source": [
    "def opening(img, time):\n",
    "    \n",
    "    out = Dilate_code(img, time)\n",
    "    out = Erode_code(out, time)\n",
    "    \n",
    "    return out"
   ]
  },
  {
   "cell_type": "code",
   "execution_count": 55,
   "metadata": {},
   "outputs": [],
   "source": [
    "open_ = opening(otsu, time=3)"
   ]
  },
  {
   "cell_type": "code",
   "execution_count": 60,
   "metadata": {},
   "outputs": [],
   "source": [
    "top = otsu - open_"
   ]
  },
  {
   "cell_type": "code",
   "execution_count": 53,
   "metadata": {},
   "outputs": [
    {
     "name": "stderr",
     "output_type": "stream",
     "text": [
      "E:\\Anaconda3\\lib\\site-packages\\ipykernel_launcher.py:7: RuntimeWarning: overflow encountered in ubyte_scalars\n",
      "  import sys\n"
     ]
    }
   ],
   "source": [
    "H, W = open_.shape\n",
    "\n",
    "top_hat = np.zeros((H, W), dtype=float)\n",
    "\n",
    "for y in range(H):\n",
    "    for x in range(W):\n",
    "        top_hat[y, x] = otsu[y, x] - open_[y, x]"
   ]
  },
  {
   "cell_type": "code",
   "execution_count": 57,
   "metadata": {},
   "outputs": [],
   "source": [
    "cv2.imwrite('../picture/chan_result52_TopHat.jpg', top_hat)\n",
    "# cv2.namedWindow(\"result\", 0);\n",
    "# cv2.resizeWindow(\"result\", (600, 600));\n",
    "cv2.imshow(\"result\", top_hat)\n",
    "cv2.waitKey(0)\n",
    "cv2.destroyAllWindows()"
   ]
  },
  {
   "cell_type": "markdown",
   "metadata": {},
   "source": [
    "# 53-黑帽（Black Hat）"
   ]
  },
  {
   "cell_type": "markdown",
   "metadata": {},
   "source": [
    "在进行大津二值化之后，进行黑帽运算吧。\n",
    "\n",
    "黑帽运算是原图像与闭运算的结果图的差。\n",
    "\n",
    "在这里，我们求大津二值化之后的图像和闭处理（N=3）之后的图像的差，在这里和顶帽运算一样，可以提取出细线状的部分或者噪声。"
   ]
  },
  {
   "cell_type": "code",
   "execution_count": 58,
   "metadata": {},
   "outputs": [],
   "source": [
    "def closing(img, time):\n",
    "    \n",
    "    out = Erode_code(img, time)\n",
    "    out = Dilate_code(out, time)\n",
    "    \n",
    "    return out"
   ]
  },
  {
   "cell_type": "code",
   "execution_count": 63,
   "metadata": {},
   "outputs": [],
   "source": [
    "close = closing(otsu, time=3)"
   ]
  },
  {
   "cell_type": "code",
   "execution_count": 65,
   "metadata": {},
   "outputs": [],
   "source": [
    "H, W = close.shape\n",
    "\n",
    "black_hat = np.zeros((H, W), dtype=float)\n",
    "\n",
    "for y in range(H):\n",
    "    for x in range(W):\n",
    "        black_hat[y, x] = otsu[y, x] - close[y, x]"
   ]
  },
  {
   "cell_type": "code",
   "execution_count": 66,
   "metadata": {},
   "outputs": [],
   "source": [
    "cv2.imwrite('../picture/chan_result53_BlackHat.jpg', black_hat)\n",
    "# cv2.namedWindow(\"result\", 0);\n",
    "# cv2.resizeWindow(\"result\", (600, 600));\n",
    "cv2.imshow(\"result\", black_hat)\n",
    "cv2.waitKey(0)\n",
    "cv2.destroyAllWindows()"
   ]
  },
  {
   "cell_type": "code",
   "execution_count": null,
   "metadata": {},
   "outputs": [],
   "source": []
  }
 ],
 "metadata": {
  "kernelspec": {
   "display_name": "Python 3",
   "language": "python",
   "name": "python3"
  },
  "language_info": {
   "codemirror_mode": {
    "name": "ipython",
    "version": 3
   },
   "file_extension": ".py",
   "mimetype": "text/x-python",
   "name": "python",
   "nbconvert_exporter": "python",
   "pygments_lexer": "ipython3",
   "version": "3.6.5"
  },
  "toc": {
   "base_numbering": 1,
   "nav_menu": {},
   "number_sections": false,
   "sideBar": true,
   "skip_h1_title": false,
   "title_cell": "Table of Contents",
   "title_sidebar": "Contents",
   "toc_cell": false,
   "toc_position": {},
   "toc_section_display": true,
   "toc_window_display": false
  }
 },
 "nbformat": 4,
 "nbformat_minor": 2
}
