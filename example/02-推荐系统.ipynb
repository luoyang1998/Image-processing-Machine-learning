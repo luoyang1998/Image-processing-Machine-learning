{
 "cells": [
  {
   "cell_type": "markdown",
   "id": "extended-impact",
   "metadata": {},
   "source": [
    "# 案例：向用户推荐系统"
   ]
  },
  {
   "cell_type": "code",
   "execution_count": 1,
   "id": "stable-eagle",
   "metadata": {},
   "outputs": [],
   "source": [
    "import numpy as np\n",
    "import matplotlib.pyplot as plt\n",
    "import scipy.io as sio"
   ]
  },
  {
   "cell_type": "code",
   "execution_count": 2,
   "id": "loose-frank",
   "metadata": {},
   "outputs": [
    {
     "data": {
      "text/plain": [
       "dict_keys(['__header__', '__version__', '__globals__', 'Y', 'R'])"
      ]
     },
     "execution_count": 2,
     "metadata": {},
     "output_type": "execute_result"
    }
   ],
   "source": [
    "mat = sio.loadmat('E:/ML_NG/8-anomaly detection and recommendation/data/ex8_movies.mat')\n",
    "mat.keys()"
   ]
  },
  {
   "cell_type": "code",
   "execution_count": 3,
   "id": "japanese-craft",
   "metadata": {},
   "outputs": [
    {
     "data": {
      "text/plain": [
       "((1682, 943), (1682, 943))"
      ]
     },
     "execution_count": 3,
     "metadata": {},
     "output_type": "execute_result"
    }
   ],
   "source": [
    "Y,R = mat['Y'],mat['R']\n",
    "Y.shape,R.shape"
   ]
  },
  {
   "cell_type": "code",
   "execution_count": 7,
   "id": "occupied-algebra",
   "metadata": {},
   "outputs": [
    {
     "data": {
      "text/plain": [
       "dict_keys(['__header__', '__version__', '__globals__', 'X', 'Theta', 'num_users', 'num_movies', 'num_features'])"
      ]
     },
     "execution_count": 7,
     "metadata": {},
     "output_type": "execute_result"
    }
   ],
   "source": [
    "param_mat = sio.loadmat('E:/ML_NG/8-anomaly detection and recommendation/data/ex8_movieParams.mat')\n",
    "param_mat.keys()"
   ]
  },
  {
   "cell_type": "code",
   "execution_count": 10,
   "id": "convenient-release",
   "metadata": {},
   "outputs": [
    {
     "data": {
      "text/plain": [
       "((1682, 10),\n",
       " (943, 10),\n",
       " array([[943]], dtype=uint16),\n",
       " array([[1682]], dtype=uint16),\n",
       " array([[10]], dtype=uint8))"
      ]
     },
     "execution_count": 10,
     "metadata": {},
     "output_type": "execute_result"
    }
   ],
   "source": [
    "X,Theta,nu,nm,nf = param_mat['X'],param_mat['Theta'], param_mat['num_users'], param_mat['num_movies'],param_mat['num_features']\n",
    "X.shape,Theta.shape,nu,nm,nf"
   ]
  },
  {
   "cell_type": "code",
   "execution_count": 12,
   "id": "proved-stranger",
   "metadata": {},
   "outputs": [
    {
     "data": {
      "text/plain": [
       "(943, 1682, 10)"
      ]
     },
     "execution_count": 12,
     "metadata": {},
     "output_type": "execute_result"
    }
   ],
   "source": [
    "nu = int(nu)\n",
    "nm = int(nm)\n",
    "nf = int(nf)\n",
    "nu,nm,nf"
   ]
  },
  {
   "cell_type": "markdown",
   "id": "designed-range",
   "metadata": {},
   "source": [
    "## 序列化参数"
   ]
  },
  {
   "cell_type": "code",
   "execution_count": 14,
   "id": "seasonal-circle",
   "metadata": {},
   "outputs": [],
   "source": [
    "def serialize(X,Theta):\n",
    "    \n",
    "    return np.append(X.flatten(),Theta.flatten())"
   ]
  },
  {
   "cell_type": "code",
   "execution_count": 40,
   "id": "african-prairie",
   "metadata": {},
   "outputs": [
    {
     "data": {
      "text/plain": [
       "((1682, 10), (943, 10))"
      ]
     },
     "execution_count": 40,
     "metadata": {},
     "output_type": "execute_result"
    }
   ],
   "source": [
    "X.shape,Theta.shape"
   ]
  },
  {
   "cell_type": "markdown",
   "id": "searching-familiar",
   "metadata": {},
   "source": [
    "## 解序列化参数"
   ]
  },
  {
   "cell_type": "code",
   "execution_count": 26,
   "id": "differential-victim",
   "metadata": {},
   "outputs": [],
   "source": [
    "def deserialize(params,nm,nu,nf):\n",
    "    X = params[:nm*nf].reshape(nm,nf)\n",
    "    Theta = params[nm*nf:].reshape(nu,nf)\n",
    "    return X,Theta"
   ]
  },
  {
   "cell_type": "markdown",
   "id": "turkish-tennis",
   "metadata": {},
   "source": [
    "## 代价函数"
   ]
  },
  {
   "cell_type": "code",
   "execution_count": 27,
   "id": "corresponding-genre",
   "metadata": {},
   "outputs": [],
   "source": [
    "def costFunction(params,Y,R,nm,nu,nf,lamda):\n",
    "    X,Theta = deserialize(params,nm,nu,nf)\n",
    "    error = 0.5 * np.square((X @ Theta.T - Y)*R).sum()\n",
    "    reg1 = 0.5 * lamda * np.square(X).sum()\n",
    "    reg2 = 0.5 * lamda * np.square(Theta).sum()\n",
    "    return error + reg1 + reg2"
   ]
  },
  {
   "cell_type": "code",
   "execution_count": 41,
   "id": "fifty-fiction",
   "metadata": {},
   "outputs": [
    {
     "data": {
      "text/plain": [
       "22.224603725685675"
      ]
     },
     "execution_count": 41,
     "metadata": {},
     "output_type": "execute_result"
    }
   ],
   "source": [
    "users = 4\n",
    "movies = 5\n",
    "features = 3\n",
    "X_sub = X[:movies,:features]\n",
    "Theta_sub = Theta[:users,:features]\n",
    "Y_sub = Y[:movies,:users]\n",
    "R_sub = R[:movies,:users]\n",
    "\n",
    "cost1 = costFunction(serialize(X_sub,Theta_sub),Y_sub,R_sub,movies,users,features,lamda=0)\n",
    "cost1"
   ]
  },
  {
   "cell_type": "code",
   "execution_count": 42,
   "id": "settled-strain",
   "metadata": {},
   "outputs": [
    {
     "data": {
      "text/plain": [
       "31.344056244274217"
      ]
     },
     "execution_count": 42,
     "metadata": {},
     "output_type": "execute_result"
    }
   ],
   "source": [
    "cost2 = costFunction(serialize(X_sub,Theta_sub),Y_sub,R_sub,movies,users,features,lamda=1.5)\n",
    "cost2"
   ]
  },
  {
   "cell_type": "markdown",
   "id": "liquid-output",
   "metadata": {},
   "source": [
    "## 梯度"
   ]
  },
  {
   "cell_type": "code",
   "execution_count": 68,
   "id": "double-humor",
   "metadata": {},
   "outputs": [],
   "source": [
    "def costGtadient(params,Y,R,nm,nu,nf,lamda):\n",
    "    X,Theta = deserialize(params,nm,nu,nf)\n",
    "    X_grad = ((X@Theta.T-Y)*R)@Theta + lamda * X\n",
    "    Theta_grad = ((X@Theta.T-Y)*R).T@X + lamda * Theta\n",
    "    return serialize(X_grad,Theta_grad)"
   ]
  },
  {
   "cell_type": "markdown",
   "id": "distant-wisdom",
   "metadata": {},
   "source": [
    "## 添加一个用户"
   ]
  },
  {
   "cell_type": "code",
   "execution_count": 45,
   "id": "circular-final",
   "metadata": {},
   "outputs": [],
   "source": [
    "my_ratings = np.zeros((nm,1))\n",
    "my_ratings[9] = 5\n",
    "my_ratings[66] = 5\n",
    "my_ratings[96] = 5\n",
    "my_ratings[121] = 4\n",
    "my_ratings[148] = 4\n",
    "my_ratings[285] = 3\n",
    "my_ratings[490] = 4\n",
    "my_ratings[599] = 4\n",
    "my_ratings[643] = 4\n",
    "my_ratings[958] = 5\n",
    "my_ratings[1117] = 3"
   ]
  },
  {
   "cell_type": "code",
   "execution_count": 46,
   "id": "spread-liver",
   "metadata": {},
   "outputs": [],
   "source": [
    "Y = np.c_[Y,my_ratings]\n",
    "R = np.c_[R,my_ratings!=0]"
   ]
  },
  {
   "cell_type": "code",
   "execution_count": 47,
   "id": "accepting-radius",
   "metadata": {},
   "outputs": [
    {
     "data": {
      "text/plain": [
       "(1682, 944)"
      ]
     },
     "execution_count": 47,
     "metadata": {},
     "output_type": "execute_result"
    }
   ],
   "source": [
    "Y.shape"
   ]
  },
  {
   "cell_type": "code",
   "execution_count": 49,
   "id": "immune-store",
   "metadata": {},
   "outputs": [],
   "source": [
    "nm,nu = Y.shape"
   ]
  },
  {
   "cell_type": "markdown",
   "id": "tutorial-carry",
   "metadata": {},
   "source": [
    "## 均值归一化"
   ]
  },
  {
   "cell_type": "code",
   "execution_count": 69,
   "id": "australian-heating",
   "metadata": {},
   "outputs": [],
   "source": [
    "def normlizeRatings(Y,R):\n",
    "    Y_mean = (Y.sum(axis=1) / R.sum(axis=1)).reshape(-1,1)\n",
    "    Y_norm = (Y - Y_mean) * R\n",
    "    return Y_norm,Y_mean"
   ]
  },
  {
   "cell_type": "code",
   "execution_count": 70,
   "id": "earlier-large",
   "metadata": {},
   "outputs": [],
   "source": [
    "Y_norm,Y_mean = normlizeRatings(Y,R)"
   ]
  },
  {
   "cell_type": "markdown",
   "id": "decent-beginning",
   "metadata": {},
   "source": [
    "## 参数初始化"
   ]
  },
  {
   "cell_type": "code",
   "execution_count": 52,
   "id": "mature-deadline",
   "metadata": {},
   "outputs": [],
   "source": [
    "X = np.random.random((nm,nf))\n",
    "Theta = np.random.random((nu,nf))\n",
    "params = serialize(X,Theta)\n",
    "lamda = 5"
   ]
  },
  {
   "cell_type": "markdown",
   "id": "sophisticated-holly",
   "metadata": {},
   "source": [
    "## 模型训练"
   ]
  },
  {
   "cell_type": "code",
   "execution_count": 72,
   "id": "final-tribe",
   "metadata": {},
   "outputs": [],
   "source": [
    "from scipy.optimize import minimize\n",
    "res = minimize(fun = costFunction,\n",
    "        x0 = params,\n",
    "        args=(Y_norm,R,nm,nu,nf,lamda),\n",
    "        method = 'TNC',\n",
    "        jac = costGtadient,\n",
    "        options = {'maxiter':100})"
   ]
  },
  {
   "cell_type": "code",
   "execution_count": 73,
   "id": "vocal-commodity",
   "metadata": {},
   "outputs": [],
   "source": [
    "params_fit = res.x"
   ]
  },
  {
   "cell_type": "code",
   "execution_count": 74,
   "id": "saved-terry",
   "metadata": {},
   "outputs": [],
   "source": [
    "fit_X,fit_Theta = deserialize(params_fit,nm,nu,nf)"
   ]
  },
  {
   "cell_type": "markdown",
   "id": "traditional-might",
   "metadata": {},
   "source": [
    "## 预测"
   ]
  },
  {
   "cell_type": "code",
   "execution_count": 75,
   "id": "stunning-ceiling",
   "metadata": {},
   "outputs": [],
   "source": [
    "Y_pred = fit_X@fit_Theta.T"
   ]
  },
  {
   "cell_type": "code",
   "execution_count": 76,
   "id": "fundamental-tractor",
   "metadata": {},
   "outputs": [],
   "source": [
    "y_pred = Y_pred[:,-1] + Y_mean.flatten()"
   ]
  },
  {
   "cell_type": "code",
   "execution_count": 77,
   "id": "backed-drunk",
   "metadata": {},
   "outputs": [],
   "source": [
    "index = np.argsort(-y_pred)  #从大到小排列 或者np.ardsort(y_pred)[::-1]"
   ]
  },
  {
   "cell_type": "code",
   "execution_count": 78,
   "id": "requested-taiwan",
   "metadata": {},
   "outputs": [
    {
     "data": {
      "text/plain": [
       "array([1292, 1188, 1121, 1652,  813, 1466, 1598, 1535, 1200, 1499],\n",
       "      dtype=int64)"
      ]
     },
     "execution_count": 78,
     "metadata": {},
     "output_type": "execute_result"
    }
   ],
   "source": [
    "index[:10]"
   ]
  },
  {
   "cell_type": "code",
   "execution_count": 83,
   "id": "copyrighted-secretariat",
   "metadata": {},
   "outputs": [],
   "source": [
    "movies = []\n",
    "with open('E:/ML_NG/8-anomaly detection and recommendation/data/movie_ids.txt','r',encoding='latin 1') as f:  #读入电影名文件\n",
    "    for line in f:\n",
    "        tokens = line.strip().split(' ')  #按空格分割\n",
    "        movies.append(' '.join(tokens[1:]))"
   ]
  },
  {
   "cell_type": "code",
   "execution_count": 84,
   "id": "textile-fireplace",
   "metadata": {},
   "outputs": [
    {
     "data": {
      "text/plain": [
       "1682"
      ]
     },
     "execution_count": 84,
     "metadata": {},
     "output_type": "execute_result"
    }
   ],
   "source": [
    "len(movies)"
   ]
  },
  {
   "cell_type": "code",
   "execution_count": 85,
   "id": "steady-examination",
   "metadata": {},
   "outputs": [
    {
     "name": "stdout",
     "output_type": "stream",
     "text": [
      "1292 Star Kid (1997) 5.000915199198762\n",
      "1188 Prefontaine (1997) 5.000134007097596\n",
      "1121 They Made Me a Criminal (1939) 4.999880212319454\n",
      "1652 Entertaining Angels: The Dorothy Day Story (1996) 4.999878407870896\n",
      "813 Great Day in Harlem, A (1994) 4.999792519190221\n",
      "1466 Saint of Fort Washington, The (1993) 4.9997379495506244\n",
      "1598 Someone Else's America (1995) 4.999686229160827\n",
      "1535 Aiqing wansui (1994) 4.999541708075515\n",
      "1200 Marlene Dietrich: Shadow and Light (1996) 4.9995197744792215\n",
      "1499 Santa with Muscles (1996) 4.998871903932824\n"
     ]
    }
   ],
   "source": [
    "for i in range(10):\n",
    "    print(index[i],movies[index[i]],y_pred[index[i]])"
   ]
  },
  {
   "cell_type": "code",
   "execution_count": null,
   "id": "current-investor",
   "metadata": {},
   "outputs": [],
   "source": []
  }
 ],
 "metadata": {
  "kernelspec": {
   "display_name": "Python 3",
   "language": "python",
   "name": "python3"
  },
  "language_info": {
   "codemirror_mode": {
    "name": "ipython",
    "version": 3
   },
   "file_extension": ".py",
   "mimetype": "text/x-python",
   "name": "python",
   "nbconvert_exporter": "python",
   "pygments_lexer": "ipython3",
   "version": "3.6.5"
  },
  "toc": {
   "base_numbering": 1,
   "nav_menu": {},
   "number_sections": true,
   "sideBar": true,
   "skip_h1_title": false,
   "title_cell": "Table of Contents",
   "title_sidebar": "Contents",
   "toc_cell": false,
   "toc_position": {},
   "toc_section_display": true,
   "toc_window_display": false
  }
 },
 "nbformat": 4,
 "nbformat_minor": 5
}
