{
 "cells": [
  {
   "cell_type": "markdown",
   "metadata": {},
   "source": [
    "# 25-最邻近插值（ Nearest-neighbor Interpolation ）"
   ]
  },
  {
   "cell_type": "markdown",
   "metadata": {},
   "source": [
    "使用最邻近插值将图像放大$1.5$倍\n",
    "\n",
    "最近邻插值在图像放大时补充的像素取最临近的像素的值。由于方法简单，所以处理速度很快，但是放大图像画质劣化明显。\n",
    "\n",
    "使用下面的公式放大图像 $I'$为放大后图像，$I$为放大前图像，$a$为放大率，方括号是四舍五入取整操作：\n",
    "\n",
    "$$ I'(x,y) = I([\\frac{x}{a}], [\\frac{y}{a}]) $$"
   ]
  },
  {
   "cell_type": "code",
   "execution_count": 1,
   "metadata": {},
   "outputs": [],
   "source": [
    "import numpy as np\n",
    "import cv2\n",
    "import matplotlib.pyplot as plt"
   ]
  },
  {
   "cell_type": "code",
   "execution_count": 4,
   "metadata": {},
   "outputs": [],
   "source": [
    "img = cv2.imread('../picture/chan.jpg').astype(np.float)"
   ]
  },
  {
   "cell_type": "code",
   "execution_count": 5,
   "metadata": {},
   "outputs": [],
   "source": [
    "def interpolation(img, ay, ax):\n",
    "    \n",
    "    h, w, c = img.shape\n",
    "    \n",
    "    ah = int(ay * h)\n",
    "    aw = int(ax * w)\n",
    "    \n",
    "    y = np.arange(ah).repeat(aw).reshape(aw, -1)\n",
    "    x = np.tile(np.arange(aw), (ah, 1))\n",
    "    y = np.round(y / ay).astype(np.int)\n",
    "    x = np.round(x / ax).astype(np.int)\n",
    "    \n",
    "    out = img[y, x]\n",
    "    out = out.astype(np.uint8)\n",
    "\n",
    "    return out"
   ]
  },
  {
   "cell_type": "code",
   "execution_count": 6,
   "metadata": {},
   "outputs": [],
   "source": [
    "img_inter = interpolation(img, ay=1.5,ax=1.5)"
   ]
  },
  {
   "cell_type": "code",
   "execution_count": 7,
   "metadata": {},
   "outputs": [],
   "source": [
    "cv2.imwrite('../picture/chan_result25_nearest_neighbor_interpolation.jpg', img_inter)\n",
    "cv2.namedWindow(\"result\", 0);\n",
    "cv2.resizeWindow(\"result\", (600, 600));\n",
    "cv2.imshow(\"result\", img_inter)\n",
    "cv2.waitKey(0)\n",
    "cv2.destroyAllWindows()"
   ]
  },
  {
   "cell_type": "code",
   "execution_count": 8,
   "metadata": {},
   "outputs": [
    {
     "data": {
      "text/plain": [
       "((540, 540, 3), (810, 810, 3))"
      ]
     },
     "execution_count": 8,
     "metadata": {},
     "output_type": "execute_result"
    }
   ],
   "source": [
    "img.shape,img_inter.shape"
   ]
  },
  {
   "cell_type": "markdown",
   "metadata": {},
   "source": [
    "# 26-双线性插值（ Bilinear Interpolation ）"
   ]
  },
  {
   "cell_type": "markdown",
   "metadata": {},
   "source": [
    "使用双线性插值将图像放大$1.5$倍\n",
    "\n",
    "双线性插值考察$4$邻域的像素点，并根据距离设置权值。虽然计算量增大使得处理时间变长，但是可以有效抑制画质劣化。\n",
    "\n",
    "1. 放大后图像的座标$(x',y')$除以放大率$a$，可以得到对应原图像的座标$(\\lfloor \\frac{x'}{a}\\rfloor , \\lfloor \\frac{y'}{a}\\rfloor)$。\n",
    "\n",
    "2. 求原图像的座标$(\\lfloor \\frac{x'}{a}\\rfloor , \\lfloor \\frac{y'}{a}\\rfloor)$周围$4$邻域的座标$I(x,y)$，$I(x+1,y)$，$I(x,y+1)$，$I(x+1, y+1)$：\n",
    "\n",
    "3. 分别求这4个点与$(\\frac{x'}{a}, \\frac{y'}{a})$的距离，根据距离设置权重：$w = \\frac{d}{\\sum\\ d}$\n",
    "\n",
    "4. 根据下式求得放大后图像$(x',y')$处的像素值： $$ d_x = \\frac{x'}{a} - x\\ d_y = \\frac{y'}{a} - y\\ I'(x',y') = (1-d_x)\\ (1-d_y)\\ I(x,y) + d_x\\ (1-d_y)\\ I(x+1,y) + (1-d_x)\\ d_y\\ I(x,y+1) + d_x\\ d_y\\ I(x+1,y+1) $$ "
   ]
  },
  {
   "cell_type": "code",
   "execution_count": 9,
   "metadata": {},
   "outputs": [],
   "source": [
    "def bil(img, ax=1.5, ay=1.5):\n",
    "    \n",
    "    h, w, c = img.shape\n",
    "    \n",
    "    ah = int(ay * h)\n",
    "    aw = int(ax * w)\n",
    "    \n",
    "    y = np.arange(ah).repeat(aw).reshape(aw, -1)\n",
    "    x = np.tile(np.arange(aw), (ah, 1))\n",
    "    \n",
    "    y = y / ay\n",
    "    x = x / ax\n",
    "    \n",
    "    ix = np.floor(x).astype(np.int)\n",
    "    iy = np.floor(y).astype(np.int)\n",
    "    \n",
    "    ix = np.minimum(ix, w-2)\n",
    "    iy = np.minimum(iy, h-2)\n",
    "    \n",
    "    dx = x - ix\n",
    "    dy = y - iy\n",
    "\n",
    "    dx = np.repeat(np.expand_dims(dx, axis=-1), 3, axis=-1)\n",
    "    dy = np.repeat(np.expand_dims(dy, axis=-1), 3, axis=-1)\n",
    "\n",
    "    out = (1-dx) * (1-dy) * img[iy, ix] + dx * (1 - dy) * img[iy, ix+1] + (1 - dx) * dy * img[iy+1, ix] + dx * dy * img[iy+1, ix+1]\n",
    "\n",
    "    out = np.clip(out, 0, 255)\n",
    "    out = out.astype(np.uint8)\n",
    "\n",
    "    return out"
   ]
  },
  {
   "cell_type": "code",
   "execution_count": 10,
   "metadata": {},
   "outputs": [],
   "source": [
    "img_bil = bil(img, ax=1.5, ay=1.5)"
   ]
  },
  {
   "cell_type": "code",
   "execution_count": 11,
   "metadata": {},
   "outputs": [],
   "source": [
    "cv2.imwrite('../picture/chan_result26_Bilinear Interpolation.jpg', img_bil)\n",
    "cv2.namedWindow(\"result\", 0);\n",
    "cv2.resizeWindow(\"result\", (600, 600));\n",
    "cv2.imshow(\"result\", img_bil)\n",
    "cv2.waitKey(0)\n",
    "cv2.destroyAllWindows()"
   ]
  },
  {
   "cell_type": "code",
   "execution_count": 12,
   "metadata": {},
   "outputs": [
    {
     "data": {
      "text/plain": [
       "(810, 810, 3)"
      ]
     },
     "execution_count": 12,
     "metadata": {},
     "output_type": "execute_result"
    }
   ],
   "source": [
    "img_bil.shape"
   ]
  },
  {
   "cell_type": "markdown",
   "metadata": {},
   "source": [
    "# 27-双三次插值（ Bicubic Interpolation ）"
   ]
  },
  {
   "cell_type": "markdown",
   "metadata": {},
   "source": [
    "使用双三次插值将图像放大$1.5$倍\n",
    "\n",
    "双三次插值是双线性插值的扩展，使用邻域$16$像素进行插值。\n",
    "\n",
    "各自像素间的距离由下式决定： $$ \\begin{align*} d_{x_1} = |\\frac{x'}{a\\ x} - (x-1)|\\quad d_{x_2} = |\\frac{x'}{a\\ x}- x| \\quad d_{x_3} = |\\frac{x'}{a\\ x}- (x+1)|\\quad d_{x_4} = |\\frac{x'}{a\\ x} - (x+2)|\\ d_{y_1} = |\\frac{x'}{a\\ y} - (y-1)|\\quad d_{y_2} = |\\frac{x'}{a\\ y} - y| \\quad d_{y_3} = |\\frac{x'}{a\\ y} - (y+1)| \\quad d_{y_4} = |\\frac{x'}{a\\ y} - (y+2)| \\end{align*} $$ 权重由基于距离的函数取得。$a$在大部分时候取$-1$。大体上说，图中蓝色像素的距离$|t|\\leq 1$，绿色像素的距离$1<|t|\\leq 2$： $$ h(t)= \\begin{cases} (a+2)\\ |t|^3 - (a+3)\\ |t|^2 + 1 &\\text{when}\\quad |t|\\leq 1 \\ a\\ |t|^3 - 5\\ a\\ |t|^2 + 8\\ a\\ |t| - 4\\ a&\\text{when}\\quad 1<|t|\\leq 2\\ 0&\\text{else} \\end{cases} $$ 利用上面得到的权重，通过下面的式子扩大图像。将每个像素与权重的乘积之和除以权重的和。 $$ I'(x', y')=\\frac{1}{\\sum\\limits_{j=1}^4\\ \\sum\\limits_{i=1}^4\\ h(d_{xi})\\ h(d_{yj})}\\ \\sum\\limits_{j=1}^4\\ \\sum\\limits_{i=1}^4\\ I(x+i-2,y+j-2)\\ h(d_{xi})\\ h(d_{yj}) $$"
   ]
  },
  {
   "cell_type": "code",
   "execution_count": 17,
   "metadata": {},
   "outputs": [],
   "source": [
    "def bc_interpolate(img, ax=1.5, ay=1.5):\n",
    "    \n",
    "    h, w, c = img.shape\n",
    "\n",
    "    ah = int(ay * h)\n",
    "    aw = int(ax * w)\n",
    "\n",
    "    y = np.arange(ah).repeat(aw).reshape(aw, -1)\n",
    "    x = np.tile(np.arange(aw), (ah, 1))\n",
    "    y = (y / ay)\n",
    "    x = (x / ax)\n",
    "\n",
    "    ix = np.floor(x).astype(np.int)\n",
    "    iy = np.floor(y).astype(np.int)\n",
    "\n",
    "    ix = np.minimum(ix, w-1)\n",
    "    iy = np.minimum(iy, h-1)\n",
    "\n",
    "    dx2 = x - ix\n",
    "    dy2 = y - iy\n",
    "    dx1 = dx2 + 1\n",
    "    dy1 = dy2 + 1\n",
    "    dx3 = 1 - dx2\n",
    "    dy3 = 1 - dy2\n",
    "    dx4 = 1 + dx3\n",
    "    dy4 = 1 + dy3\n",
    "\n",
    "    dxs = [dx1, dx2, dx3, dx4]\n",
    "    dys = [dy1, dy2, dy3, dy4]\n",
    "\n",
    "    def weight(t):\n",
    "        a = -1.\n",
    "        at = np.abs(t)\n",
    "        w = np.zeros_like(t)\n",
    "        ind = np.where(at <= 1)\n",
    "        w[ind] = ((a+2) * np.power(at, 3) - (a+3) * np.power(at, 2) + 1)[ind]\n",
    "        ind = np.where((at > 1) & (at <= 2))\n",
    "        w[ind] = (a*np.power(at, 3) - 5*a*np.power(at, 2) + 8*a*at - 4*a)[ind]\n",
    "        return w\n",
    "\n",
    "    w_sum = np.zeros((ah, aw, c), dtype=np.float32)\n",
    "    out = np.zeros((ah, aw, c), dtype=np.float32)\n",
    "\n",
    "    for j in range(-1, 3):\n",
    "            for i in range(-1, 3):\n",
    "                ind_x = np.minimum(np.maximum(ix + i, 0), w-1)\n",
    "                ind_y = np.minimum(np.maximum(iy + j, 0), h-1)\n",
    "\n",
    "                wx = weight(dxs[i+1])\n",
    "                wy = weight(dys[j+1])\n",
    "                wx = np.repeat(np.expand_dims(wx, axis=-1), 3, axis=-1)\n",
    "                wy = np.repeat(np.expand_dims(wy, axis=-1), 3, axis=-1)\n",
    "\n",
    "                w_sum += wx * wy\n",
    "                out += wx * wy * img[ind_y, ind_x]\n",
    "\n",
    "    out /= w_sum\n",
    "    out = np.clip(out, 0, 255)\n",
    "    out = out.astype(np.uint8)\n",
    "\n",
    "    return out"
   ]
  },
  {
   "cell_type": "code",
   "execution_count": 18,
   "metadata": {},
   "outputs": [],
   "source": [
    "img_bc = bc_interpolate(img, ax=1.5, ay=1.5)"
   ]
  },
  {
   "cell_type": "code",
   "execution_count": null,
   "metadata": {},
   "outputs": [],
   "source": []
  }
 ],
 "metadata": {
  "kernelspec": {
   "display_name": "Python 3",
   "language": "python",
   "name": "python3"
  },
  "language_info": {
   "codemirror_mode": {
    "name": "ipython",
    "version": 3
   },
   "file_extension": ".py",
   "mimetype": "text/x-python",
   "name": "python",
   "nbconvert_exporter": "python",
   "pygments_lexer": "ipython3",
   "version": "3.6.5"
  },
  "toc": {
   "base_numbering": 1,
   "nav_menu": {},
   "number_sections": true,
   "sideBar": true,
   "skip_h1_title": false,
   "title_cell": "Table of Contents",
   "title_sidebar": "Contents",
   "toc_cell": false,
   "toc_position": {},
   "toc_section_display": true,
   "toc_window_display": false
  }
 },
 "nbformat": 4,
 "nbformat_minor": 2
}
