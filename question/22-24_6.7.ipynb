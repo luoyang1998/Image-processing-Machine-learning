{
 "cells": [
  {
   "cell_type": "markdown",
   "metadata": {},
   "source": [
    "# 22-直方图操作"
   ]
  },
  {
   "cell_type": "markdown",
   "metadata": {},
   "source": [
    "让直方图的平均值$m_0=128$，标准差$s_0=52$\n",
    "\n",
    "这里并不是变更直方图的动态范围，而是让直方图变得平坦。\n",
    "\n",
    "可以使用下式将平均值为$m$标准差为$s$的直方图变成平均值为$m_0$标准差为$s_0$的直方图： $$ x_{out}=\\frac{s_0}{s}\\ (x_{in}-m)+m_0 $$"
   ]
  },
  {
   "cell_type": "code",
   "execution_count": 2,
   "metadata": {},
   "outputs": [],
   "source": [
    "import cv2\n",
    "import numpy as np\n",
    "import matplotlib.pyplot as plt"
   ]
  },
  {
   "cell_type": "code",
   "execution_count": 3,
   "metadata": {},
   "outputs": [],
   "source": [
    "img = cv2.imread('../picture/chan_dark.jpg')"
   ]
  },
  {
   "cell_type": "code",
   "execution_count": 3,
   "metadata": {},
   "outputs": [],
   "source": [
    "def hist_(img, m0, s0):\n",
    "    m = np.mean(img)\n",
    "    s = np.std(img)\n",
    "\n",
    "    out = img.copy()\n",
    "\n",
    "    out = s0 / s * (out - m) + m0\n",
    "    out[out < 0] = 0\n",
    "    out[out > 255] = 255\n",
    "    out = out.astype(np.uint8)\n",
    "\n",
    "    return out"
   ]
  },
  {
   "cell_type": "code",
   "execution_count": 4,
   "metadata": {},
   "outputs": [],
   "source": [
    "img_ms = hist_(img, 128, 52)"
   ]
  },
  {
   "cell_type": "code",
   "execution_count": 6,
   "metadata": {},
   "outputs": [
    {
     "data": {
      "image/png": "[encoded data removed]",
      "text/plain": [
       "<Figure size 432x288 with 1 Axes>"
      ]
     },
     "metadata": {},
     "output_type": "display_data"
    }
   ],
   "source": [
    "plt.hist(img_ms.ravel(), bins=255, rwidth=0.8, range=(0, 255))\n",
    "plt.savefig(\"../picture/result22_hist_ms.jpg\")\n",
    "plt.show()"
   ]
  },
  {
   "cell_type": "code",
   "execution_count": 7,
   "metadata": {},
   "outputs": [
    {
     "data": {
      "text/plain": [
       "-1"
      ]
     },
     "execution_count": 7,
     "metadata": {},
     "output_type": "execute_result"
    }
   ],
   "source": [
    "cv2.imshow(\"result\", img_ms)\n",
    "cv2.waitKey(0)"
   ]
  },
  {
   "cell_type": "markdown",
   "metadata": {},
   "source": [
    "# 23-直方图均衡化 (Histogram Equalization)"
   ]
  },
  {
   "cell_type": "markdown",
   "metadata": {},
   "source": [
    "直方图均衡化是使直方图变得平坦的操作，是不需要计算上面的问题中的平均值、标准差等数据使直方图的值变得均衡的操作。\n",
    "\n",
    "均衡化操作由以下式子定义。$S$是总的像素数；$Z_{max}$是像素点的最大取值（在这里是$255$）；$h(z)$表示取值为$z$的累积分布函数： $$ Z' = \\frac{Z_{max}}{S} \\ \\sum\\limits_{i=0}^z\\ h(i) $$"
   ]
  },
  {
   "cell_type": "code",
   "execution_count": 4,
   "metadata": {},
   "outputs": [],
   "source": [
    "def equal(img, z_max):\n",
    "    \n",
    "    h, w, c = img.shape\n",
    "    s = h * w * c * 1.\n",
    "    \n",
    "    out = img.copy()\n",
    "    \n",
    "    sum_h = 0.\n",
    "\n",
    "    for i in range(1, 255):\n",
    "        ind = np.where(img == i)\n",
    "        sum_h += len(img[ind])\n",
    "        z_prime = z_max / s * sum_h\n",
    "        out[ind] = z_prime\n",
    "\n",
    "    out = out.astype(np.uint8)\n",
    "\n",
    "    return out "
   ]
  },
  {
   "cell_type": "code",
   "execution_count": 5,
   "metadata": {},
   "outputs": [],
   "source": [
    "img_equal = equal(img, 255)"
   ]
  },
  {
   "cell_type": "code",
   "execution_count": 6,
   "metadata": {},
   "outputs": [
    {
     "data": {
      "image/png": "[encoded data removed]",
      "text/plain": [
       "<Figure size 432x288 with 1 Axes>"
      ]
     },
     "metadata": {},
     "output_type": "display_data"
    },
    {
     "data": {
      "text/plain": [
       "-1"
      ]
     },
     "execution_count": 6,
     "metadata": {},
     "output_type": "execute_result"
    }
   ],
   "source": [
    "plt.hist(img_equal.ravel(), bins=255, rwidth=0.8, range=(0, 255))\n",
    "plt.savefig(\"../picture/result23_hist_equal.jpg\")\n",
    "plt.show()\n",
    "\n",
    "cv2.imshow(\"result\",  img_equal)\n",
    "cv2.waitKey(0)"
   ]
  },
  {
   "cell_type": "markdown",
   "metadata": {},
   "source": [
    "# 24-伽玛校正（Gamma Correction）"
   ]
  },
  {
   "cell_type": "markdown",
   "metadata": {},
   "source": [
    "伽马校正（$c=1$，$g=2.2$）\n",
    "\n",
    "伽马校正用来对照相机等电子设备传感器的非线性光电转换特性进行校正。如果图像原样显示在显示器等上，画面就会显得很暗。伽马校正通过预先增大 RGB 的值来排除显示器的影响，达到对图像修正的目的。\n",
    "\n",
    "由于下式引起非线性变换，在该式中，$x$被归一化，限定在$[0,1]$范围内。$c$是常数，$g$为伽马变量（通常取$2.2$）： $$ x' = c\\ {I_{in}}^ g $$ 因此，使用下面的式子进行伽马校正： $$ I_{out} ={\\frac{1}{c}\\ I_{in}} ^ {\\frac{1}{g}} $$"
   ]
  },
  {
   "cell_type": "code",
   "execution_count": 9,
   "metadata": {},
   "outputs": [],
   "source": [
    "import math"
   ]
  },
  {
   "cell_type": "code",
   "execution_count": 22,
   "metadata": {},
   "outputs": [],
   "source": [
    "def gamma(img, c=1, g=2.2):\n",
    "    \n",
    "    out = img.copy().astype(np.float)\n",
    "    \n",
    "    out /= 255.\n",
    "    out = (1/c * out) ** (1/g)\n",
    "\n",
    "    out *= 255\n",
    "    out = out.astype(np.uint8)\n",
    "    \n",
    "    return out"
   ]
  },
  {
   "cell_type": "code",
   "execution_count": 23,
   "metadata": {},
   "outputs": [],
   "source": [
    "img_gam = gamma(img)"
   ]
  },
  {
   "cell_type": "code",
   "execution_count": null,
   "metadata": {},
   "outputs": [],
   "source": []
  }
 ],
 "metadata": {
  "kernelspec": {
   "display_name": "Python 3",
   "language": "python",
   "name": "python3"
  },
  "language_info": {
   "codemirror_mode": {
    "name": "ipython",
    "version": 3
   },
   "file_extension": ".py",
   "mimetype": "text/x-python",
   "name": "python",
   "nbconvert_exporter": "python",
   "pygments_lexer": "ipython3",
   "version": "3.6.5"
  },
  "toc": {
   "base_numbering": 1,
   "nav_menu": {},
   "number_sections": true,
   "sideBar": true,
   "skip_h1_title": false,
   "title_cell": "Table of Contents",
   "title_sidebar": "Contents",
   "toc_cell": false,
   "toc_position": {},
   "toc_section_display": true,
   "toc_window_display": false
  }
 },
 "nbformat": 4,
 "nbformat_minor": 2
}
