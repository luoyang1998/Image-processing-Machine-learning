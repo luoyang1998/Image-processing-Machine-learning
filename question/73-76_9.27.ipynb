{
 "cells": [
  {
   "cell_type": "markdown",
   "metadata": {},
   "source": [
    "# 73-缩小和放大"
   ]
  },
  {
   "cell_type": "markdown",
   "metadata": {},
   "source": [
    "将imori.jpg进行灰度化处理之后，先缩小至原来的$0.5$倍，再放大两倍吧。这样做的话，会得到模糊的图像。\n",
    "\n",
    "放大缩小的时候使用双线性插值。如果将双线性插值方法编写成函数的话，编程会变得简洁一些。"
   ]
  },
  {
   "cell_type": "code",
   "execution_count": 1,
   "metadata": {},
   "outputs": [],
   "source": [
    "import cv2\n",
    "import numpy as np\n",
    "import matplotlib.pyplot as plt"
   ]
  },
  {
   "cell_type": "code",
   "execution_count": 2,
   "metadata": {},
   "outputs": [],
   "source": [
    "img = cv2.imread('../picture/chan.jpg').astype(np.float32)"
   ]
  },
  {
   "cell_type": "code",
   "execution_count": 3,
   "metadata": {},
   "outputs": [],
   "source": [
    "def BGR2GRAY(img):\n",
    "\n",
    "    gray = 0.2126 * img[..., 2] + 0.7152 * img[..., 1] + 0.0722 * img[..., 0]\n",
    "    \n",
    "    return gray"
   ]
  },
  {
   "cell_type": "code",
   "execution_count": 4,
   "metadata": {},
   "outputs": [],
   "source": [
    "def bl_interpolate(img, ax, ay):\n",
    "    \n",
    "    if len(img.shape) > 2:\n",
    "        H, W, C = img.shape\n",
    "    else:\n",
    "        H, W = img.shape\n",
    "        C = 1\n",
    "        \n",
    "    aH = int(ay * H)\n",
    "    aW = int(ax * W)\n",
    "\n",
    "    # get position of resized image\n",
    "    y = np.arange(aH).repeat(aW).reshape(aW, -1)\n",
    "    x = np.tile(np.arange(aW), (aH, 1))\n",
    "\n",
    "    # get position of original position\n",
    "    y = (y / ay)\n",
    "    x = (x / ax)\n",
    "    \n",
    "    ix = np.floor(x).astype(np.int)\n",
    "    iy = np.floor(y).astype(np.int)\n",
    "    \n",
    "    ix = np.minimum(ix, W-2)\n",
    "    iy = np.minimum(iy, H-2)\n",
    "    \n",
    "    # get distance \n",
    "    dx = x - ix\n",
    "    dy = y - iy\n",
    "    \n",
    "    if C > 1:\n",
    "        dx = np.repeat(np.expand_dims(dx, axis=-1), C, axis=-1)\n",
    "        dy = np.repeat(np.expand_dims(dy, axis=-1), C, axis=-1)\n",
    "\n",
    "    # interpolation\n",
    "    out = (1-dx) * (1-dy) * img[iy, ix] + dx * (1 - dy) * img[iy, ix+1] + (1 - dx) * dy * img[iy+1, ix] + dx * dy * img[iy+1, ix+1]\n",
    "\n",
    "    out = np.clip(out, 0, 255)\n",
    "    out = out.astype(np.uint8)\n",
    "\n",
    "    return out"
   ]
  },
  {
   "cell_type": "code",
   "execution_count": 5,
   "metadata": {},
   "outputs": [],
   "source": [
    "gray = BGR2GRAY(img)"
   ]
  },
  {
   "cell_type": "code",
   "execution_count": 10,
   "metadata": {},
   "outputs": [],
   "source": [
    "out = bl_interpolate(gray.astype(np.float32), ax=0.5, ay=0.5)\n",
    "\n",
    "out = bl_interpolate(out, ax=2., ay=2.)\n",
    "\n",
    "out = out.astype(np.uint8)"
   ]
  },
  {
   "cell_type": "code",
   "execution_count": 11,
   "metadata": {},
   "outputs": [],
   "source": [
    "cv2.imwrite(\"../picture/result73_zoom_out_in.jpg\", out)\n",
    "cv2.imshow(\"result\", out)\n",
    "cv2.waitKey(0)\n",
    "cv2.destroyAllWindows()"
   ]
  },
  {
   "cell_type": "markdown",
   "metadata": {},
   "source": [
    "# 74-使用差分金字塔提取高频成分"
   ]
  },
  {
   "cell_type": "markdown",
   "metadata": {},
   "source": [
    "求出问题七十三中得到的图像与原图像的差，并将其正规化至$[0,255]$​范围。\n",
    "\n",
    "在这里求得的就是图像的边缘。即，图像的高频成分。"
   ]
  },
  {
   "cell_type": "code",
   "execution_count": 12,
   "metadata": {},
   "outputs": [],
   "source": [
    "out = bl_interpolate(gray.astype(np.float32), ax=0.5, ay=0.5)\n",
    "\n",
    "out = bl_interpolate(out, ax=2., ay=2.)\n",
    "\n",
    "out = np.abs(out - gray)\n",
    "\n",
    "out = out / out.max() * 255\n",
    "\n",
    "out = out.astype(np.uint8)"
   ]
  },
  {
   "cell_type": "code",
   "execution_count": null,
   "metadata": {},
   "outputs": [],
   "source": [
    "cv2.imwrite(\"../picture/result74_Difference pyramid.jpg\", out)\n",
    "cv2.imshow(\"result\", out)\n",
    "cv2.waitKey(0)\n",
    "cv2.destroyAllWindows()"
   ]
  },
  {
   "cell_type": "markdown",
   "metadata": {},
   "source": [
    "# 75-高斯金字塔（Gaussian Pyramid）"
   ]
  },
  {
   "cell_type": "markdown",
   "metadata": {},
   "source": [
    "在这里我们求出原图像$\\frac{1}{2}$, $\\frac{1}{4}$, $\\frac{1}{8}$, $\\frac{1}{16}$, $\\frac{1}{32}$大小的图像。\n",
    "\n",
    "像这样把原图像缩小之后（像金字塔一样）重叠起来的就被称为高斯金字塔。\n",
    "\n",
    "这种高斯金字塔的方法现在仍然有效。高斯金字塔的方法也用于提高图像清晰度的超分辨率成像（Super-Resolution ）深度学习方法。"
   ]
  },
  {
   "cell_type": "code",
   "execution_count": 5,
   "metadata": {},
   "outputs": [],
   "source": [
    "def make_pyramid(gray):\n",
    "    \n",
    "    pyramid = [gray]\n",
    "    \n",
    "    for i in range(1, 6):\n",
    "        a = 2. ** i\n",
    "        \n",
    "        p = bl_interpolate(gray, ax=1./a, ay=1./a)\n",
    "        \n",
    "        pyramid.append(p)\n",
    "        \n",
    "    return pyramid"
   ]
  },
  {
   "cell_type": "code",
   "execution_count": 6,
   "metadata": {},
   "outputs": [],
   "source": [
    "gray = BGR2GRAY(img)"
   ]
  },
  {
   "cell_type": "code",
   "execution_count": 9,
   "metadata": {},
   "outputs": [],
   "source": [
    "pyramid = make_pyramid(img)"
   ]
  },
  {
   "cell_type": "code",
   "execution_count": 10,
   "metadata": {},
   "outputs": [
    {
     "name": "stderr",
     "output_type": "stream",
     "text": [
      "Clipping input data to the valid range for imshow with RGB data ([0..1] for floats or [0..255] for integers).\n"
     ]
    },
    {
     "data": {
      "image/png": "[encoded data removed]",
      "text/plain": [
       "<Figure size 432x288 with 6 Axes>"
      ]
     },
     "metadata": {},
     "output_type": "display_data"
    }
   ],
   "source": [
    "for i in range(6):\n",
    "#     cv2.imwrite(\"../picture/result75_pyramid_{}.jpg\".format(2**i), pyramid[i].astype(np.uint8))\n",
    "    plt.subplot(1, 6, i+1)\n",
    "    plt.imshow(pyramid[i], cmap='gray')\n",
    "    plt.axis('off')\n",
    "    plt.xticks(color=\"None\")\n",
    "    plt.yticks(color=\"None\")\n",
    "\n",
    "plt.savefig(\"../picture/result82_Harris.jpg\")\n",
    "plt.show()"
   ]
  },
  {
   "cell_type": "markdown",
   "metadata": {},
   "source": [
    "# 76-显著图（Saliency Map）"
   ]
  },
  {
   "cell_type": "markdown",
   "metadata": {},
   "source": [
    "在这里我们使用高斯金字塔制作简单的显著图。\n",
    "\n",
    "显著图是将一副图像中容易吸引人的眼睛注意的部分（突出）表现的图像。\n",
    "\n",
    "虽然现在通常使用深度学习的方法计算显著图，但是一开始人们用图像的RGB成分或者HSV成分创建高斯金字塔，并通过求差来得到显著图（例如Itti等人的方法）。\n",
    "\n",
    "在这里我们使用在问题75中得到的高斯金字塔来简单地求出显著图。算法如下：\n",
    "\n",
    "1. 我们使用双线性插值调整图像大小至$\\frac{1}{128}$、 $\\frac{1}{64}$、$\\frac{1}{32}$……一开始是缩放至$\\frac{1}{128}$。\n",
    "2. 将得到的金字塔（我们将金字塔的各层分别编号为0,1,2,3,4,5）两两求差。\n",
    "3. 将第2步中求得的差分全部相加，并正规化至$[0,255]$。\n",
    "\n",
    "完成以上步骤就可以得到显著图了。虽然第2步中并没有指定要选择哪两张图像，但如果选择两个好的图像，则可以像答案那样得到一张显著图。\n",
    "\n",
    "从图上可以清楚地看出，蝾螈的眼睛部分和颜色与周围不太一样的地方变成了白色，这些都是人的眼睛容易停留的地方。\n",
    "\n",
    "解答中使用了$(0,1)$、$(0,3)$、$(0,5)$、$(1,4)$、$(2,3)$、$(3,5)$。"
   ]
  },
  {
   "cell_type": "code",
   "execution_count": 8,
   "metadata": {},
   "outputs": [],
   "source": [
    "def makepyramid(gray):\n",
    "    \n",
    "    pyramid = [gray]\n",
    "    \n",
    "    for i in range(1, 6):\n",
    "        \n",
    "        a = 2. ** i\n",
    "        \n",
    "        p = bl_interpolate(gray, ax=1./a, ay=1./a)\n",
    "        \n",
    "        p = bl_interpolate(p, ax=a, ay=a)\n",
    "        \n",
    "        pyramid.append(p.astype(np.float32))\n",
    "        \n",
    "    return pyramid"
   ]
  },
  {
   "cell_type": "code",
   "execution_count": 10,
   "metadata": {},
   "outputs": [],
   "source": [
    "def saliency_map(pyramid):\n",
    "\n",
    "    H, W = pyramid[0].shape\n",
    "\n",
    "    # prepare out image\n",
    "    out = np.zeros((H, W), dtype=np.float32)\n",
    "\n",
    "    # add each difference\n",
    "    out += np.abs(pyramid[0] - pyramid[1])\n",
    "    out += np.abs(pyramid[0] - pyramid[3])\n",
    "    out += np.abs(pyramid[0] - pyramid[5])\n",
    "    out += np.abs(pyramid[1] - pyramid[4])\n",
    "    out += np.abs(pyramid[2] - pyramid[3])\n",
    "    out += np.abs(pyramid[3] - pyramid[5])\n",
    "\n",
    "    # normalization\n",
    "    out = out / out.max() * 255\n",
    "\n",
    "    return out"
   ]
  },
  {
   "cell_type": "code",
   "execution_count": 12,
   "metadata": {},
   "outputs": [],
   "source": [
    "imge = cv2.imread('../picture/chans.png').astype(np.float32)"
   ]
  },
  {
   "cell_type": "code",
   "execution_count": 13,
   "metadata": {},
   "outputs": [],
   "source": [
    "gray = BGR2GRAY(imge)\n",
    "\n",
    "pyramid = makepyramid(gray)\n",
    "    \n",
    "out = saliency_map(pyramid)\n",
    "\n",
    "out = out.astype(np.uint8)"
   ]
  },
  {
   "cell_type": "code",
   "execution_count": null,
   "metadata": {},
   "outputs": [],
   "source": [
    "cv2.imwrite(\"../picture/result76_Saliency_Map.jpg\", out)\n",
    "cv2.imshow(\"result\", out)\n",
    "cv2.waitKey(0)\n",
    "cv2.destroyAllWindows()"
   ]
  },
  {
   "cell_type": "code",
   "execution_count": null,
   "metadata": {},
   "outputs": [],
   "source": []
  }
 ],
 "metadata": {
  "kernelspec": {
   "display_name": "Python 3",
   "language": "python",
   "name": "python3"
  },
  "language_info": {
   "codemirror_mode": {
    "name": "ipython",
    "version": 3
   },
   "file_extension": ".py",
   "mimetype": "text/x-python",
   "name": "python",
   "nbconvert_exporter": "python",
   "pygments_lexer": "ipython3",
   "version": "3.6.5"
  }
 },
 "nbformat": 4,
 "nbformat_minor": 2
}
