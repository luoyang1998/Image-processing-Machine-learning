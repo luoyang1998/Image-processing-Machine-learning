{
 "cells": [
  {
   "cell_type": "markdown",
   "metadata": {},
   "source": [
    "# 81-Hessian角点检测"
   ]
  },
  {
   "cell_type": "markdown",
   "metadata": {},
   "source": [
    "对thorino.jpg进行Hessian角点检测吧！\n",
    "\n",
    "角点检测是检测边缘上的角点。\n",
    "\n",
    "角点是曲率变大的点，下式定义了高斯曲率： $$ K=\\frac{\\det(H)}{(1+{I_x}^2+{I_y}^2)^2} $$\n",
    "\n",
    "其中：\n",
    "\n",
    "$\\det(H)=I_{xx}\\ I_{yy}-{I_{xy}}^2$；\n",
    "\n",
    "$H$表示Hessian矩阵。图像的二次微分（通过将Sobel滤波器应用于灰度图像计算得来）。对于图像上的一点，按照下式定义：\n",
    "\n",
    "$I_x$：应用$x$方向上的Sobel滤波器；\n",
    "$I_y$：应用$y$方向上的Sobel滤波器；\n",
    "\n",
    "$H=\\left[\\begin{matrix}I_{xx}&I_{xy}\\ I_{xy}&I_{yy}\\end{matrix}\\right]$\n",
    "在Hessian角点检测中，$\\det{H}$将极大点视为j角点。\n",
    "\n",
    "如果中心像素与其$8-$近邻像素相比值最大，则中心像素为极大点。\n",
    "\n",
    "解答中，角点是$\\det(H)$为极大值，并且大于$\\max(\\det(H))\\cdot 0.1$的点。"
   ]
  },
  {
   "cell_type": "code",
   "execution_count": 1,
   "metadata": {},
   "outputs": [],
   "source": [
    "import cv2\n",
    "import numpy as np\n",
    "import matplotlib.pyplot as plt"
   ]
  },
  {
   "cell_type": "code",
   "execution_count": 2,
   "metadata": {},
   "outputs": [],
   "source": [
    "img = cv2.imread('../picture/chans.png').astype(np.float32)"
   ]
  },
  {
   "cell_type": "code",
   "execution_count": 3,
   "metadata": {},
   "outputs": [],
   "source": [
    "def BGR2GRAY(img):\n",
    "    \n",
    "        gray = 0.2126 * img[..., 2] + 0.7152 * img[..., 1] + 0.0722 * img[..., 0]\n",
    "        gray = gray.astype(np.uint8)\n",
    "        \n",
    "        return gray"
   ]
  },
  {
   "cell_type": "code",
   "execution_count": 8,
   "metadata": {},
   "outputs": [],
   "source": [
    "def Sobel_filtering(gray):\n",
    "        \n",
    "        H, W = gray.shape\n",
    "\n",
    "        # sobel kernel\n",
    "        sobely = np.array(((1, 2, 1), (0, 0, 0), (-1, -2, -1)), dtype=np.float32)\n",
    "\n",
    "        sobelx = np.array(((1, 0, -1), (2, 0, -2), (1, 0, -1)), dtype=np.float32)\n",
    "\n",
    "        # padding\n",
    "        tmp = np.pad(gray, (1, 1), 'edge')\n",
    "\n",
    "        # prepare\n",
    "        Ix = np.zeros_like(gray, dtype=np.float32)\n",
    "        Iy = np.zeros_like(gray, dtype=np.float32)\n",
    "\n",
    "        # get differential\n",
    "        for y in range(H):\n",
    "            for x in range(W):\n",
    "                Ix[y, x] = np.mean(tmp[y : y  + 3, x : x + 3] * sobelx)\n",
    "                Iy[y, x] = np.mean(tmp[y : y + 3, x : x + 3] * sobely)\n",
    "\n",
    "        Ix2 = Ix ** 2\n",
    "        Iy2 = Iy ** 2\n",
    "        Ixy = Ix * Iy\n",
    "\n",
    "        return Ix2, Iy2, Ixy"
   ]
  },
  {
   "cell_type": "code",
   "execution_count": 5,
   "metadata": {},
   "outputs": [],
   "source": [
    "## Hessian\n",
    "def corner_detect(gray, Ix2, Iy2, Ixy):\n",
    "    \n",
    "    H, W = gray.shape\n",
    "\n",
    "    # prepare for show detection\n",
    "    out = np.array((gray, gray, gray))\n",
    "    out = np.transpose(out, (1,2,0))\n",
    "\n",
    "    # get Hessian value\n",
    "    Hes = np.zeros((H, W))\n",
    "\n",
    "    for y in range(H):\n",
    "         for x in range(W):\n",
    "            Hes[y,x] = Ix2[y,x] * Iy2[y,x] - Ixy[y,x] ** 2\n",
    "\n",
    "    ## Detect Corner and show\n",
    "    for y in range(H):\n",
    "        for x in range(W):\n",
    "            if Hes[y,x] == np.max(Hes[max(y-1, 0) : min(y+2, H), max(x-1, 0) : min(x+2, W)]) and Hes[y, x] > np.max(Hes) * 0.1:\n",
    "                out[y, x] = [0, 0, 255]\n",
    "\n",
    "    out = out.astype(np.uint8)\n",
    "\n",
    "    return out"
   ]
  },
  {
   "cell_type": "code",
   "execution_count": 6,
   "metadata": {},
   "outputs": [],
   "source": [
    "def Hessian_corner(img):\n",
    "    \n",
    "    # 1. grayscale\n",
    "    gray = BGR2GRAY(img)\n",
    "\n",
    "    # 2. get difference image\n",
    "    Ix2, Iy2, Ixy = Sobel_filtering(gray)\n",
    "\n",
    "    # 3. corner detection\n",
    "    out = corner_detect(gray, Ix2, Iy2, Ixy)\n",
    "\n",
    "    return out"
   ]
  },
  {
   "cell_type": "code",
   "execution_count": 9,
   "metadata": {},
   "outputs": [],
   "source": [
    "out = Hessian_corner(img)"
   ]
  },
  {
   "cell_type": "code",
   "execution_count": 10,
   "metadata": {},
   "outputs": [],
   "source": [
    "cv2.imwrite(\"../picture/result81_Hessian.jpg\", out)\n",
    "cv2.imshow(\"result\", out)\n",
    "cv2.waitKey(0)\n",
    "cv2.destroyAllWindows()"
   ]
  },
  {
   "cell_type": "markdown",
   "metadata": {},
   "source": [
    "# 82-Harris角点检测第一步：Sobel + Gausian"
   ]
  },
  {
   "cell_type": "markdown",
   "metadata": {},
   "source": [
    "问题八十二和问题八十三对thorino.jpg进行 Harris 角点检测吧！\n",
    "\n",
    "Harris 角点检测算法如下：\n",
    "\n",
    "1. 对图像进行灰度化处理；\n",
    "\n",
    "2. 利用Sobel滤波器求出海森矩阵（Hessian matrix）：\n",
    "\n",
    "$$ H=\\left[\\begin{matrix}{I_x}^2&I_xI_y \\ I_xI_y&{I_y}^2\\end{matrix}\\right] $$\n",
    "\n",
    "3. 将高斯滤波器分别应用于${I_x}^2$、${I_y}^2$、$I_x\\ I_y$；\n",
    "\n",
    "4. 计算每个像素的$R = \\det(H) - k\\ (\\text{trace}(H))^2$。通常$K$在$[0.04,0.16]$范围内取值.\n",
    "\n",
    "5. 满足 $R \\geq \\max(R) \\cdot\\text{th} $的像素点即为角点。\n",
    "\n",
    "问题八十二至问题八十三中的参数如下：\n",
    "\n",
    "高斯滤波器：$k=3, \\sigma=3$；\n",
    "$K = 0.04, \\text{th} = 0.1$。\n",
    "在这里我们完成步骤1到步骤3。"
   ]
  },
  {
   "cell_type": "code",
   "execution_count": 14,
   "metadata": {},
   "outputs": [],
   "source": [
    "# gaussian filtering\n",
    "def gaussian_filtering(I, K_size=3, sigma=3):\n",
    "        \n",
    "    H, W = I.shape\n",
    "\n",
    "    ## gaussian\n",
    "    I_t = np.pad(I, (K_size // 2, K_size // 2), 'edge')\n",
    "\n",
    "    # gaussian kernel\n",
    "    K = np.zeros((K_size, K_size), dtype=np.float)\n",
    "    for x in range(K_size):\n",
    "        for y in range(K_size):\n",
    "            _x = x - K_size // 2\n",
    "            _y = y - K_size // 2\n",
    "            K[y, x] = np.exp( -(_x ** 2 + _y ** 2) / (2 * (sigma ** 2)))\n",
    "    K /= (sigma * np.sqrt(2 * np.pi))\n",
    "    K /= K.sum()\n",
    "\n",
    "    # filtering\n",
    "    for y in range(H):\n",
    "        for x in range(W):\n",
    "            I[y,x] = np.sum(I_t[y : y + K_size, x : x + K_size] * K)\n",
    "\n",
    "    return I"
   ]
  },
  {
   "cell_type": "code",
   "execution_count": 11,
   "metadata": {},
   "outputs": [],
   "source": [
    "def Harris_corner_step1(img):\n",
    "    \n",
    "    gray = BGR2GRAY(img)\n",
    "    \n",
    "    Ix2, Iy2, Ixy = Sobel_filtering(gray)\n",
    "    \n",
    "    Ix2 = gaussian_filtering(Ix2, K_size=3, sigma=3)\n",
    "    Iy2 = gaussian_filtering(Iy2, K_size=3, sigma=3)\n",
    "    Ixy = gaussian_filtering(Ixy, K_size=3, sigma=3)\n",
    "    \n",
    "    return Ix2, Iy2, Ixy"
   ]
  },
  {
   "cell_type": "code",
   "execution_count": 15,
   "metadata": {},
   "outputs": [],
   "source": [
    "Ix2, Iy2, Ixy = Harris_corner_step1(img)"
   ]
  },
  {
   "cell_type": "code",
   "execution_count": 16,
   "metadata": {},
   "outputs": [
    {
     "data": {
      "image/png": "[encoded data removed]",
      "text/plain": [
       "<Figure size 432x288 with 3 Axes>"
      ]
     },
     "metadata": {},
     "output_type": "display_data"
    }
   ],
   "source": [
    "plt.subplots_adjust(left=0, right=1, top=1, bottom=0, hspace=0, wspace=0.2)\n",
    "\n",
    "plt.subplot(1,3,1)\n",
    "plt.imshow(Ix2, cmap='gray')\n",
    "plt.title(\"Ix^2\")\n",
    "plt.axis(\"off\")    \n",
    "\n",
    "plt.subplot(1,3,2)\n",
    "plt.imshow(Iy2, cmap='gray')\n",
    "plt.title(\"Iy^2\")\n",
    "plt.axis(\"off\")\n",
    "\n",
    "plt.subplot(1,3,3)\n",
    "plt.imshow(Ixy, cmap='gray')\n",
    "plt.title(\"Ixy\")\n",
    "plt.axis(\"off\")\n",
    "\n",
    "plt.savefig(\"../picture/result82_Harris.jpg\")\n",
    "plt.show()"
   ]
  },
  {
   "cell_type": "markdown",
   "metadata": {},
   "source": [
    "# 83-Harris角点检测第二步：角点检测"
   ]
  },
  {
   "cell_type": "markdown",
   "metadata": {},
   "source": [
    "在这里进行算法的步骤四和步骤五​吧！\n",
    "\n",
    "在步骤四中，$K = 0.04$；在步骤五中$\\text{th} = 0.1$。"
   ]
  },
  {
   "cell_type": "code",
   "execution_count": 17,
   "metadata": {},
   "outputs": [],
   "source": [
    "def corner_detect(gray, Ix2, Iy2, Ixy, k=0.04, th=0.1):\n",
    "    \n",
    "    out = np.array((gray, gray, gray))\n",
    "    out = np.transpose(out, (1,2,0))\n",
    "\n",
    "    # get R\n",
    "    R = (Ix2 * Iy2 - Ixy ** 2) - k * ((Ix2 + Iy2) ** 2)\n",
    "\n",
    "    # detect corner\n",
    "    out[R >= np.max(R) * th] = [0, 0, 255]\n",
    "\n",
    "    out = out.astype(np.uint8)\n",
    "\n",
    "    return out"
   ]
  },
  {
   "cell_type": "code",
   "execution_count": 18,
   "metadata": {},
   "outputs": [],
   "source": [
    "def Harris_corner(img):\n",
    "    \n",
    "    gray = BGR2GRAY(img)\n",
    "    \n",
    "    Ix2, Iy2, Ixy = Sobel_filtering(gray)\n",
    "    \n",
    "    Ix2 = gaussian_filtering(Ix2, K_size=3, sigma=3)\n",
    "    Iy2 = gaussian_filtering(Iy2, K_size=3, sigma=3)\n",
    "    Ixy = gaussian_filtering(Ixy, K_size=3, sigma=3)\n",
    "    \n",
    "    out = corner_detect(gray, Ix2, Iy2, Ixy)\n",
    "    \n",
    "    return out"
   ]
  },
  {
   "cell_type": "code",
   "execution_count": 19,
   "metadata": {},
   "outputs": [],
   "source": [
    "out = Harris_corner(img)"
   ]
  },
  {
   "cell_type": "code",
   "execution_count": 20,
   "metadata": {},
   "outputs": [],
   "source": [
    "cv2.imwrite(\"../picture/result83_Harris.jpg\", out)\n",
    "cv2.imshow(\"result\", out)\n",
    "cv2.waitKey(0)\n",
    "cv2.destroyAllWindows()"
   ]
  },
  {
   "cell_type": "code",
   "execution_count": null,
   "metadata": {},
   "outputs": [],
   "source": []
  }
 ],
 "metadata": {
  "kernelspec": {
   "display_name": "Python 3",
   "language": "python",
   "name": "python3"
  },
  "language_info": {
   "codemirror_mode": {
    "name": "ipython",
    "version": 3
   },
   "file_extension": ".py",
   "mimetype": "text/x-python",
   "name": "python",
   "nbconvert_exporter": "python",
   "pygments_lexer": "ipython3",
   "version": "3.6.5"
  }
 },
 "nbformat": 4,
 "nbformat_minor": 2
}
