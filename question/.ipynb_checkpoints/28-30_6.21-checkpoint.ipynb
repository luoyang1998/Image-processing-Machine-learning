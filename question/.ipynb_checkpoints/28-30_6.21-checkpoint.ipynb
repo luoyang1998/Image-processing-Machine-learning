{
 "cells": [
  {
   "cell_type": "markdown",
   "metadata": {},
   "source": [
    "# 28-仿射变换（ Afine Transformations ）——平行移动"
   ]
  },
  {
   "cell_type": "markdown",
   "metadata": {},
   "source": [
    "利用仿射变换让图像在$x$方向上$+30$，在$y$方向上$-30$吧！\n",
    "\n",
    "仿射变换利用$3\\times3$的矩阵来进行图像变换。\n",
    "\n",
    "变换的方式有平行移动（问题二十八）、放大缩小（问题二十九）、旋转（问题三十）、倾斜（问题三十一）等。\n",
    "\n",
    "原图像记为$(x,y)$，变换后的图像记为$(x',y')$。\n",
    "\n",
    "图像放大缩小矩阵为下式： $$ \\left( \\begin{matrix} x'\\ y' \\end{matrix} \\right)= \\left( \\begin{matrix} a&b\\ c&d \\end{matrix} \\right)\\ \\left( \\begin{matrix} x\\ y \\end{matrix} \\right) $$ 另一方面，平行移动按照下面的式子计算： $$ \\left( \\begin{matrix} x'\\ y' \\end{matrix} \\right)= \\left( \\begin{matrix} x\\ y \\end{matrix} \\right)+ \\left( \\begin{matrix} t_x\\ t_y \\end{matrix} \\right) $$ 把上面两个式子盘成一个： $$ \\left( \\begin{matrix} x'\\ y'\\ 1 \\end{matrix} \\right)= \\left( \\begin{matrix} a&b&t_x\\ c&d&t_y\\ 0&0&1 \\end{matrix} \\right)\\ \\left( \\begin{matrix} x\\ y\\ 1 \\end{matrix} \\right) $$ 但是在实际操作的过程中，如果一个一个地计算原图像的像素的话，处理后的像素可能没有在原图像中有对应的坐标。^2\n",
    "\n",
    "因此，我们有必要对处理后的图像中各个像素进行仿射变换逆变换，取得变换后图像中的像素在原图像中的坐标。仿射变换的逆变换如下： $$ \\left( \\begin{matrix} x\\ y \\end{matrix} \\right)= \\frac{1}{a\\ d-b\\ c}\\ \\left( \\begin{matrix} d&-b\\ -c&a \\end{matrix} \\right)\\\n",
    "\\left( \\begin{matrix} x'\\ y' \\end{matrix} \\right)- \\left( \\begin{matrix} t_x\\ t_y \\end{matrix} \\right) $$ 这回的平行移动操作使用下面的式子计算。$t_x$和$t_y$是像素移动的距离。 $$ \\left( \\begin{matrix} x'\\ y'\\ 1 \\end{matrix} \\right)= \\left( \\begin{matrix} 1&0&t_x\\ 0&1&t_y\\ 0&0&1 \\end{matrix} \\right)\\\n",
    "\\left( \\begin{matrix} x\\ y\\ 1 \\end{matrix} \\right) $$"
   ]
  },
  {
   "cell_type": "code",
   "execution_count": 1,
   "metadata": {},
   "outputs": [],
   "source": [
    "import numpy as np\n",
    "import cv2\n",
    "import matplotlib.pyplot as plt"
   ]
  },
  {
   "cell_type": "code",
   "execution_count": 2,
   "metadata": {},
   "outputs": [],
   "source": [
    "img = cv2.imread('../picture/chans.png').astype(np.float32)"
   ]
  },
  {
   "cell_type": "code",
   "execution_count": 3,
   "metadata": {},
   "outputs": [],
   "source": [
    "def affine(img, a, b, c, d, tx, ty):\n",
    "\tH, W, C = img.shape\n",
    "\n",
    "\t# temporary image\n",
    "\timg_ = np.zeros((H+2, W+2, C), dtype=np.float32)\n",
    "\timg_[1:H+1, 1:W+1] = img\n",
    "\n",
    "\t# get new image shape\n",
    "\tH_new = np.round(H * d).astype(np.int)\n",
    "\tW_new = np.round(W * a).astype(np.int)\n",
    "\tout = np.zeros((H_new+1, W_new+1, C), dtype=np.float32)\n",
    "\n",
    "\t# get position of new image\n",
    "\tx_new = np.tile(np.arange(W_new), (H_new, 1))\n",
    "\ty_new = np.arange(H_new).repeat(W_new).reshape(H_new, -1)\n",
    "\n",
    "\t# get position of original image by affine\n",
    "\tadbc = a * d - b * c\n",
    "\tx = np.round((d * x_new  - b * y_new) / adbc).astype(np.int) - tx + 1\n",
    "\ty = np.round((-c * x_new + a * y_new) / adbc).astype(np.int) - ty + 1\n",
    "\n",
    "\tx = np.minimum(np.maximum(x, 0), W+1).astype(np.int)\n",
    "\ty = np.minimum(np.maximum(y, 0), H+1).astype(np.int)\n",
    "\n",
    "\t# assgin pixcel to new image\n",
    "\tout[y_new, x_new] = img_[y, x]\n",
    "\n",
    "\tout = out[:H_new, :W_new]\n",
    "\tout = out.astype(np.uint8)\n",
    "\n",
    "\treturn out"
   ]
  },
  {
   "cell_type": "code",
   "execution_count": 10,
   "metadata": {},
   "outputs": [],
   "source": [
    "img_affine = affine(img, a=1, b=0, c=0, d=1, tx=30, ty=-30)"
   ]
  },
  {
   "cell_type": "code",
   "execution_count": 11,
   "metadata": {},
   "outputs": [],
   "source": [
    "cv2.imwrite('../picture/chan_result28_Afine Transformations.jpg', img_affine)\n",
    "cv2.namedWindow(\"result\", 0);\n",
    "cv2.resizeWindow(\"result\", (600, 600));\n",
    "cv2.imshow(\"result\", img_affine)\n",
    "cv2.waitKey(0)\n",
    "cv2.destroyAllWindows()"
   ]
  },
  {
   "cell_type": "markdown",
   "metadata": {},
   "source": [
    "# 29-仿射变换（ Afine Transformations ）——放大缩小"
   ]
  },
  {
   "cell_type": "markdown",
   "metadata": {},
   "source": [
    "1. 使用仿射变换，将图片在$x$方向上放大$1.3$倍，在$y$方向上缩小至原来的$\\frac{4}{5}$。\n",
    "2. 在上面的条件下，同时在$x$方向上向右平移$30$（$+30$），在$y$方向上向上平移$30$（$-30$）。"
   ]
  },
  {
   "cell_type": "code",
   "execution_count": 4,
   "metadata": {},
   "outputs": [],
   "source": [
    "img_af2 = affine(img, a=1.3, b=0, c=0, d=0.8, tx=30, ty=-30)"
   ]
  },
  {
   "cell_type": "code",
   "execution_count": 5,
   "metadata": {},
   "outputs": [],
   "source": [
    "cv2.imwrite('../picture/chan_result29_Afine Transformations.jpg', img_af2)\n",
    "cv2.namedWindow(\"result\", 0);\n",
    "cv2.resizeWindow(\"result\", (600, 600));\n",
    "cv2.imshow(\"result\", img_af2)\n",
    "cv2.waitKey(0)\n",
    "cv2.destroyAllWindows()"
   ]
  },
  {
   "cell_type": "markdown",
   "metadata": {},
   "source": [
    "# 30-仿射变换（ Afine Transformations ）——旋转"
   ]
  },
  {
   "cell_type": "markdown",
   "metadata": {},
   "source": [
    "1. 使用仿射变换，逆时针旋转$30$度。\n",
    "2. 使用仿射变换，逆时针旋转$30$度并且能让全部图像显现（也就是说，单纯地做仿射变换会让图片边缘丢失，这一步中要让图像的边缘不丢失，需要耗费一些工夫）。\n",
    "使用下面的式子进行逆时针方向旋转$A$度的仿射变换： $$ \\left( \\begin{matrix} x'\\ y'\\ 1 \\end{matrix} \\right)= \\left( \\begin{matrix} \\cos(A)&-\\sin(A)&t_x\\ \\sin(A)&\\cos(A)&t_y\\ 0&0&1 \\end{matrix} \\right)\\ \\left( \\begin{matrix} x\\ y\\ 1 \\end{matrix} \\right) $$"
   ]
  },
  {
   "cell_type": "code",
   "execution_count": 6,
   "metadata": {},
   "outputs": [],
   "source": [
    "A = 30.\n",
    "theta = - np.pi * A / 180.\n",
    "\n",
    "img_af3 = affine(img, a=np.cos(theta), b=-np.sin(theta), c=np.sin(theta), d=np.cos(theta), tx=0, ty=0)"
   ]
  },
  {
   "cell_type": "code",
   "execution_count": 7,
   "metadata": {},
   "outputs": [],
   "source": [
    "cv2.imwrite('../picture/chan_result30_Afine Transformations.jpg', img_af3)\n",
    "cv2.namedWindow(\"result\", 0);\n",
    "cv2.resizeWindow(\"result\", (600, 600));\n",
    "cv2.imshow(\"result\", img_af3)\n",
    "cv2.waitKey(0)\n",
    "cv2.destroyAllWindows()"
   ]
  },
  {
   "cell_type": "code",
   "execution_count": null,
   "metadata": {},
   "outputs": [],
   "source": []
  }
 ],
 "metadata": {
  "kernelspec": {
   "display_name": "Python 3",
   "language": "python",
   "name": "python3"
  },
  "language_info": {
   "codemirror_mode": {
    "name": "ipython",
    "version": 3
   },
   "file_extension": ".py",
   "mimetype": "text/x-python",
   "name": "python",
   "nbconvert_exporter": "python",
   "pygments_lexer": "ipython3",
   "version": "3.6.5"
  },
  "toc": {
   "base_numbering": 1,
   "nav_menu": {},
   "number_sections": true,
   "sideBar": true,
   "skip_h1_title": false,
   "title_cell": "Table of Contents",
   "title_sidebar": "Contents",
   "toc_cell": false,
   "toc_position": {},
   "toc_section_display": true,
   "toc_window_display": false
  }
 },
 "nbformat": 4,
 "nbformat_minor": 2
}
