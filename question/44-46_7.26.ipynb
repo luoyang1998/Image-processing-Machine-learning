{
 "cells": [
  {
   "cell_type": "markdown",
   "metadata": {},
   "source": [
    "# 44-霍夫变换（Hough Transform）／直线检测——第一步：霍夫变换"
   ]
  },
  {
   "cell_type": "markdown",
   "metadata": {},
   "source": [
    "霍夫变换，是将坐标由直角座标系变换到极坐标系，然后再根据数学表达式检测某些形状（如直线和圆）的方法。当直线上的点变换到极座标中的时候，会交于一定的$r$、$t$的点。这个点即为要检测的直线的参数。通过对这个参数进行逆变换，我们就可以求出直线方程。\n",
    "\n",
    "方法如下：\n",
    "\n",
    "1. 用边缘图像来对边缘像素进行霍夫变换。\n",
    "2. 在霍夫变换后获取值的直方图并选择最大点。\n",
    "3. 对极大点的r和t的值进行霍夫逆变换以获得检测到的直线的参数。\n",
    "\n",
    "在这里，进行一次霍夫变换之后，可以获得直方图。算法如下：\n",
    "\n",
    "1. 求出图像的对角线长$r_{max}$；\n",
    "2. 在边缘点$(x,y)$处，$t$取遍$[0,179]$，根据下式执行霍夫变换： $$ r_{ho}=x\\ \\cos(t)+y\\ \\sin(t) $$\n",
    "3. 做一个$180\\times r_{max}$大小的表，将每次按上式计算得到的表格$(t,r)$处的值加1。换句话说，这就是在进行投票。票数会在一定的地方集中。\n",
    "\n",
    "对图片来计算投票之后的表。使用如下参数进行 Canny 边缘检测：高斯滤波器$(5\\times5,s = 1.4)$，$HT = 100$，$LT = 30$。"
   ]
  },
  {
   "cell_type": "code",
   "execution_count": 1,
   "metadata": {},
   "outputs": [],
   "source": [
    "import cv2\n",
    "import numpy as np\n",
    "import matplotlib.pyplot as plt"
   ]
  },
  {
   "cell_type": "code",
   "execution_count": 2,
   "metadata": {},
   "outputs": [],
   "source": [
    "img = cv2.imread(\"../picture/chans.png\").astype(np.float32)"
   ]
  },
  {
   "cell_type": "code",
   "execution_count": 3,
   "metadata": {},
   "outputs": [],
   "source": [
    "# 灰度化\n",
    "def BGR2GRAY(img):\n",
    "    \n",
    "    b = img[:,:,0]\n",
    "    g = img[:,:,1]\n",
    "    r = img[:,:,2]\n",
    "    \n",
    "    gray = 0.2126 * r + 0.7152 * g + 0.0722 * b\n",
    "    gray = gray.astype(np.uint8)\n",
    "    \n",
    "    return gray"
   ]
  },
  {
   "cell_type": "code",
   "execution_count": 4,
   "metadata": {},
   "outputs": [],
   "source": [
    "def Gaussian_filter(img, K_size, sigma):\n",
    "    \n",
    "    if len(img.shape) == 3:\n",
    "        H, W, C = img.shape\n",
    "        gray = False\n",
    "    else:\n",
    "        img = np.expand_dims(img, axis=-1)\n",
    "        H, W, C = img.shape\n",
    "        gray = True\n",
    "        \n",
    "    # Zero padding\n",
    "    pad = K_size // 2\n",
    "    out = np.zeros([H + pad * 2, W + pad * 2, C], dtype=np.float)\n",
    "    out[pad: pad + H, pad: pad + W] = img.copy().astype(np.float)\n",
    "\n",
    "    # prepare Kernel\n",
    "    K = np.zeros((K_size, K_size), dtype=np.float)\n",
    "    for x in range(-pad, -pad + K_size):\n",
    "        for y in range(-pad, -pad + K_size):\n",
    "            K[y + pad, x + pad] = np.exp( - (x ** 2 + y ** 2) / (2 * (sigma ** 2)))\n",
    "    K /= (2 * np.pi * sigma * sigma)\n",
    "    K /= K.sum()\n",
    "\n",
    "    tmp = out.copy()\n",
    "\n",
    "    # filtering\n",
    "    for y in range(H):\n",
    "        for x in range(W):\n",
    "            for c in range(C):\n",
    "                out[pad + y, pad + x, c] = np.sum(K * tmp[y : y + K_size, x : x + K_size, c])\n",
    "                \n",
    "    out = np.clip(out, 0, 255)\n",
    "    out = out[pad : pad + H, pad : pad + W]\n",
    "\n",
    "    if gray:\n",
    "        out = out[..., 0]\n",
    "\n",
    "    return out"
   ]
  },
  {
   "cell_type": "code",
   "execution_count": 5,
   "metadata": {},
   "outputs": [],
   "source": [
    "# Sobel\n",
    "def Sobel_filter(img, K_size):\n",
    "    \n",
    "    if len(img.shape) == 3:\n",
    "        H, W, C = img.shape\n",
    "    else:\n",
    "        H, W = img.shape\n",
    "\n",
    "    # Zero padding\n",
    "    pad = K_size // 2\n",
    "    out = np.zeros((H + pad * 2, W + pad * 2), dtype=np.float)\n",
    "    out[pad : pad + H, pad : pad + W] = img.copy().astype(np.float)\n",
    "\n",
    "    tmp = out.copy()\n",
    "    out_v = out.copy()\n",
    "    out_h = out.copy()\n",
    "    \n",
    "    # Sobel vertical\n",
    "    Kv = [[1., 2., 1.],[0., 0., 0.], [-1., -2., -1.]]\n",
    "    # Sobel horizontal\n",
    "    Kh = [[1., 0., -1.],[2., 0., -2.],[1., 0., -1.]]\n",
    "\n",
    "    # filtering\n",
    "    for y in range(H):\n",
    "        for x in range(W):\n",
    "            out_v[pad + y, pad + x] = np.sum(Kv * tmp[y : y + K_size, x : x + K_size])\n",
    "            out_h[pad + y, pad + x] = np.sum(Kh * tmp[y : y + K_size, x : x + K_size])\n",
    "                \n",
    "    out_v = np.clip(out_v, 0, 255)\n",
    "    out_h = np.clip(out_h, 0, 255)\n",
    "    \n",
    "    out_v = out_v[pad : pad + H, pad : pad + W].astype(np.uint8)\n",
    "    out_h = out_h[pad : pad + H, pad : pad + W].astype(np.uint8)\n",
    "\n",
    "    return out_v, out_h"
   ]
  },
  {
   "cell_type": "code",
   "execution_count": 6,
   "metadata": {},
   "outputs": [],
   "source": [
    "# get edge strength, angle\n",
    "def get_edge_angle(fx, fy):\n",
    "    \n",
    "    edge = np.sqrt(np.power(fx, 2) + np.power(fy, 2))\n",
    "    fx = np.maximum(fx, 1e-5)\n",
    "    \n",
    "    angle = np.arctan(fy / fx)\n",
    "    \n",
    "    return edge, angle\n",
    "\n",
    "def angle_quantization(angle):\n",
    "    \n",
    "    angle = angle / np.pi * 180\n",
    "    \n",
    "    angle[angle < -22.5] = 180 + angle[angle < -22.5]\n",
    "    _angle = np.zeros_like(angle, dtype=np.uint8)\n",
    "    _angle[np.where(angle <= 22.5)] = 0\n",
    "    _angle[np.where((angle > 22.5) & (angle <= 67.5))] = 45\n",
    "    _angle[np.where((angle > 67.5) & (angle <= 112.5))] = 90\n",
    "    _angle[np.where((angle > 112.5) & (angle <= 157.5))] = 135\n",
    "    \n",
    "    return _angle"
   ]
  },
  {
   "cell_type": "code",
   "execution_count": 7,
   "metadata": {},
   "outputs": [],
   "source": [
    "# 非极大值抑制\n",
    "def non_maximum_suppression(angle, edge):\n",
    "    \n",
    "    H, W = angle.shape\n",
    "    _edge = edge.copy()\n",
    "    \n",
    "    for y in range(H):\n",
    "        for x in range(W):\n",
    "            if angle[y, x] == 0:\n",
    "                dx1, dy1, dx2, dy2 = -1, 0, 1, 0\n",
    "            elif angle[y, x] == 45:\n",
    "                dx1, dy1, dx2, dy2 = -1, 1, 1, -1\n",
    "            elif angle[y, x] == 90:\n",
    "                dx1, dy1, dx2, dy2 = 0, -1, 0, 1\n",
    "            elif angle[y, x] == 135:\n",
    "                dx1, dy1, dx2, dy2 = -1, -1, 1, 1\n",
    "            \n",
    "            if x == 0:\n",
    "                dx1 = max(dx1, 0)\n",
    "                dx2 = max(dx2, 0)\n",
    "            if x == W-1:\n",
    "                dx1 = min(dx1, 0)\n",
    "                dx2 = min(dx2, 0)\n",
    "            if y == 0:\n",
    "                dy1 = max(dy1, 0)\n",
    "                dy2 = max(dy2, 0)\n",
    "            if y == H-1:\n",
    "                dy1 = min(dy1, 0)\n",
    "                dy2 = min(dy2, 0)\n",
    "                \n",
    "            if max(max(edge[y, x], edge[y + dy1, x + dx1]), edge[y + dy2, x + dx2]) != edge[y, x]:_edge[y, x] = 0\n",
    "    \n",
    "    return _edge"
   ]
  },
  {
   "cell_type": "code",
   "execution_count": 8,
   "metadata": {},
   "outputs": [],
   "source": [
    "# 阈值\n",
    "def hysterisis(edge, HT, LT):\n",
    "    \n",
    "    H, W = edge.shape\n",
    "    \n",
    "    edge[edge >= HT] = 255\n",
    "    edge[edge <= LT] = 0\n",
    "    \n",
    "    _edge = np.zeros((H + 2, W + 2), dtype=np.float32)\n",
    "    _edge[1 : H + 1, 1 : W + 1] = edge\n",
    "    \n",
    "    # 8邻域\n",
    "    nn = np.array(((1., 1., 1.), (1., 0., 1.), (1., 1., 1.)), dtype=np.float32)\n",
    "    \n",
    "    for y in range(1, H+2):\n",
    "        for x in range(1, W+2):\n",
    "            if _edge[y, x] < LT or _edge[y, x] > HT:\n",
    "                continue\n",
    "            if np.max(_edge[y-1:y+2, x-1:x+2] * nn) >= HT:\n",
    "                _edge[y, x] = 255\n",
    "            else:\n",
    "                _edge[y, x] = 0\n",
    "                \n",
    "    edge = _edge[1:H+1, 1:W+1]\n",
    "    \n",
    "    return edge"
   ]
  },
  {
   "cell_type": "code",
   "execution_count": 9,
   "metadata": {},
   "outputs": [],
   "source": [
    "def Canny(img):\n",
    "    \n",
    "    def edge_angle(fx, fy):\n",
    "        \n",
    "        # get edge strength\n",
    "        edge = np.sqrt(np.power(fx.astype(np.float32), 2) + np.power(fy.astype(np.float32), 2))\n",
    "        edge = np.clip(edge, 0, 255)\n",
    "        \n",
    "        fx = np.maximum(fx, 1e-5)\n",
    "        \n",
    "        angle = np.arctan(fy / fx)\n",
    "        \n",
    "        return edge, angle\n",
    "    \n",
    "    # grayscale\n",
    "    gray = BGR2GRAY(img)\n",
    "\n",
    "    # gaussian filtering\n",
    "    gaussian = Gaussian_filter(gray, K_size=5, sigma=1.4)\n",
    "\n",
    "    # sobel filtering\n",
    "    fy, fx = Sobel_filter(gaussian, K_size=3)\n",
    "\n",
    "    # get edge strength, angle\n",
    "    edge, angle = edge_angle(fx, fy)\n",
    "\n",
    "    # angle quantization\n",
    "    angle = angle_quantization(angle)\n",
    "    \n",
    "    # non maximum suppression\n",
    "    edge = non_maximum_suppression(angle, edge)\n",
    "    \n",
    "    # hysterisis threshold\n",
    "    out = hysterisis(edge, 50, 20)\n",
    "\n",
    "    return out"
   ]
  },
  {
   "cell_type": "code",
   "execution_count": 13,
   "metadata": {},
   "outputs": [],
   "source": [
    "def Hough_Line_step1(edge):\n",
    "    \n",
    "    # voting\n",
    "    H, W = edge.shape\n",
    "    drho = 1\n",
    "    dtheta = 1\n",
    "    \n",
    "    rho_max = np.ceil(np.sqrt(H ** 2 + W ** 2)).astype(np.int)\n",
    "    \n",
    "    # label\n",
    "    hough = np.zeros([rho_max * 2, 180], dtype=np.int)\n",
    "    \n",
    "    index = np.where(edge==255)\n",
    "    \n",
    "    # transform\n",
    "    for y,x in zip(index[0], index[1]):\n",
    "        for theta in range(0, 180, dtheta):\n",
    "            t = np.pi / 180 * theta\n",
    "            rho = int(x * np.cos(t) + y * np.sin(t))\n",
    "            \n",
    "            # vote\n",
    "            hough[rho + rho_max, theta] += 1\n",
    "            \n",
    "    hough = hough.astype(np.uint8)\n",
    "    \n",
    "    return hough"
   ]
  },
  {
   "cell_type": "code",
   "execution_count": 11,
   "metadata": {},
   "outputs": [],
   "source": [
    "edge = Canny(img)"
   ]
  },
  {
   "cell_type": "code",
   "execution_count": 14,
   "metadata": {},
   "outputs": [],
   "source": [
    "hough = Hough_Line_step1(edge)"
   ]
  },
  {
   "cell_type": "code",
   "execution_count": 15,
   "metadata": {},
   "outputs": [],
   "source": [
    "hough = hough.astype(np.uint8)"
   ]
  },
  {
   "cell_type": "code",
   "execution_count": 16,
   "metadata": {},
   "outputs": [],
   "source": [
    "cv2.imwrite('../picture/chan_result44_hough.jpg', hough)\n",
    "# cv2.namedWindow(\"result\", 0);\n",
    "# cv2.resizeWindow(\"result\", (600, 600));\n",
    "cv2.imshow(\"result\", hough)\n",
    "cv2.waitKey(0)\n",
    "cv2.destroyAllWindows()"
   ]
  },
  {
   "cell_type": "markdown",
   "metadata": {},
   "source": [
    "# 45-霍夫变换（Hough Transform）／直线检测——第二步：NMS"
   ]
  },
  {
   "cell_type": "markdown",
   "metadata": {},
   "source": [
    "第2步\n",
    "\n",
    "在问题44​获得的表格中，在某个地方附近集中了很多票。这里，执行提取局部最大值的操作。\n",
    "\n",
    "提取出投票前十名的位置，并将其表示出来\n",
    "\n",
    "NMS 的算法如下：\n",
    "\n",
    "1. 在该表中，如果遍历到的像素的投票数大于其8近邻的像素值，则它不变\n",
    "2. 如果遍历到的像素的投票数小于其8近邻的像素值，则设置为0"
   ]
  },
  {
   "cell_type": "code",
   "execution_count": 33,
   "metadata": {},
   "outputs": [],
   "source": [
    "def nonmaximum(hough):\n",
    "    \n",
    "    rho_max, _ = hough.shape\n",
    "    \n",
    "    for y in range(rho_max):\n",
    "        for x in range(180):\n",
    "            # 8邻域\n",
    "            x1 = max(x-1, 0)\n",
    "            x2 = min(x+2, 180)\n",
    "            y1 = max(y-1, 0)\n",
    "            y2 = min(y+2, rho_max-1)\n",
    "            if np.max(hough[y1:y2, x1:x2]) == hough[y,x] and hough[y, x] != 0:\n",
    "                pass\n",
    "            else:\n",
    "                hough[y,x] = 0\n",
    "    \n",
    "    index_x = np.argsort(hough.ravel())[::-1][:20]\n",
    "    index_y = index_x.copy()\n",
    "    thetas = index_x % 180\n",
    "    rhos = index_y // 180\n",
    "    _hough = np.zeros_like(hough, dtype=np.int)\n",
    "    _hough[rhos, thetas] = 255\n",
    "            \n",
    "    return _hough"
   ]
  },
  {
   "cell_type": "code",
   "execution_count": 34,
   "metadata": {},
   "outputs": [],
   "source": [
    "def Hough_Line_step2(edge):\n",
    "    \n",
    "    hough = Hough_Line_step1(edge)\n",
    "    \n",
    "    out = nonmaximum(hough)\n",
    "    \n",
    "    return out"
   ]
  },
  {
   "cell_type": "code",
   "execution_count": 35,
   "metadata": {},
   "outputs": [],
   "source": [
    "nms = Hough_Line_step2(edge)"
   ]
  },
  {
   "cell_type": "code",
   "execution_count": 36,
   "metadata": {},
   "outputs": [],
   "source": [
    "nms = nms.astype(np.uint8)"
   ]
  },
  {
   "cell_type": "code",
   "execution_count": 37,
   "metadata": {},
   "outputs": [],
   "source": [
    "cv2.imwrite('../picture/chan_result45_nms.jpg', nms)\n",
    "# cv2.namedWindow(\"result\", 0);\n",
    "# cv2.resizeWindow(\"result\", (600, 600));\n",
    "cv2.imshow(\"result\", nms)\n",
    "cv2.waitKey(0)\n",
    "cv2.destroyAllWindows()"
   ]
  },
  {
   "cell_type": "markdown",
   "metadata": {},
   "source": [
    "# 46-霍夫变换（Hough Transform）／直线检测——第三步：霍夫逆变换"
   ]
  },
  {
   "cell_type": "markdown",
   "metadata": {},
   "source": [
    "将问题45中得到的极大值进行霍夫逆变换之后画出得到的直线。在这里，已经通过霍夫变换检测出了直线。\n",
    "\n",
    "算法如下：\n",
    "\n",
    "1. 极大值点(r,t)通过下式进行逆变换： $$ y = - \\frac{\\cos(t)}{\\sin(t) } \\ x + \\frac{r}{\\sin(t)}\\ x = - \\frac{\\sin(t)}{\\cos(t) } \\ y + \\frac{r}{\\cos(t)} $$\n",
    "\n",
    "2. 对于每个局部最大点，使$y = 0-H -1$，$x = 0-W -1$，然后执行1中的逆变换，并在输入图像中绘制检测到的直线。请将线的颜色设置为红色$(R,G,B) = (255, 0, 0)$。"
   ]
  },
  {
   "cell_type": "code",
   "execution_count": 39,
   "metadata": {},
   "outputs": [],
   "source": [
    "def non_maximum(hough):\n",
    "    \n",
    "    rho_max, _ = hough.shape\n",
    "    \n",
    "    for y in range(rho_max):\n",
    "        for x in range(180):\n",
    "            # 8邻域\n",
    "            x1 = max(x-1, 0)\n",
    "            x2 = min(x+2, 180)\n",
    "            y1 = max(y-1, 0)\n",
    "            y2 = min(y+2, rho_max-1)\n",
    "            if np.max(hough[y1:y2, x1:x2]) == hough[y,x] and hough[y, x] != 0:\n",
    "                pass\n",
    "            else:\n",
    "                hough[y,x] = 0\n",
    "            \n",
    "    return hough"
   ]
  },
  {
   "cell_type": "code",
   "execution_count": 40,
   "metadata": {},
   "outputs": [],
   "source": [
    "def inverse_hough(hough, img):\n",
    "    \n",
    "    H, W, C = img.shape\n",
    "    rho_max, _ = hough.shape\n",
    "    \n",
    "    out = img.copy()\n",
    "    \n",
    "    index_x = np.argsort(hough.ravel())[::-1][:20]\n",
    "    index_y = index_x.copy()\n",
    "    thetas = index_x % 180\n",
    "    rhos = index_y // 180 - rho_max / 2\n",
    "    \n",
    "    for theta, rho in zip(thetas,rhos):\n",
    "        t = np.pi / 180. * theta\n",
    "        \n",
    "        for x in range(W):\n",
    "            if np.sin(t) != 0:\n",
    "                y = - (np.cos(t) / np.sin(t)) * x + (rho) / np.sin(t)\n",
    "                y = int(y)\n",
    "                if y >= H or y < 0:\n",
    "                    continue\n",
    "                out[y, x] = [0, 0, 255]\n",
    "\n",
    "        for y in range(H):\n",
    "            if np.cos(t) != 0:\n",
    "                y = - (np.sin(t) / np.cos(t)) * x + (rho) / np.cos(t)\n",
    "                y = int(y)\n",
    "                if y >= W or y < 0:\n",
    "                    continue\n",
    "                out[y, x] = [0, 0, 255]\n",
    "            \n",
    "    out = out.astype(np.uint8)\n",
    "    \n",
    "    return out"
   ]
  },
  {
   "cell_type": "code",
   "execution_count": 41,
   "metadata": {},
   "outputs": [],
   "source": [
    "def Hough_Line(edge, img):\n",
    "    \n",
    "    hough = Hough_Line_step1(edge)\n",
    "    \n",
    "    # non maximum suppression\n",
    "    hough = non_maximum(hough)\n",
    "\n",
    "    # inverse hough\n",
    "    out = inverse_hough(hough, img)\n",
    "    \n",
    "    return out"
   ]
  },
  {
   "cell_type": "code",
   "execution_count": 42,
   "metadata": {},
   "outputs": [],
   "source": [
    "hough = Hough_Line(edge, img)\n",
    "\n",
    "hough = hough.astype(np.uint8)"
   ]
  },
  {
   "cell_type": "code",
   "execution_count": 43,
   "metadata": {},
   "outputs": [],
   "source": [
    "cv2.imwrite('../picture/chan_result46_inverse_hough.jpg', hough)\n",
    "# cv2.namedWindow(\"result\", 0);\n",
    "# cv2.resizeWindow(\"result\", (600, 600));\n",
    "cv2.imshow(\"result\", hough)\n",
    "cv2.waitKey(0)\n",
    "cv2.destroyAllWindows()"
   ]
  },
  {
   "cell_type": "markdown",
   "metadata": {},
   "source": []
  }
 ],
 "metadata": {
  "kernelspec": {
   "display_name": "Python 3",
   "language": "python",
   "name": "python3"
  },
  "language_info": {
   "codemirror_mode": {
    "name": "ipython",
    "version": 3
   },
   "file_extension": ".py",
   "mimetype": "text/x-python",
   "name": "python",
   "nbconvert_exporter": "python",
   "pygments_lexer": "ipython3",
   "version": "3.6.5"
  },
  "toc": {
   "base_numbering": 1,
   "nav_menu": {},
   "number_sections": false,
   "sideBar": true,
   "skip_h1_title": false,
   "title_cell": "Table of Contents",
   "title_sidebar": "Contents",
   "toc_cell": false,
   "toc_position": {},
   "toc_section_display": true,
   "toc_window_display": false
  }
 },
 "nbformat": 4,
 "nbformat_minor": 2
}
