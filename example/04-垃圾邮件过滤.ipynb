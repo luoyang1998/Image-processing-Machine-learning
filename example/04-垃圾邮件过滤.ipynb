{
 "cells": [
  {
   "cell_type": "markdown",
   "id": "preliminary-failure",
   "metadata": {},
   "source": [
    "# 案例：判断一封邮件是否为垃圾邮件"
   ]
  },
  {
   "cell_type": "code",
   "execution_count": 1,
   "id": "narrative-record",
   "metadata": {},
   "outputs": [],
   "source": [
    "import scipy.io as sio\n",
    "from sklearn.svm import SVC"
   ]
  },
  {
   "cell_type": "code",
   "execution_count": 5,
   "id": "comfortable-hanging",
   "metadata": {},
   "outputs": [],
   "source": [
    "#training data\n",
    "data1 = sio.loadmat('E:/ML_NG/6-SVM/data/spamTrain.mat')\n",
    "X,y = data1['X'],data1['y']\n",
    "\n",
    "#testing data\n",
    "data2 = sio.loadmat('E:/ML_NG/6-SVM/data/spamTest.mat')\n",
    "Xtest,ytest = data2['Xtest'],data2['ytest']"
   ]
  },
  {
   "cell_type": "code",
   "execution_count": 8,
   "id": "military-strength",
   "metadata": {},
   "outputs": [
    {
     "data": {
      "text/plain": [
       "((4000, 1899), (4000, 1))"
      ]
     },
     "execution_count": 8,
     "metadata": {},
     "output_type": "execute_result"
    }
   ],
   "source": [
    "X.shape,y.shape"
   ]
  },
  {
   "cell_type": "code",
   "execution_count": 9,
   "id": "reduced-tunisia",
   "metadata": {},
   "outputs": [
    {
     "data": {
      "text/plain": [
       "array([[1],\n",
       "       [1],\n",
       "       [0],\n",
       "       ...,\n",
       "       [1],\n",
       "       [0],\n",
       "       [0]], dtype=uint8)"
      ]
     },
     "execution_count": 9,
     "metadata": {},
     "output_type": "execute_result"
    }
   ],
   "source": [
    "X\n",
    "y"
   ]
  },
  {
   "cell_type": "code",
   "execution_count": 12,
   "id": "sixth-prescription",
   "metadata": {},
   "outputs": [
    {
     "name": "stdout",
     "output_type": "stream",
     "text": [
      "0.978 0.01\n"
     ]
    }
   ],
   "source": [
    "Cvalues = [0.01, 0.03, 0.1, 0.3, 1, 3, 10, 30, 100]\n",
    "\n",
    "best_score= 0\n",
    "best_param = (0,0)\n",
    "\n",
    "for c in Cvalues:\n",
    "        svc = SVC(C=1,kernel='linear')\n",
    "        svc.fit(X,y.flatten())\n",
    "        score = svc.score(Xtest,ytest.flatten())\n",
    "        if score > best_score:\n",
    "            best_score = score\n",
    "            best_param = c\n",
    "print(best_score,best_param)"
   ]
  },
  {
   "cell_type": "code",
   "execution_count": 13,
   "id": "behavioral-efficiency",
   "metadata": {},
   "outputs": [],
   "source": [
    "svc = SVC(C=0.01,kernel='linear')\n",
    "svc.fit(X,y.flatten())\n",
    "score_train = svc.score(X,y.flatten())\n",
    "score_test = svc.score(Xtest,ytest.flatten())"
   ]
  },
  {
   "cell_type": "code",
   "execution_count": 14,
   "id": "naughty-clause",
   "metadata": {},
   "outputs": [
    {
     "name": "stdout",
     "output_type": "stream",
     "text": [
      "0.98325 0.98\n"
     ]
    }
   ],
   "source": [
    "print(score_train,score_test)"
   ]
  },
  {
   "cell_type": "code",
   "execution_count": null,
   "id": "manual-location",
   "metadata": {},
   "outputs": [],
   "source": []
  }
 ],
 "metadata": {
  "kernelspec": {
   "display_name": "Python 3",
   "language": "python",
   "name": "python3"
  },
  "language_info": {
   "codemirror_mode": {
    "name": "ipython",
    "version": 3
   },
   "file_extension": ".py",
   "mimetype": "text/x-python",
   "name": "python",
   "nbconvert_exporter": "python",
   "pygments_lexer": "ipython3",
   "version": "3.6.5"
  },
  "toc": {
   "base_numbering": 1,
   "nav_menu": {},
   "number_sections": true,
   "sideBar": true,
   "skip_h1_title": false,
   "title_cell": "Table of Contents",
   "title_sidebar": "Contents",
   "toc_cell": false,
   "toc_position": {},
   "toc_section_display": true,
   "toc_window_display": false
  }
 },
 "nbformat": 4,
 "nbformat_minor": 5
}
