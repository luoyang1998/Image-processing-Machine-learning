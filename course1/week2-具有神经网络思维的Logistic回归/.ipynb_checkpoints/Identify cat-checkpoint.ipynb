{
 "cells": [
  {
   "cell_type": "markdown",
   "metadata": {},
   "source": [
    "# 识别猫"
   ]
  },
  {
   "cell_type": "code",
   "execution_count": 1,
   "metadata": {},
   "outputs": [],
   "source": [
    "import numpy as np\n",
    "import matplotlib.pyplot as plt\n",
    "import h5py\n",
    "from lr_utils import load_dataset"
   ]
  },
  {
   "cell_type": "markdown",
   "metadata": {},
   "source": [
    "**加载数据**\n",
    "\n",
    "lr_utils：一个加载资料包里面的数据的简单功能的库"
   ]
  },
  {
   "cell_type": "markdown",
   "metadata": {},
   "source": [
    "**输出参数解释如下**\n",
    "\n",
    "train_set_x_orig ：保存的是训练集里面的图像数据 ( 本训练集有209张64x64的图像 )\n",
    "\n",
    "train_set_y_orig ：保存的是训练集的图像对应的分类值  ( [0 | 1] , 0表示不是猫，1表示是猫 )\n",
    "\n",
    "test_set_x_orig ：保存的是测试集里面的图像数据 ( 本训练集有50张64x64的图像 )\n",
    "\n",
    "test_set_y_orig ： 保存的是测试集的图像对应的分类值 ( [0 | 1] , 0表示不是猫，1表示是猫) \n",
    "\n",
    "classes ： 保存的是以bytes类型保存的两个字符串数据，数据为：[b’non-cat’ b’cat’]"
   ]
  },
  {
   "cell_type": "code",
   "execution_count": 2,
   "metadata": {},
   "outputs": [],
   "source": [
    "# 加载数据\n",
    "\n",
    "train_set_x_orig, train_set_y_orig, test_set_x_orig, test_set_y_orig, classes = load_dataset()"
   ]
  },
  {
   "cell_type": "code",
   "execution_count": 3,
   "metadata": {},
   "outputs": [
    {
     "name": "stdout",
     "output_type": "stream",
     "text": [
      "train_set_y = [[0 0 1 0 0 0 0 1 0 0 0 1 0 1 1 0 0 0 0 1 0 0 0 0 1 1 0 1 0 1 0 0 0 0 0 0\n",
      "  0 0 1 0 0 1 1 0 0 0 0 1 0 0 1 0 0 0 1 0 1 1 0 1 1 1 0 0 0 0 0 0 1 0 0 1\n",
      "  0 0 0 0 0 0 0 0 0 0 0 1 1 0 0 0 1 0 0 0 1 1 1 0 0 1 0 0 0 0 1 0 1 0 1 1\n",
      "  1 1 1 1 0 0 0 0 0 1 0 0 0 1 0 0 1 0 1 0 1 1 0 0 0 1 1 1 1 1 0 0 0 0 1 0\n",
      "  1 1 1 0 1 1 0 0 0 1 0 0 1 0 0 0 0 0 1 0 1 0 1 0 0 1 1 1 0 0 1 1 0 1 0 1\n",
      "  0 0 0 0 0 1 0 0 1 0 0 0 1 0 0 0 0 1 0 0 1 0 0 0 0 0 0 0 0]]\n"
     ]
    },
    {
     "data": {
      "image/png": "[encoded data removed]",
      "text/plain": [
       "<Figure size 432x288 with 1 Axes>"
      ]
     },
     "metadata": {},
     "output_type": "display_data"
    }
   ],
   "source": [
    "# 随机加载一张图片观察，如：训练集中第19张\n",
    "\n",
    "index = 19\n",
    "plt.imshow(train_set_x_orig[index])\n",
    "\n",
    "# 观察训练集所有标签\n",
    "print(\"train_set_y = \" + str(train_set_y_orig))"
   ]
  },
  {
   "cell_type": "markdown",
   "metadata": {},
   "source": [
    "**注：**plt.show显示的是plt绘制的图像，而plt.imshow显示的是调用出的二进制矩阵的图像"
   ]
  },
  {
   "cell_type": "code",
   "execution_count": 6,
   "metadata": {},
   "outputs": [
    {
     "name": "stdout",
     "output_type": "stream",
     "text": [
      "y = [1], it is a cat picture\n"
     ]
    }
   ],
   "source": [
    "# 打印出当前的训练标签值\n",
    "# 使用 np.squeeze的目的是压缩维度，【未压缩】train_set_y[:,index]的值为[1] , 【压缩后】np.squeeze(train_set_y[:,index])的值为1\n",
    "# print(\"【使用np.squeeze：\" + str(np.squeeze(train_set_y[:,index])) + \"，不使用np.squeeze： \" + str(train_set_y[:,index]) + \"】\")\n",
    "# 只有压缩后的值才能进行解码操作\n",
    "\n",
    "print(\"y = \" + str(train_set_y_orig[:, index]) + \", it is a \" + classes[np.squeeze(train_set_y_orig[:, index])].decode(\"utf-8\") + \" picture\")"
   ]
  },
  {
   "cell_type": "markdown",
   "metadata": {},
   "source": [
    "**参数解释**\n",
    "\n",
    "m_train ：训练集里图片的数量\n",
    "\n",
    "m_test ：测试集里图片的数量\n",
    "\n",
    "num_px ： 训练、测试集里面的图片的宽度和高度(均为64x64)"
   ]
  },
  {
   "cell_type": "code",
   "execution_count": 4,
   "metadata": {},
   "outputs": [
    {
     "data": {
      "text/plain": [
       "((1, 209), (209, 64, 64, 3))"
      ]
     },
     "execution_count": 4,
     "metadata": {},
     "output_type": "execute_result"
    }
   ],
   "source": [
    "m = train_set_y_orig.shape\n",
    "\n",
    "px = train_set_x_orig.shape\n",
    "\n",
    "m, px"
   ]
  },
  {
   "cell_type": "code",
   "execution_count": 5,
   "metadata": {},
   "outputs": [
    {
     "data": {
      "text/plain": [
       "((50, 64, 64, 3), (1, 50))"
      ]
     },
     "execution_count": 5,
     "metadata": {},
     "output_type": "execute_result"
    }
   ],
   "source": [
    "test_set_x_orig.shape, test_set_y_orig.shape"
   ]
  },
  {
   "cell_type": "code",
   "execution_count": 6,
   "metadata": {},
   "outputs": [],
   "source": [
    "#读取训练集，测试集数量\n",
    "m_train = train_set_y_orig.shape[1]\n",
    "m_test = test_set_y_orig.shape[1]\n",
    "\n",
    "#读取训练集图片大小，为 64x64\n",
    "num_px = train_set_x_orig[1]"
   ]
  },
  {
   "cell_type": "markdown",
   "metadata": {},
   "source": [
    "为了方便，把维度为 (64, 64, 3) 的numpy数组重新构造为 (64 x 64 x 3, 1) 的数组，而每个像素点由( R, G, B)三原色构成的。从而，训练和测试数据集是一个numpy数组，每列代表一个平坦的图像，应该有m_train和m_test列。"
   ]
  },
  {
   "cell_type": "code",
   "execution_count": null,
   "metadata": {},
   "outputs": [],
   "source": [
    "# 降维，变平处理\n",
    "# X = np.random.randn(3,3,3)\n",
    "\n",
    "# Xflatten = X.reshape(-1,X.shape [0])\n",
    "# Xflatten = X.reshape(X.shape [0], -1).T"
   ]
  },
  {
   "cell_type": "code",
   "execution_count": 7,
   "metadata": {},
   "outputs": [],
   "source": [
    "# 对训练集、测试集降维\n",
    "\n",
    "train_set_x_flatten = train_set_x_orig.reshape(-1, train_set_x_orig.shape[0])\n",
    "test_set_x_flatten = test_set_x_orig.reshape(-1, test_set_x_orig.shape[0])"
   ]
  },
  {
   "cell_type": "code",
   "execution_count": 8,
   "metadata": {},
   "outputs": [
    {
     "data": {
      "text/plain": [
       "((12288, 209), (12288, 50))"
      ]
     },
     "execution_count": 8,
     "metadata": {},
     "output_type": "execute_result"
    }
   ],
   "source": [
    "train_set_x_flatten.shape, test_set_x_flatten.shape"
   ]
  },
  {
   "cell_type": "markdown",
   "metadata": {},
   "source": [
    "**预处理**\n",
    "\n",
    "对数据进行标准化，为了处理方便，使像素直接除以255，因为RGB中[0, 255] 不存在比255大的像素值，故可以直接除以255，使像素值在 [0, 1] 之间"
   ]
  },
  {
   "cell_type": "code",
   "execution_count": 9,
   "metadata": {},
   "outputs": [],
   "source": [
    "train_set_x_flatten = train_set_x_flatten / 255\n",
    "test_set_x_flatten = test_set_x_flatten / 255"
   ]
  },
  {
   "cell_type": "markdown",
   "metadata": {},
   "source": [
    "**构建神经网络**\n",
    "\n",
    "正向传播\n",
    "$$\\text z^{(i)}=w^Tx^{(i)}+b$$ $$\\textŷ^{(i)}=a^{(i)}=sigmoid(z^{(i)})$$ $$\\text L(a^{(i)}, y^{(i)})=-(y log(a^{(i)})+(1-y^{(i)}) log(1-y^{(i)})$$\n",
    "\n",
    "反向传播\n",
    "$$\\text dZ^{[i]}=A^{[i]}-Y$$ $$\\text dw^{[i]}=\\frac{1}{m} dZ^{[i]}A^{[i-1]T}$$ $$\\text db=\\frac{1}{m} np.sum(dZ^{[i]}, axis=1, keepdims=True)$$\n",
    "\n",
    "通过对所有训练样例求和来计算成本：$$\\text J=\\frac{1}{m} \\sum\\limits_{i=0}^{m}L(a^{(i)}, y^{(i)})$$\n",
    "\n",
    "建立神经网络的主要步骤是：\n",
    "\n",
    "1. 定义模型结构（例如输入特征的数量）\n",
    "2. 初始化模型的参数\n",
    "3. 循环：计算当前损失（正向传播）、计算当前梯度（反向传播）、更新参数（梯度下降）"
   ]
  },
  {
   "cell_type": "markdown",
   "metadata": {},
   "source": [
    "构建sigmoid函数"
   ]
  },
  {
   "cell_type": "code",
   "execution_count": 10,
   "metadata": {},
   "outputs": [],
   "source": [
    "def sigmoid(z):\n",
    "    \n",
    "    \"\"\"\n",
    "            参数：\n",
    "                        z：任何大小的标量或numpy数组\n",
    "\n",
    "            返回：\n",
    "                        g：sigmoid(z)\n",
    "    \"\"\"\n",
    "    \n",
    "    g = 1 / (1 + np.exp(-z))\n",
    "    \n",
    "    return g"
   ]
  },
  {
   "cell_type": "code",
   "execution_count": 28,
   "metadata": {},
   "outputs": [
    {
     "data": {
      "text/plain": [
       "0.5"
      ]
     },
     "execution_count": 28,
     "metadata": {},
     "output_type": "execute_result"
    }
   ],
   "source": [
    "g = sigmoid(0)\n",
    "g"
   ]
  },
  {
   "cell_type": "markdown",
   "metadata": {},
   "source": [
    "初始化w和b"
   ]
  },
  {
   "cell_type": "code",
   "execution_count": 11,
   "metadata": {},
   "outputs": [],
   "source": [
    "def initialize(dim):\n",
    "    \n",
    "    \"\"\"\n",
    "            构建一个维度为(dim, 1)的0向量，初始化b\n",
    "            \n",
    "            参数：\n",
    "                        dim：想要的矢量大小\n",
    "                        \n",
    "            返回：\n",
    "                        w：大小为(dim, 1)的初始化向量\n",
    "                        b：初始化标量\n",
    "     \"\"\"\n",
    "    \n",
    "    w = np.zeros(shape=(dim, 1))\n",
    "    b = 0\n",
    "    \n",
    "    # 用断言保证数据是正确的，b是float或int型\n",
    "    assert(w.shape == (dim, 1))\n",
    "    assert(isinstance(b, float) or isinstance(b, int))\n",
    "    \n",
    "    return w, b"
   ]
  },
  {
   "cell_type": "markdown",
   "metadata": {},
   "source": [
    "**前向传播 和 返向传播**"
   ]
  },
  {
   "cell_type": "code",
   "execution_count": 12,
   "metadata": {},
   "outputs": [],
   "source": [
    "def propagate(w, b, X, Y):\n",
    "    \n",
    "    \"\"\"\n",
    "            该函数实现前向传播和和反向传播\n",
    "            \n",
    "            参数：\n",
    "                    w,b：参数，上述初始化后参数\n",
    "                    X：矩阵类型为（num_px * num_px * 3，训练数量）\n",
    "                    Y：真正的“标签”矢量（如果非猫则为0，如果是猫则为1），矩阵维度为(1,训练数据数量)\n",
    "                    \n",
    "            输出：\n",
    "                    cost：逻辑回归的损失函数\n",
    "                    dw：相对于w的损失梯度，与w相同的形状\n",
    "                    db：相对于b的损失梯度，与b的形状相同\n",
    "    \"\"\"\n",
    "    \n",
    "    m = X.shape[1]\n",
    "    \n",
    "    # 正向传播\n",
    "    A = sigmoid(np.dot(w.T, X) + b)\n",
    "    cost = (-1 / m) * np.sum(Y * np.log(A) + (1 - Y) * (np.log(1 - A)))\n",
    "    \n",
    "    # 反向传播\n",
    "    dZ = A - Y\n",
    "    dw = (1 / m) * np.dot(X, dZ.T)\n",
    "    db = (1 / m) * np.sum(dZ, axis=1, keepdims=True)\n",
    "    \n",
    "    # 是用断言保证数据是正确的\n",
    "    assert(dw.shape == w.shape)\n",
    "    assert(db.dtype == float)\n",
    "    cost  = np.squeeze(cost)\n",
    "    assert(cost.shape == ())\n",
    "    \n",
    "    # 创建一个字典，保存 dw,db\n",
    "    grads = {\n",
    "        \"dw\": dw,\n",
    "        \"db\": db\n",
    "    }\n",
    "    \n",
    "    return (grads, cost)"
   ]
  },
  {
   "cell_type": "code",
   "execution_count": 13,
   "metadata": {},
   "outputs": [
    {
     "name": "stdout",
     "output_type": "stream",
     "text": [
      "测试propagate\n",
      "dw = [[0.99993216]\n",
      " [1.99980262]]\n",
      "db = [[0.49993523]]\n",
      "cost = 6.000064773192205\n"
     ]
    }
   ],
   "source": [
    "#测试一下propagate\n",
    "print(\"测试propagate\")\n",
    "#初始化一些参数\n",
    "w, b, X, Y = np.array([[1], [2]]), 2, np.array([[1,2], [3,4]]), np.array([[1, 0]])\n",
    "grads, cost = propagate(w, b, X, Y)\n",
    "print (\"dw = \" + str(grads[\"dw\"]))\n",
    "print (\"db = \" + str(grads[\"db\"]))\n",
    "print (\"cost = \" + str(cost))"
   ]
  },
  {
   "cell_type": "markdown",
   "metadata": {},
   "source": [
    "**梯度下降**\n",
    "\n",
    "通过最小化成本函数 J 来学习 w 和 b 。对于参数 θ，更新规则是 $ \\theta = \\theta - \\alpha \\text{ } d\\theta$，其中 α 是学习率"
   ]
  },
  {
   "cell_type": "code",
   "execution_count": 20,
   "metadata": {},
   "outputs": [],
   "source": [
    "def optimize(w, b, X, Y, iters, learning_rate, print_cost = False):\n",
    "    \n",
    "    \"\"\"\n",
    "                函数通过运行梯度下降算法来优化w和b\n",
    "    \n",
    "                参数：\n",
    "                        w ：权重，大小不等的数组（num_px * num_px * 3，1）\n",
    "                        b ： 偏差，一个标量\n",
    "                        X ： 维度为（num_px * num_px * 3，训练数据的数量）的数组。\n",
    "                        Y  ：真正的“标签”矢量（如果非猫则为0，如果是猫则为1），矩阵维度为(1,训练数据的数量)\n",
    "                        iters ：优化循环的迭代次数\n",
    "                        learning_rate ：梯度下降更新规则的学习率\n",
    "                        print_cost ：每100步打印一次损失值\n",
    "\n",
    "                返回：\n",
    "                        params ：包含权重w和偏差b的字典\n",
    "                        grads ：包含权重和偏差相对于成本函数的梯度的字典\n",
    "                        成本 ：优化期间计算的所有成本列表，将用于绘制学习曲线\n",
    "\n",
    "                提示：\n",
    "                        两个步骤并遍历：\n",
    "                            1）计算当前参数的成本和梯度，使用propagate()\n",
    "                            2）使用w和b的梯度下降法则更新参数\n",
    "    \"\"\"\n",
    "    \n",
    "    costs = []\n",
    "    \n",
    "    for i in range(iters):\n",
    "        \n",
    "        grads, cost = propagate(w, b, X, Y)\n",
    "        \n",
    "        dw = grads[\"dw\"]\n",
    "        db = grads[\"db\"]\n",
    "        \n",
    "        w = w - learning_rate * dw\n",
    "        b = b - learning_rate * db\n",
    "        \n",
    "        # 记录成本\n",
    "        if i % 100 == 0:\n",
    "            costs.append(cost)\n",
    "            \n",
    "        # 打印成本数据\n",
    "        if (print_cost) and (i % 100 == 0):\n",
    "            print(\"迭代次数：%i, 误差：%f \" %(i, cost))\n",
    "            \n",
    "        params  = {\n",
    "                \"w\" : w,\n",
    "                \"b\" : b }\n",
    "        grads = {\n",
    "            \"dw\": dw,\n",
    "            \"db\": db } \n",
    "    \n",
    "    return (params, grads, costs)"
   ]
  },
  {
   "cell_type": "code",
   "execution_count": 15,
   "metadata": {},
   "outputs": [
    {
     "name": "stdout",
     "output_type": "stream",
     "text": [
      "测试optimize\n",
      "w = [[0.1124579 ]\n",
      " [0.23106775]]\n",
      "b = [[1.55930492]]\n",
      "dw = [[0.90158428]\n",
      " [1.76250842]]\n",
      "db = [[0.43046207]]\n"
     ]
    }
   ],
   "source": [
    "#测试optimize\n",
    "print(\"测试optimize\")\n",
    "w, b, X, Y = np.array([[1], [2]]), 2, np.array([[1,2], [3,4]]), np.array([[1, 0]])\n",
    "params, grads, costs = optimize(w , b , X , Y , iters=100 , learning_rate = 0.009 , print_cost = False)\n",
    "print (\"w = \" + str(params[\"w\"]))\n",
    "print (\"b = \" + str(params[\"b\"]))\n",
    "print (\"dw = \" + str(grads[\"dw\"]))\n",
    "print (\"db = \" + str(grads[\"db\"]))"
   ]
  },
  {
   "cell_type": "markdown",
   "metadata": {},
   "source": [
    "**实现预测函数prediction**\n",
    "\n",
    "步骤：\n",
    "\n",
    "1. 计算$$\\text \\ \\hat{Y}=A=\\sigma(w^TX+b)$$\n",
    "2. 将a的值变为0（如果激活值<= 0.5）或者为1(如果激活值> 0.5), 然后将预测值存储在向量Y_pre中"
   ]
  },
  {
   "cell_type": "code",
   "execution_count": 16,
   "metadata": {},
   "outputs": [],
   "source": [
    "def prediction(w, b, X):\n",
    "    \n",
    "    \"\"\"\n",
    "            该函数实现对图片内容预测，使用学习逻辑回归参数logistic （w，b）预测标签是 y=1/0(是猫/不是)\n",
    "            \n",
    "            参数：\n",
    "                    w：\n",
    "                    b：\n",
    "                    X：\n",
    "                    \n",
    "            输出：\n",
    "                    Y_pre：输出结果 1/0 的一个numpy数组（向量）\n",
    "    \"\"\"\n",
    "    \n",
    "    # 图片数量\n",
    "    m = X.shape[1]\n",
    "    Y_pre = np.zeros((1, m))\n",
    "    w = w.reshape(X.shape[0], 1)\n",
    "    \n",
    "    # 预测猫出现的概率，即 y=1 的概率\n",
    "    A = sigmoid(np.dot(w.T, X) + b)\n",
    "    \n",
    "    for i in range(A.shape[1]):\n",
    "        # 实现 a->y，即 a[0, i] -> y[0, i] , Y的大小为 (1, m)，故为 [0, i]\n",
    "        Y_pre[0, i] = 1 if A[0, i] > 0.5 else 0\n",
    "        \n",
    "    assert(Y_pre.shape == (1,m))\n",
    "    \n",
    "    return Y_pre"
   ]
  },
  {
   "cell_type": "code",
   "execution_count": 15,
   "metadata": {},
   "outputs": [
    {
     "name": "stdout",
     "output_type": "stream",
     "text": [
      "测试predict\n",
      "predictions = [[1. 1.]]\n"
     ]
    }
   ],
   "source": [
    "# 测试 prediction\n",
    "print(\"测试predict\")\n",
    "w, b, X, Y = np.array([[1], [2]]), 2, np.array([[1,2], [3,4]]), np.array([[1, 0]])\n",
    "print(\"predictions = \" + str(prediction(w, b, X)))"
   ]
  },
  {
   "cell_type": "markdown",
   "metadata": {},
   "source": [
    "**模型**"
   ]
  },
  {
   "cell_type": "code",
   "execution_count": 17,
   "metadata": {},
   "outputs": [],
   "source": [
    "def model(X_train, Y_train, X_test, Y_test, iters, learning_rate, print_cost):\n",
    "    \n",
    "    \"\"\"\n",
    "            通过调用之前实现的函数来构建逻辑回归模型\n",
    "    \n",
    "            参数：\n",
    "                    X_train：numpy的数组,维度为（num_px * num_px * 3，m_train）的训练集\n",
    "                    Y_train：numpy的数组,维度为（1，m_train）（矢量）的训练标签集\n",
    "                    X_test：numpy的数组,维度为（num_px * num_px * 3，m_test）的测试集\n",
    "                    Y_test：numpy的数组,维度为（1，m_test）的（向量）的测试标签集\n",
    "                    iters：表示用于优化参数的迭代次数的超参数\n",
    "                    learning_rate：表示optimize（）更新规则中使用的学习速率的超参数\n",
    "                    print_cost：设置为true以每100次迭代打印成本\n",
    "\n",
    "            返回：\n",
    "                    d：包含有关模型信息的字典\n",
    "    \n",
    "    \"\"\"\n",
    "    \n",
    "    w, b = initialize(X_train.shape[0])\n",
    "    \n",
    "    params, grads, costs = optimize(w, b, X_train, Y_train, iters, learning_rate, print_cost)\n",
    "    \n",
    "    w, b = params[\"w\"], params[\"b\"]\n",
    "    \n",
    "    Y_pre_train = prediction(w, b, X_train)\n",
    "    Y_pre_test = prediction(w, b, X_test)\n",
    "    \n",
    "    print(\"训练集准确性：\", format(100 - np.mean(np.abs(Y_pre_train - Y_train)) * 100) ,\"%\")\n",
    "    print(\"测试集准确性：\", format(100 - np.mean(np.abs(Y_pre_test - Y_test)) * 100) ,\"%\")\n",
    "\n",
    "    d = {\n",
    "            \"costs\" : costs,\n",
    "            \"Y_prediction_test\" : Y_pre_test,\n",
    "            \"Y_prediciton_train\" : Y_pre_train,\n",
    "            \"w\" : w,\n",
    "            \"b\" : b,\n",
    "            \"learning_rate\" : learning_rate,\n",
    "            \"num_iterations\" : iters }\n",
    "    \n",
    "    return d"
   ]
  },
  {
   "cell_type": "code",
   "execution_count": 21,
   "metadata": {},
   "outputs": [
    {
     "name": "stdout",
     "output_type": "stream",
     "text": [
      "====================测试model====================\n",
      "迭代次数：0, 误差：0.693147 \n",
      "迭代次数：100, 误差：0.709726 \n",
      "迭代次数：200, 误差：0.657712 \n",
      "迭代次数：300, 误差：0.614611 \n",
      "迭代次数：400, 误差：0.578001 \n",
      "迭代次数：500, 误差：0.546372 \n",
      "迭代次数：600, 误差：0.518331 \n",
      "迭代次数：700, 误差：0.492852 \n",
      "迭代次数：800, 误差：0.469259 \n",
      "迭代次数：900, 误差：0.447139 \n",
      "迭代次数：1000, 误差：0.426262 \n",
      "迭代次数：1100, 误差：0.406617 \n",
      "迭代次数：1200, 误差：0.388723 \n",
      "迭代次数：1300, 误差：0.374678 \n",
      "迭代次数：1400, 误差：0.365826 \n",
      "迭代次数：1500, 误差：0.358532 \n",
      "迭代次数：1600, 误差：0.351612 \n",
      "迭代次数：1700, 误差：0.345012 \n",
      "迭代次数：1800, 误差：0.338704 \n",
      "迭代次数：1900, 误差：0.332664 \n",
      "训练集准确性： 91.38755980861244 %\n",
      "测试集准确性： 34.0 %\n"
     ]
    }
   ],
   "source": [
    "print(\"====================测试model====================\")     \n",
    "#加载真实的数据\n",
    "d = model(train_set_x_flatten, train_set_y_orig, test_set_x_flatten, test_set_y_orig, iters = 2000, learning_rate = 0.005, print_cost = True)"
   ]
  },
  {
   "cell_type": "markdown",
   "metadata": {},
   "source": [
    "**绘图**"
   ]
  },
  {
   "cell_type": "code",
   "execution_count": 22,
   "metadata": {},
   "outputs": [
    {
     "data": {
      "image/png": "[encoded data removed]",
      "text/plain": [
       "<Figure size 432x288 with 1 Axes>"
      ]
     },
     "metadata": {},
     "output_type": "display_data"
    }
   ],
   "source": [
    "costs = np.squeeze(d['costs'])\n",
    "plt.plot(costs)\n",
    "plt.ylabel('cost')\n",
    "plt.xlabel('iterations (per hundreds)')\n",
    "plt.title(\"Learning rate =\" + str(d[\"learning_rate\"]))\n",
    "plt.show()"
   ]
  },
  {
   "cell_type": "markdown",
   "metadata": {},
   "source": [
    "**不同学习率的影响**"
   ]
  },
  {
   "cell_type": "code",
   "execution_count": 23,
   "metadata": {},
   "outputs": [
    {
     "name": "stdout",
     "output_type": "stream",
     "text": [
      "learning rate is: 0.01\n",
      "训练集准确性： 71.29186602870814 %\n",
      "测试集准确性： 64.0 %\n",
      "\n",
      "-------------------------------------------------------\n",
      "\n",
      "learning rate is: 0.001\n",
      "训练集准确性： 74.16267942583733 %\n",
      "测试集准确性： 34.0 %\n",
      "\n",
      "-------------------------------------------------------\n",
      "\n",
      "learning rate is: 0.0001\n",
      "训练集准确性： 66.02870813397129 %\n",
      "测试集准确性： 34.0 %\n",
      "\n",
      "-------------------------------------------------------\n",
      "\n"
     ]
    },
    {
     "data": {
      "image/png": "[encoded data removed]",
      "text/plain": [
       "<Figure size 432x288 with 1 Axes>"
      ]
     },
     "metadata": {},
     "output_type": "display_data"
    }
   ],
   "source": [
    "learning_rates = [0.01, 0.001, 0.0001]\n",
    "models = {}\n",
    "for i in learning_rates:\n",
    "    print (\"learning rate is: \" + str(i))\n",
    "    models[str(i)] = model(train_set_x_flatten, train_set_y_orig, test_set_x_flatten, test_set_y_orig, iters = 1500, learning_rate = i, print_cost = False)\n",
    "    print ('\\n' + \"-------------------------------------------------------\" + '\\n')\n",
    "\n",
    "for i in learning_rates:\n",
    "    plt.plot(np.squeeze(models[str(i)][\"costs\"]), label= str(models[str(i)][\"learning_rate\"]))\n",
    "\n",
    "plt.ylabel('cost')\n",
    "plt.xlabel('iterations')\n",
    "\n",
    "legend = plt.legend(loc='upper center', shadow=True)\n",
    "frame = legend.get_frame()\n",
    "frame.set_facecolor('0.90')\n",
    "plt.show()"
   ]
  },
  {
   "cell_type": "code",
   "execution_count": null,
   "metadata": {},
   "outputs": [],
   "source": []
  }
 ],
 "metadata": {
  "kernelspec": {
   "display_name": "Python 3",
   "language": "python",
   "name": "python3"
  },
  "language_info": {
   "codemirror_mode": {
    "name": "ipython",
    "version": 3
   },
   "file_extension": ".py",
   "mimetype": "text/x-python",
   "name": "python",
   "nbconvert_exporter": "python",
   "pygments_lexer": "ipython3",
   "version": "3.6.5"
  },
  "toc": {
   "base_numbering": 1,
   "nav_menu": {},
   "number_sections": true,
   "sideBar": true,
   "skip_h1_title": false,
   "title_cell": "Table of Contents",
   "title_sidebar": "Contents",
   "toc_cell": false,
   "toc_position": {},
   "toc_section_display": true,
   "toc_window_display": false
  }
 },
 "nbformat": 4,
 "nbformat_minor": 2
}
