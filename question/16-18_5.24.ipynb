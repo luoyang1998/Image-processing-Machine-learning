{
 "cells": [
  {
   "cell_type": "markdown",
   "metadata": {},
   "source": [
    "# 16-Prewitt滤波器"
   ]
  },
  {
   "cell_type": "markdown",
   "metadata": {},
   "source": [
    "使用$3\\times3$的Prewitt滤波器来进行滤波\n",
    "\n",
    "Prewitt滤波器是用于边缘检测的一种滤波器，使用下式定义：\n",
    "\n",
    "纵向： $$ K=\\left[ \\begin{matrix} -1&-1&-1\\ 0&0&0\\ 1&1&1 \\end{matrix} \\right] $$ 横向： $$ K=\\left[ \\begin{matrix} -1&0&-1\\ -1&0&1\\ -1&0&1 \\end{matrix} \\right] $$"
   ]
  },
  {
   "cell_type": "code",
   "execution_count": 1,
   "metadata": {},
   "outputs": [],
   "source": [
    "import cv2\n",
    "import numpy as np"
   ]
  },
  {
   "cell_type": "code",
   "execution_count": 2,
   "metadata": {},
   "outputs": [],
   "source": [
    "img = cv2.imread('../picture/chan_gray.jpg',0)"
   ]
  },
  {
   "cell_type": "code",
   "execution_count": 12,
   "metadata": {},
   "outputs": [],
   "source": [
    "def prewitt(img, K_size):\n",
    "    \n",
    "    h, w = img.shape\n",
    "    \n",
    "    # Zero padding\n",
    "    pad = K_size // 2\n",
    "    out = np.zeros((h + pad * 2, w + pad * 2), dtype=np.float)\n",
    "    out[pad: pad + h, pad: pad + w] = img.copy().astype(np.float)\n",
    "    tmp = out.copy()\n",
    "\n",
    "    out_v = out.copy()\n",
    "    out_h = out.copy()\n",
    "\n",
    "    # 纵向\n",
    "    Kv = [[-1., -1., -1.],[0., 0., 0.], [1., 1., 1.]]\n",
    "    # 横向\n",
    "    Kh = [[-1., 0., -1.],[-1., 0., 1.],[-1., 0., 1.]]\n",
    "\n",
    "    # 滤波\n",
    "    for y in range(h):\n",
    "        for x in range(w):\n",
    "            out_v[pad + y, pad + x] = np.sum(Kv * (tmp[y: y + K_size, x: x + K_size]))\n",
    "            out_h[pad + y, pad + x] = np.sum(Kh * (tmp[y: y + K_size, x: x + K_size]))\n",
    "\n",
    "    out_v = np.clip(out_v, 0, 255)\n",
    "    out_h = np.clip(out_h, 0, 255)\n",
    "\n",
    "    out_v = out_v[pad: pad + h, pad: pad + w].astype(np.uint8)\n",
    "    out_h = out_h[pad: pad + h, pad: pad + w].astype(np.uint8)\n",
    "\n",
    "    return out_v, out_h"
   ]
  },
  {
   "cell_type": "code",
   "execution_count": 13,
   "metadata": {},
   "outputs": [],
   "source": [
    "out_v, out_h = prewitt(img, K_size = 3)"
   ]
  },
  {
   "cell_type": "code",
   "execution_count": 10,
   "metadata": {},
   "outputs": [],
   "source": [
    "cv2.imwrite('../picture/chan_result16_prewitt_v_filter.jpg', out_v)\n",
    "cv2.namedWindow(\"result\", 0);\n",
    "cv2.resizeWindow(\"result\", (600, 600));\n",
    "cv2.imshow(\"result\", out_v)\n",
    "cv2.waitKey(0)\n",
    "cv2.destroyAllWindows()"
   ]
  },
  {
   "cell_type": "code",
   "execution_count": 14,
   "metadata": {},
   "outputs": [],
   "source": [
    "cv2.imwrite('../picture/chan_result16_prewitt_h_filter.jpg', out_h)\n",
    "cv2.namedWindow(\"result\", 0);\n",
    "cv2.resizeWindow(\"result\", (600, 600));\n",
    "cv2.imshow(\"result\", out_h)\n",
    "cv2.waitKey(0)\n",
    "cv2.destroyAllWindows()"
   ]
  },
  {
   "cell_type": "markdown",
   "metadata": {},
   "source": [
    "# 17-Laplacian滤波器"
   ]
  },
  {
   "cell_type": "markdown",
   "metadata": {},
   "source": [
    "使用Laplacian滤波器来进行滤波\n",
    "\n",
    "Laplacian滤波器是对图像亮度进行二次微分从而检测边缘的滤波器。由于数字图像是离散的，$x$方向和$y$方向的一次微分分别按照以下式子计算： $$ I_x(x,y)=\\frac{I(x+1,y)-I(x,y)}{(x+1)-x}=I(x+1,y)-I(x,y)\\ I_y(x,y) =\\frac{I(x, y+1) - I(x,y)}{(y+1)-y}= I(x, y+1) - I(x,y) $$ 因此二次微分按照以下式子计算： $$ \\begin{align*} &I_{xx}(x,y) \\ =& \\frac{I_x(x,y) - I_x(x-1,y)}{(x+1)-x} \\ =& I_x(x,y) - I_x(x-1,y)\\ =&[I(x+1, y) - I(x,y)] - [I(x, y) - I(x-1,y)]\\ =& I(x+1,y) - 2\\ I(x,y) + I(x-1,y) \\end{align*} $$ 同理： $$ I_{yy}(x,y)=I(x,y+1)-2\\ I(x,y)+I(x,y-1) $$ 特此，Laplacian 表达式如下： $$ \\begin{align*} &\\nabla^2\\ I(x,y)\\ =&I_{xx}(x,y)+I_{yy}(x,y)\\ =&I(x-1,y) + I(x,y-1) - 4 * I(x,y) + I(x+1,y) + I(x,y+1) \\end{align*} $$ 如果把这个式子表示为卷积核是下面这样的： $$ K= \\left[ \\begin{matrix} 0&1&0\\ 1&-4&1\\ 0&1&0 \\end{matrix} \\right] $$"
   ]
  },
  {
   "cell_type": "code",
   "execution_count": 16,
   "metadata": {},
   "outputs": [],
   "source": [
    "def laplacian_filter(img, K_size):\n",
    "    \n",
    "    h, w = img.shape\n",
    "    \n",
    "    # Zero padding\n",
    "    pad = K_size // 2\n",
    "    out = np.zeros((h + pad * 2, w + pad * 2), dtype=np.float)\n",
    "    out[pad: pad + h, pad: pad + w] = img.copy().astype(np.float)\n",
    "    tmp = out.copy()\n",
    "\n",
    "    K = [[0., 1., 0.],[1., -4., 1.], [0., 1., 0.]]\n",
    "\n",
    "    # 滤波\n",
    "    for y in range(h):\n",
    "        for x in range(w):\n",
    "            out[pad + y, pad + x] = np.sum(K * (tmp[y: y + K_size, x: x + K_size]))\n",
    "\n",
    "    out = np.clip(out, 0, 255)\n",
    "\n",
    "    out = out[pad: pad + h, pad: pad + w].astype(np.uint8)\n",
    "\n",
    "    return out"
   ]
  },
  {
   "cell_type": "code",
   "execution_count": 17,
   "metadata": {},
   "outputs": [],
   "source": [
    "img_lap = laplacian_filter(img, K_size=3)"
   ]
  },
  {
   "cell_type": "code",
   "execution_count": 18,
   "metadata": {},
   "outputs": [],
   "source": [
    "cv2.imwrite('../picture/chan_result17_laplacian_filter.jpg', img_lap)\n",
    "cv2.namedWindow(\"result\", 0);\n",
    "cv2.resizeWindow(\"result\", (600, 600));\n",
    "cv2.imshow(\"result\", img_lap)\n",
    "cv2.waitKey(0)\n",
    "cv2.destroyAllWindows()"
   ]
  },
  {
   "cell_type": "markdown",
   "metadata": {},
   "source": [
    "# 18-Emboss滤波器"
   ]
  },
  {
   "cell_type": "markdown",
   "metadata": {},
   "source": [
    "使用Emboss滤波器来进行滤波\n",
    "\n",
    "Emboss滤波器可以使物体轮廓更加清晰，定义： $$ K= \\left[ \\begin{matrix} -2&-1&0\\ -1&1&1\\ 0&1&2 \\end{matrix} \\right] $$"
   ]
  },
  {
   "cell_type": "code",
   "execution_count": 19,
   "metadata": {},
   "outputs": [],
   "source": [
    "def emboss(img, K_size):\n",
    "    \n",
    "    h, w = img.shape\n",
    "    \n",
    "    # Zero padding\n",
    "    pad = K_size // 2\n",
    "    out = np.zeros((h + pad * 2, w + pad * 2), dtype=np.float)\n",
    "    out[pad: pad + h, pad: pad + w] = img.copy().astype(np.float)\n",
    "    tmp = out.copy()\n",
    "\n",
    "    K = [[-2., -1., 0.],[-1., 1., 1.], [0., 1., 2.]]\n",
    "\n",
    "    # 滤波\n",
    "    for y in range(h):\n",
    "        for x in range(w):\n",
    "            out[pad + y, pad + x] = np.sum(K * (tmp[y: y + K_size, x: x + K_size]))\n",
    "\n",
    "    out = np.clip(out, 0, 255)\n",
    "\n",
    "    out = out[pad: pad + h, pad: pad + w].astype(np.uint8)\n",
    "\n",
    "    return out"
   ]
  },
  {
   "cell_type": "code",
   "execution_count": 20,
   "metadata": {},
   "outputs": [],
   "source": [
    "img_em = emboss(img, K_size=3)"
   ]
  },
  {
   "cell_type": "code",
   "execution_count": 21,
   "metadata": {},
   "outputs": [],
   "source": [
    "cv2.imwrite('../picture/chan_result18_emboss_filter.jpg', img_em)\n",
    "cv2.namedWindow(\"result\", 0);\n",
    "cv2.resizeWindow(\"result\", (600, 600));\n",
    "cv2.imshow(\"result\", img_em)\n",
    "cv2.waitKey(0)\n",
    "cv2.destroyAllWindows()"
   ]
  },
  {
   "cell_type": "code",
   "execution_count": null,
   "metadata": {},
   "outputs": [],
   "source": []
  }
 ],
 "metadata": {
  "kernelspec": {
   "display_name": "Python 3",
   "language": "python",
   "name": "python3"
  },
  "language_info": {
   "codemirror_mode": {
    "name": "ipython",
    "version": 3
   },
   "file_extension": ".py",
   "mimetype": "text/x-python",
   "name": "python",
   "nbconvert_exporter": "python",
   "pygments_lexer": "ipython3",
   "version": "3.6.5"
  },
  "toc": {
   "base_numbering": 1,
   "nav_menu": {},
   "number_sections": true,
   "sideBar": true,
   "skip_h1_title": false,
   "title_cell": "Table of Contents",
   "title_sidebar": "Contents",
   "toc_cell": false,
   "toc_position": {},
   "toc_section_display": true,
   "toc_window_display": false
  }
 },
 "nbformat": 4,
 "nbformat_minor": 2
}
