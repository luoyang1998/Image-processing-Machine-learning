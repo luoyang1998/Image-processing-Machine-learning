{
 "cells": [
  {
   "cell_type": "markdown",
   "metadata": {},
   "source": [
    "# 77-Gabor 滤波器（Gabor Filter）"
   ]
  },
  {
   "cell_type": "markdown",
   "metadata": {},
   "source": [
    "来进行Gabor 滤波吧。\n",
    "\n",
    "Gabor 滤波器是一种结合了高斯分布和频率变换的滤波器，用于在图像的特定方向提取边缘。\n",
    "\n",
    "滤波器由以下式子定义： $$ G(y, x) = e^{-\\frac{{x'}^2 + \\gamma^2\\ {y'}^2}{2\\ \\sigma^2}} \\ \\cos(\\frac{2\\ \\pi\\ x'}{\\lambda} + p)\\ x'=\\cos(A)\\ x+\\sin(A)\\ y\\ y'=-\\sin(A)\\ x+\\cos(A)\\ y $$ 其中：\n",
    "\n",
    "$x$、$y$是滤波器的位置。滤波器的大小如果为$K$的话，$y$、$x$取$[-k//2,k//2]$；\n",
    "\n",
    "$\\gamma$：Gabor 滤波器的椭圆度；\n",
    "\n",
    "$\\sigma$：高斯分布的标准差；\n",
    "\n",
    "$\\lambda$：波长；\n",
    "\n",
    "$p$：相位；\n",
    "\n",
    "$A$：滤波核中平行条带的方向。\n",
    "\n",
    "在这里，取$K=111$，$\\sigma=10$，$\\gamma = 1.2$，$\\lambda =10$，$p=0$，$A=0$，可视化Gabor滤波器吧！\n",
    "\n",
    "实际使用Gabor滤波器时，通过归一化以使滤波器值的绝对值之和为1​使其更易于使用。\n",
    "\n",
    "在答案中，滤波器值被归一化至$[0,255]$以进行可视化。"
   ]
  },
  {
   "cell_type": "code",
   "execution_count": 1,
   "metadata": {},
   "outputs": [],
   "source": [
    "import cv2\n",
    "import numpy as np\n",
    "import matplotlib.pyplot as plt"
   ]
  },
  {
   "cell_type": "code",
   "execution_count": 6,
   "metadata": {},
   "outputs": [],
   "source": [
    "def Gabor_filter(K_size, Sigma, Gamma, Lambda, Psi, angle):\n",
    "\n",
    "    d = K_size // 2\n",
    "\n",
    "    gabor = np.zeros((K_size, K_size), dtype=np.float32)\n",
    "\n",
    "    for y in range(K_size):\n",
    "        for x in range(K_size):\n",
    "            # distance from center\n",
    "            px = x - d\n",
    "            py = y - d\n",
    "            \n",
    "            # degree -> radian\n",
    "            theta = angle / 180. * np.pi\n",
    "            \n",
    "            # get kernel x\n",
    "            _x = np.cos(theta) * px + np.sin(theta) * py\n",
    "            \n",
    "            # get kernel y\n",
    "            _y = -np.sin(theta) * px + np.cos(theta) * py\n",
    "            \n",
    "            # fill kernel\n",
    "            gabor[y, x] = np.exp(-(_x**2 + Gamma**2 * _y**2) / (2 * Sigma**2)) * np.cos(2*np.pi*_x/Lambda + Psi)\n",
    "            \n",
    "    # kernel normalization\n",
    "    gabor /= np.sum(np.abs(gabor))\n",
    "\n",
    "    return gabor"
   ]
  },
  {
   "cell_type": "code",
   "execution_count": 7,
   "metadata": {},
   "outputs": [],
   "source": [
    "gabor = Gabor_filter(K_size=111, Sigma=10, Gamma=1.2, Lambda=10, Psi=0, angle=0)"
   ]
  },
  {
   "cell_type": "code",
   "execution_count": 8,
   "metadata": {},
   "outputs": [],
   "source": [
    "# normalize to [0, 255]\n",
    "out = gabor - np.min(gabor)\n",
    "out /= np.max(out)\n",
    "out *= 255\n",
    "\n",
    "out = out.astype(np.uint8)"
   ]
  },
  {
   "cell_type": "code",
   "execution_count": 9,
   "metadata": {},
   "outputs": [],
   "source": [
    "cv2.imwrite(\"../picture/result77_Gabor Filter.jpg\", out)\n",
    "cv2.imshow(\"result\", out)\n",
    "cv2.waitKey(0)\n",
    "cv2.destroyAllWindows()"
   ]
  },
  {
   "cell_type": "markdown",
   "metadata": {},
   "source": [
    "# 78-旋转Gabor滤波器"
   ]
  },
  {
   "cell_type": "markdown",
   "metadata": {},
   "source": [
    "在这里分别取$A=0,45,90,135$来求得旋转Gabor滤波器。其它参数和问题七十七一样，$K=111$，$\\sigma=10$，$\\gamma = 1.2$，$\\lambda =10$，$p=0$。\n",
    "\n",
    "Gabor滤波器可以通过这里的方法简单实现。"
   ]
  },
  {
   "cell_type": "code",
   "execution_count": 3,
   "metadata": {},
   "outputs": [],
   "source": [
    "As = [0, 45, 90, 135]"
   ]
  },
  {
   "cell_type": "code",
   "execution_count": 7,
   "metadata": {},
   "outputs": [
    {
     "data": {
      "text/plain": [
       "<Figure size 432x288 with 0 Axes>"
      ]
     },
     "metadata": {},
     "output_type": "display_data"
    }
   ],
   "source": [
    "plt.subplots_adjust(left=0, right=1, top=1, bottom=0, hspace=0, wspace=0.2)"
   ]
  },
  {
   "cell_type": "code",
   "execution_count": 10,
   "metadata": {},
   "outputs": [
    {
     "data": {
      "image/png": "[encoded data removed]",
      "text/plain": [
       "<Figure size 432x288 with 4 Axes>"
      ]
     },
     "metadata": {},
     "output_type": "display_data"
    }
   ],
   "source": [
    "for i, A in enumerate(As):\n",
    "    # get gabor kernel\n",
    "    gabor = Gabor_filter(K_size=111, Sigma=10, Gamma=1.2, Lambda=10, Psi=0, angle=A)\n",
    "\n",
    "    # normalize to [0, 255]\n",
    "    out = gabor - np.min(gabor)\n",
    "    out /= np.max(out)\n",
    "    out *= 255\n",
    "    \n",
    "    out = out.astype(np.uint8)\n",
    "    plt.subplot(1, 4, i+1)\n",
    "    plt.imshow(out, cmap='gray')\n",
    "    plt.axis('off')\n",
    "    plt.title(\"Angle \"+str(A))\n",
    "    \n",
    "plt.savefig(\"../picture/result78_gabor.jpg\")\n",
    "plt.show()"
   ]
  },
  {
   "cell_type": "markdown",
   "metadata": {},
   "source": [
    "# 79-使用Gabor滤波器进行边缘检测"
   ]
  },
  {
   "cell_type": "markdown",
   "metadata": {},
   "source": [
    "图像灰度化之后，分别使用$A=0,45,90,135$的Gabor滤波器进行滤波。其它参数取为：$K=111$，$\\sigma=10$，$\\gamma = 1.2$，$\\lambda =10$，$p=0$。\n",
    "\n",
    "如在答案示例看到的那样， Gabor滤波器提取了指定的方向上的边缘。因此，Gabor滤波器在边缘特征提取方面非常出色。\n",
    "\n",
    "一般认为 Gabor 滤波器接近生物大脑视皮层中的初级简单细胞（V1 区）。也就是说，当生物看见眼前的图像时也进行了特征提取。\n",
    "\n",
    "一般认为深度学习的卷积层接近 Gabor 滤波器的功能。然而，在深度学习中，滤波器的系数通过机器学习自动确定。作为机器学习的结果，据说将发生类似于Gabor滤波器的过程。"
   ]
  },
  {
   "cell_type": "code",
   "execution_count": 12,
   "metadata": {},
   "outputs": [],
   "source": [
    "def BGR2GRAY(img):\n",
    "    \n",
    "    # Grayscale\n",
    "    gray = 0.2126 * img[..., 2] + 0.7152 * img[..., 1] + 0.0722 * img[..., 0]\n",
    "    \n",
    "    return gray"
   ]
  },
  {
   "cell_type": "code",
   "execution_count": 4,
   "metadata": {},
   "outputs": [],
   "source": [
    "def Gabor_filtering(gray, K_size=111, Sigma=10, Gamma=1.2, Lambda=10, Psi=0, angle=0):\n",
    "    # get shape\n",
    "    H, W = gray.shape\n",
    "\n",
    "    # padding\n",
    "    gray = np.pad(gray, (K_size//2, K_size//2), 'edge')\n",
    "\n",
    "    # prepare out image\n",
    "    out = np.zeros((H, W), dtype=np.float32)\n",
    "\n",
    "    # get gabor filter\n",
    "    gabor = Gabor_filter(K_size=K_size, Sigma=Sigma, Gamma=Gamma, Lambda=Lambda, Psi=0, angle=angle)\n",
    "        \n",
    "    # filtering\n",
    "    for y in range(H):\n",
    "        for x in range(W):\n",
    "            out[y, x] = np.sum(gray[y : y + K_size, x : x + K_size] * gabor)\n",
    "\n",
    "    out = np.clip(out, 0, 255)\n",
    "    out = out.astype(np.uint8)\n",
    "\n",
    "    return out"
   ]
  },
  {
   "cell_type": "code",
   "execution_count": 20,
   "metadata": {},
   "outputs": [],
   "source": [
    "def Gabor_process(img):\n",
    "    # gray scale\n",
    "    gray = BGR2GRAY(img).astype(np.float32)\n",
    "\n",
    "    # define angle\n",
    "    As = [0, 45, 90, 135]\n",
    "\n",
    "    # prepare pyplot\n",
    "    plt.subplots_adjust(left=0, right=1, top=1, bottom=0, hspace=0, wspace=0.2)\n",
    "\n",
    "    # each angle\n",
    "    for i, A in enumerate(As):\n",
    "        # gabor filtering\n",
    "        out = Gabor_filtering(gray, K_size=11, Sigma=1.5, Gamma=1.2, Lambda=3, angle=A)\n",
    "\n",
    "        plt.subplot(1, 4, i+1)\n",
    "        plt.imshow(out, cmap='gray')\n",
    "        plt.axis('off')\n",
    "        plt.title(\"Angle \"+str(A))\n",
    "\n",
    "    plt.savefig(\"../picture/result79_Gabor Filter.jpg\")\n",
    "    plt.show()"
   ]
  },
  {
   "cell_type": "code",
   "execution_count": 10,
   "metadata": {},
   "outputs": [],
   "source": [
    "img = cv2.imread('../picture/chans.png').astype(np.float32)"
   ]
  },
  {
   "cell_type": "code",
   "execution_count": 21,
   "metadata": {},
   "outputs": [
    {
     "data": {
      "image/png": "[encoded data removed]",
      "text/plain": [
       "<Figure size 432x288 with 4 Axes>"
      ]
     },
     "metadata": {},
     "output_type": "display_data"
    }
   ],
   "source": [
    "Gabor_process(img)"
   ]
  },
  {
   "cell_type": "markdown",
   "metadata": {},
   "source": [
    "# 80-使用Gabor滤波器进行特征提取"
   ]
  },
  {
   "cell_type": "markdown",
   "metadata": {},
   "source": [
    "通过将问题七十九中得到的4张图像加在一起，提取图像的特征。\n",
    "\n",
    "观察得到的结果，图像的轮廓部分是白色的，获得了类似于边缘检测的输出。\n",
    "\n",
    "深度学习中的卷积神经网络，最初已经具有提取图像的特征的功能，在不断重复特征提取的计算过程中，自动提取图像的特征。"
   ]
  },
  {
   "cell_type": "code",
   "execution_count": 22,
   "metadata": {},
   "outputs": [],
   "source": [
    "def Gabor_process2(img):\n",
    "    \n",
    "    # get shape\n",
    "    H, W, _ = img.shape\n",
    "\n",
    "    # gray scale\n",
    "    gray = BGR2GRAY(img).astype(np.float32)\n",
    "\n",
    "    # define angle\n",
    "    As = [0, 45, 90, 135]\n",
    "\n",
    "    # prepare pyplot\n",
    "    plt.subplots_adjust(left=0, right=1, top=1, bottom=0, hspace=0, wspace=0.2)\n",
    "\n",
    "    out = np.zeros([H, W], dtype=np.float32)\n",
    "\n",
    "    # each angle\n",
    "    for i, A in enumerate(As):\n",
    "        # gabor filtering\n",
    "        _out = Gabor_filtering(gray, K_size=11, Sigma=1.5, Gamma=1.2, Lambda=3, angle=A)\n",
    "\n",
    "        # add gabor filtered image\n",
    "        out += _out\n",
    "\n",
    "    # scale normalization\n",
    "    out = out / out.max() * 255\n",
    "    out = out.astype(np.uint8)\n",
    "\n",
    "    return out"
   ]
  },
  {
   "cell_type": "code",
   "execution_count": 23,
   "metadata": {},
   "outputs": [
    {
     "data": {
      "text/plain": [
       "<Figure size 432x288 with 0 Axes>"
      ]
     },
     "metadata": {},
     "output_type": "display_data"
    }
   ],
   "source": [
    "out = Gabor_process2(img)"
   ]
  },
  {
   "cell_type": "code",
   "execution_count": 24,
   "metadata": {},
   "outputs": [],
   "source": [
    "cv2.imwrite(\"../picture/result80_Gabor Filter.jpg\", out)\n",
    "cv2.imshow(\"result\", out)\n",
    "cv2.waitKey(0)\n",
    "cv2.destroyAllWindows()"
   ]
  },
  {
   "cell_type": "code",
   "execution_count": null,
   "metadata": {},
   "outputs": [],
   "source": []
  }
 ],
 "metadata": {
  "kernelspec": {
   "display_name": "Python 3",
   "language": "python",
   "name": "python3"
  },
  "language_info": {
   "codemirror_mode": {
    "name": "ipython",
    "version": 3
   },
   "file_extension": ".py",
   "mimetype": "text/x-python",
   "name": "python",
   "nbconvert_exporter": "python",
   "pygments_lexer": "ipython3",
   "version": "3.6.5"
  }
 },
 "nbformat": 4,
 "nbformat_minor": 2
}
