{
 "cells": [
  {
   "cell_type": "markdown",
   "metadata": {},
   "source": [
    "# 31-仿射变换（Afine Transformations）——倾斜"
   ]
  },
  {
   "cell_type": "markdown",
   "metadata": {},
   "source": [
    "1. 使用仿射变换，输出（1）那样的$x$轴倾斜$30$度的图像（$t_x=30$），这种变换被称为X-sharing。\n",
    "2. 使用仿射变换，输出（2）那样的y轴倾斜$30$度的图像（$t_y=30$），这种变换被称为Y-sharing。\n",
    "3. 使用仿射变换，输出（3）那样的$x$轴、$y$轴都倾斜$30$度的图像($t_x = 30$，$t_y = 30$)。\n",
    "4. 原图像的大小为$h\\ w$，使用下面各式进行仿射变换：\n",
    "\n",
    "X-sharing $$ a=\\frac{t_x}{h}\\ \\left[ \\begin{matrix} x'\\ y'\\ 1 \\end{matrix} \\right]=\\left[ \\begin{matrix} 1&a&t_x\\ 0&1&t_y\\ 0&0&1 \\end{matrix} \\right]\\ \\left[ \\begin{matrix} x\\ y\\ 1 \\end{matrix} \\right] $$\n",
    "\n",
    "Y-sharing $$ a=\\frac{t_y}{w}\\ \\left[ \\begin{matrix} x'\\ y'\\ 1 \\end{matrix} \\right]=\\left[ \\begin{matrix} 1&0&t_x\\ a&1&t_y\\ 0&0&1 \\end{matrix} \\right]\\ \\left[ \\begin{matrix} x\\ y\\ 1 \\end{matrix} \\right] $$"
   ]
  },
  {
   "cell_type": "code",
   "execution_count": 1,
   "metadata": {},
   "outputs": [],
   "source": [
    "import numpy as np\n",
    "import cv2\n",
    "import matplotlib.pyplot as plt"
   ]
  },
  {
   "cell_type": "code",
   "execution_count": 2,
   "metadata": {},
   "outputs": [],
   "source": [
    "img = cv2.imread('../picture/chans.png').astype(np.float32)"
   ]
  },
  {
   "cell_type": "code",
   "execution_count": 3,
   "metadata": {},
   "outputs": [],
   "source": [
    "def affine(img, dx=30, dy=30):\n",
    "    # get shape\n",
    "    H, W, C = img.shape\n",
    "\n",
    "    # Affine hyper parameters\n",
    "    a = 1.\n",
    "    b = dx / H\n",
    "    c = dy / W\n",
    "    d = 1.\n",
    "    tx = 0.\n",
    "    ty = 0.\n",
    "\n",
    "    # prepare temporary\n",
    "    _img = np.zeros((H+2, W+2, C), dtype=np.float32)\n",
    "\n",
    "    # insert image to center of temporary\n",
    "    _img[1:H+1, 1:W+1] = img\n",
    "\n",
    "    # prepare affine image temporary\n",
    "    H_new = np.ceil(dy + H).astype(np.int)\n",
    "    W_new = np.ceil(dx + W).astype(np.int)\n",
    "    out = np.zeros((H_new, W_new, C), dtype=np.float32)\n",
    "\n",
    "    # preprare assigned index\n",
    "    x_new = np.tile(np.arange(W_new), (H_new, 1))\n",
    "    y_new = np.arange(H_new).repeat(W_new).reshape(H_new, -1)\n",
    "\n",
    "    # prepare inverse matrix for affine\n",
    "    adbc = a * d - b * c\n",
    "    x = np.round((d * x_new  - b * y_new) / adbc).astype(np.int) - tx + 1\n",
    "    y = np.round((-c * x_new + a * y_new) / adbc).astype(np.int) - ty + 1\n",
    "\n",
    "    x = np.minimum(np.maximum(x, 0), W+1).astype(np.int)\n",
    "    y = np.minimum(np.maximum(y, 0), H+1).astype(np.int)\n",
    "\n",
    "    # assign value from original to affine image\n",
    "    out[y_new, x_new] = _img[y, x]\n",
    "    out = out.astype(np.uint8)\n",
    "\n",
    "    return out"
   ]
  },
  {
   "cell_type": "code",
   "execution_count": 4,
   "metadata": {},
   "outputs": [],
   "source": [
    "img_af4 = affine(img, dx=30, dy=30)"
   ]
  },
  {
   "cell_type": "code",
   "execution_count": 5,
   "metadata": {},
   "outputs": [],
   "source": [
    "cv2.imwrite('../picture/chan_result31_Afine Transformations.jpg', img_af4)\n",
    "cv2.namedWindow(\"result\", 0);\n",
    "cv2.resizeWindow(\"result\", (600, 600));\n",
    "cv2.imshow(\"result\", img_af4)\n",
    "cv2.waitKey(0)\n",
    "cv2.destroyAllWindows()"
   ]
  },
  {
   "cell_type": "markdown",
   "metadata": {},
   "source": [
    "# 32-傅立叶变换（Fourier Transform）"
   ]
  },
  {
   "cell_type": "markdown",
   "metadata": {},
   "source": [
    "使用离散二维傅立叶变换（Discrete Fourier Transformation），将灰度化的imori.jpg表示为频谱图。然后用二维离散傅立叶逆变换将图像复原。\n",
    "\n",
    "二维离散傅立叶变换是傅立叶变换在图像处理上的应用方法。通常傅立叶变换用于分离模拟信号或音频等连续一维信号的频率。但是，数字图像使用$[0,255]$范围内的离散值表示，并且图像使用$H\\times W$的二维矩阵表示，所以在这里使用二维离散傅立叶变换。\n",
    "\n",
    "二维离散傅立叶变换使用下式计算，其中$I$表示输入图像： $$ G(k,l)=\\frac{1}{H\\ W}\\ \\sum\\limits_{y=0}^{H-1}\\ \\sum\\limits_{x=0}^{W-1}\\ I(x,y)\\ e^{-2\\ \\pi\\ j\\ (\\frac{k\\ x}{W}+\\frac{l\\ y}{H})} $$ 在这里让图像灰度化后，再进行离散二维傅立叶变换。\n",
    "\n",
    "频谱图为了能表示复数$G$，所以图上所画长度为$G$的绝对值。这回的图像表示时，请将频谱图缩放至$[0,255]$范围。\n",
    "\n",
    "二维离散傅立叶逆变换从频率分量$G$按照下式复原图像： $$ I(x,y)=\\frac{1}{H\\ W}\\ \\sum\\limits_{l=0}^{H-1}\\ \\sum\\limits_{k=0}^{W-1}\\ G(l,k)\\ e^{2\\ \\pi\\ j\\ (\\frac{k\\ x}{W}+\\frac{l\\ y}{H})} $$\n",
    "\n",
    "上式中$\\exp(j)$是个复数，实际编程的时候请务必使用下式中的绝对值形态^1：\n",
    "\n",
    "如果只是简单地使用for语句的话，计算量达到$128^4$，十分耗时。如果善用NumPy的化，则可以减少计算量（答案中已经减少到$128^2$）。"
   ]
  },
  {
   "cell_type": "code",
   "execution_count": 21,
   "metadata": {},
   "outputs": [],
   "source": [
    "# DFT hyper-parameters\n",
    "K, L = 64, 64\n",
    "channel = 3"
   ]
  },
  {
   "cell_type": "code",
   "execution_count": 22,
   "metadata": {},
   "outputs": [],
   "source": [
    "# DFT\n",
    "def dft(img):\n",
    "    H, W, C = img.shape\n",
    "\n",
    "    G = np.zeros((L, K, channel), dtype=np.complex)\n",
    "    # np.complex创建一个值为 real+imag*j的复数或者转化为一个字符串或数为复数？？\n",
    "\n",
    "    # 准备对应于原始图像位置的处理过的索引\n",
    "    x = np.tile(np.arange(W), (H, 1))\n",
    "    y = np.arange(H).repeat(W).reshape(H, -1)\n",
    "\n",
    "    # dft\n",
    "    for c in range(channel):\n",
    "            for l in range(L):\n",
    "                for k in range(K):\n",
    "                    G[l, k, c] = np.sum(img[..., c] * np.exp(-2j * np.pi * (x * k / K + y * l / L))) / np.sqrt(K * L)\n",
    "\n",
    "    return G"
   ]
  },
  {
   "cell_type": "code",
   "execution_count": 24,
   "metadata": {},
   "outputs": [],
   "source": [
    "# IDFT\n",
    "def idft(G):\n",
    "    H, W, _ = G.shape\n",
    "    out = np.zeros((H, W, channel), dtype=np.float32)\n",
    "\n",
    "    # 准备对应于原始图像位置的处理过的索引\n",
    "    x = np.tile(np.arange(W), (H, 1))\n",
    "    y = np.arange(H).repeat(W).reshape(H, -1)\n",
    "\n",
    "    # idft\n",
    "    for c in range(channel):\n",
    "            for l in range(H):\n",
    "                for k in range(W):\n",
    "                    out[l, k, c] = np.abs(np.sum(G[..., c] * np.exp(2j * np.pi * (x * k / W + y * l / H)))) / np.sqrt(W * H)\n",
    "\n",
    "    out = np.clip(out, 0, 255)\n",
    "    out = out.astype(np.uint8)\n",
    "\n",
    "    return out"
   ]
  },
  {
   "cell_type": "code",
   "execution_count": 19,
   "metadata": {},
   "outputs": [],
   "source": [
    "img_gray = cv2.imread('../picture/chan_small.jpg').astype(np.float32)"
   ]
  },
  {
   "cell_type": "code",
   "execution_count": 20,
   "metadata": {},
   "outputs": [
    {
     "data": {
      "text/plain": [
       "(64, 64, 3)"
      ]
     },
     "execution_count": 20,
     "metadata": {},
     "output_type": "execute_result"
    }
   ],
   "source": [
    "img_gray.shape"
   ]
  },
  {
   "cell_type": "code",
   "execution_count": 25,
   "metadata": {},
   "outputs": [],
   "source": [
    "G = dft(img_gray)"
   ]
  },
  {
   "cell_type": "code",
   "execution_count": 26,
   "metadata": {},
   "outputs": [
    {
     "data": {
      "text/plain": [
       "True"
      ]
     },
     "execution_count": 26,
     "metadata": {},
     "output_type": "execute_result"
    }
   ],
   "source": [
    "ps = (np.abs(G) / np.abs(G).max() * 255).astype(np.uint8)\n",
    "cv2.imwrite(\"../picture/chan_result32_Frequency Domain.jpg\", ps)"
   ]
  },
  {
   "cell_type": "code",
   "execution_count": 27,
   "metadata": {},
   "outputs": [],
   "source": [
    "I = idft(G)"
   ]
  },
  {
   "cell_type": "code",
   "execution_count": 28,
   "metadata": {},
   "outputs": [],
   "source": [
    "cv2.imwrite('../picture/chan_result32_Fourier Transform.jpg', I)\n",
    "cv2.namedWindow(\"result\", 0);\n",
    "cv2.resizeWindow(\"result\", (600, 600));\n",
    "cv2.imshow(\"result\", I)\n",
    "cv2.waitKey(0)\n",
    "cv2.destroyAllWindows()"
   ]
  },
  {
   "cell_type": "markdown",
   "metadata": {},
   "source": [
    "# 33-傅立叶变换——低通滤波"
   ]
  },
  {
   "cell_type": "markdown",
   "metadata": {},
   "source": [
    "将图像灰度化之后进行傅立叶变换并进行低通滤波，之后再用傅立叶逆变换复原\n",
    "\n",
    "通过离散傅立叶变换得到的频率在左上、右上、左下、右下等地方频率较低，在中心位置频率较高。\n",
    "\n",
    "在图像中，高频成分指的是颜色改变的地方（噪声或者轮廓等），低频成分指的是颜色不怎么改变的部分（比如落日的渐变）。在这里，使用去除高频成分，保留低频成分的低通滤波器\n",
    "\n",
    "在这里，假设从低频的中心到高频的距离为$r$，我们保留$0.5\\ r$​的低频分量。"
   ]
  },
  {
   "cell_type": "code",
   "execution_count": 29,
   "metadata": {},
   "outputs": [],
   "source": [
    "# LPF\n",
    "def lpf(G, ratio=0.5):\n",
    "    H, W, C = G.shape\n",
    "\n",
    "    _G = np.zeros_like(G)\n",
    "    _G[:H//2, :W//2] = G[H//2:, W//2:]\n",
    "    _G[:H//2, W//2:] = G[H//2:, :W//2]\n",
    "    _G[H//2:, :W//2] = G[:H//2, W//2:]\n",
    "    _G[H//2:, W//2:] = G[:H//2, :W//2]\n",
    "\n",
    "    x = np.tile(np.arange(W), (H, 1))\n",
    "    y = np.arange(H).repeat(W).reshape(H, -1)\n",
    "\n",
    "    # 滤波器\n",
    "    _x = x - W // 2\n",
    "    _y = y - H // 2\n",
    "    r = np.sqrt(_x ** 2 + _y ** 2)\n",
    "    mask = np.ones((H, W), dtype=np.float32)\n",
    "    mask[r > (W // 2 * ratio)] = 0\n",
    "\n",
    "    mask = np.repeat(mask, channel).reshape(H, W, channel)\n",
    "\n",
    "    # filtering\n",
    "    _G *= mask\n",
    "\n",
    "    G[:H//2, :W//2] = _G[H//2:, W//2:]\n",
    "    G[:H//2, W//2:] = _G[H//2:, :W//2]\n",
    "    G[H//2:, :W//2] = _G[:H//2, W//2:]\n",
    "    G[H//2:, W//2:] = _G[:H//2, :W//2]\n",
    "\n",
    "    return G"
   ]
  },
  {
   "cell_type": "code",
   "execution_count": 33,
   "metadata": {},
   "outputs": [],
   "source": [
    "# 将傅里叶变换后图像进行低通滤波\n",
    "img_ = lpf(G)"
   ]
  },
  {
   "cell_type": "code",
   "execution_count": 34,
   "metadata": {},
   "outputs": [],
   "source": [
    "img_lpf = idft(img_)"
   ]
  },
  {
   "cell_type": "code",
   "execution_count": 35,
   "metadata": {},
   "outputs": [],
   "source": [
    "cv2.imwrite('../picture/chan_result33_lpf.jpg', img_lpf)\n",
    "cv2.namedWindow(\"result\", 0);\n",
    "cv2.resizeWindow(\"result\", (600, 600));\n",
    "cv2.imshow(\"result\", img_lpf)\n",
    "cv2.waitKey(0)\n",
    "cv2.destroyAllWindows()"
   ]
  },
  {
   "cell_type": "code",
   "execution_count": null,
   "metadata": {},
   "outputs": [],
   "source": []
  }
 ],
 "metadata": {
  "kernelspec": {
   "display_name": "Python 3",
   "language": "python",
   "name": "python3"
  },
  "language_info": {
   "codemirror_mode": {
    "name": "ipython",
    "version": 3
   },
   "file_extension": ".py",
   "mimetype": "text/x-python",
   "name": "python",
   "nbconvert_exporter": "python",
   "pygments_lexer": "ipython3",
   "version": "3.6.5"
  },
  "toc": {
   "base_numbering": 1,
   "nav_menu": {},
   "number_sections": true,
   "sideBar": true,
   "skip_h1_title": false,
   "title_cell": "Table of Contents",
   "title_sidebar": "Contents",
   "toc_cell": false,
   "toc_position": {},
   "toc_section_display": true,
   "toc_window_display": false
  }
 },
 "nbformat": 4,
 "nbformat_minor": 2
}
