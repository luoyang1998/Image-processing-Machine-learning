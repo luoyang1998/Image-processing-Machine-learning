{
 "cells": [
  {
   "cell_type": "markdown",
   "metadata": {},
   "source": [
    "# 70-色彩追踪（Color Tracking）"
   ]
  },
  {
   "cell_type": "markdown",
   "metadata": {},
   "source": [
    "在HSV色彩空间内对图像创建一个只有蓝色部分值为255的图像。\n",
    "\n",
    "色彩追踪是提取特定颜色的区域的方法。\n",
    "\n",
    "然而，由于在 RGB 色彩空间内颜色有$256^3$种，因此十分困难（或者说手动提取相当困难），因此进行 HSV 变换。\n",
    "\n",
    "HSV 变换在问题5中提到过，是将 RGB 变换到色相（Hue）、饱和度（Saturation）、明度（Value）的方法。\n",
    "\n",
    "饱和度越小越白，饱和度越大颜色越浓烈，$0\\leq S\\leq 1$；\n",
    "\n",
    "明度数值越高越接近白色，数值越低越接近黑色（$0\\leq V\\leq 1$）；\n",
    "\n",
    "色相：将颜色使用0到360度表示，具体色相与数值按下表对应：\n",
    "\n",
    "红\t黄\t绿\t青色\t蓝色\t品红\t红\n",
    "\n",
    "0°\t60°\t120°\t180°\t240°\t300°\t360°\n",
    "\n",
    "也就是说，为了追踪蓝色，可以在进行 HSV 转换后提取其中$180\\leq H\\leq 260$的位置，将其变为$255$。"
   ]
  },
  {
   "cell_type": "code",
   "execution_count": 1,
   "metadata": {},
   "outputs": [],
   "source": [
    "import cv2\n",
    "import numpy as np\n",
    "import matplotlib.pyplot as plt"
   ]
  },
  {
   "cell_type": "code",
   "execution_count": 2,
   "metadata": {},
   "outputs": [],
   "source": [
    "img = cv2.imread('../picture/chans.png').astype(np.float32)"
   ]
  },
  {
   "cell_type": "code",
   "execution_count": 3,
   "metadata": {},
   "outputs": [],
   "source": [
    "def BGR2HSV(_img):\n",
    "    \n",
    "    img = _img.copy() / 255.\n",
    "\n",
    "    hsv = np.zeros_like(img, dtype=np.float32)\n",
    "\n",
    "    max_v = np.max(img, axis=2).copy()\n",
    "    min_v = np.min(img, axis=2).copy()\n",
    "    min_arg = np.argmin(img, axis=2)\n",
    "\n",
    "    # H\n",
    "    hsv[..., 0][np.where(max_v == min_v)]= 0\n",
    "    ## if min == B\n",
    "    ind = np.where(min_arg == 0)\n",
    "    hsv[..., 0][ind] = 60 * (img[..., 1][ind] - img[..., 2][ind]) / (max_v[ind] - min_v[ind]) + 60\n",
    "    ## if min == R\n",
    "    ind = np.where(min_arg == 2)\n",
    "    hsv[..., 0][ind] = 60 * (img[..., 0][ind] - img[..., 1][ind]) / (max_v[ind] - min_v[ind]) + 180\n",
    "    ## if min == G\n",
    "    ind = np.where(min_arg == 1)\n",
    "    hsv[..., 0][ind] = 60 * (img[..., 2][ind] - img[..., 0][ind]) / (max_v[ind] - min_v[ind]) + 300\n",
    "    \n",
    "    # S\n",
    "    hsv[..., 1] = max_v.copy() - min_v.copy()\n",
    "    \n",
    "    # V\n",
    "    hsv[..., 2] = max_v.copy()\n",
    "    \n",
    "    return hsv"
   ]
  },
  {
   "cell_type": "code",
   "execution_count": 4,
   "metadata": {},
   "outputs": [],
   "source": [
    "def get_mask(hsv):\n",
    "    \n",
    "    mask = np.zeros_like(hsv[..., 0])\n",
    "    #mask[np.where((hsv > 180) & (hsv[0] < 260))] = 255\n",
    "    mask[np.logical_and((hsv[..., 0] > 180), (hsv[..., 0] < 260))] = 255\n",
    "\n",
    "    return mask"
   ]
  },
  {
   "cell_type": "code",
   "execution_count": 5,
   "metadata": {},
   "outputs": [
    {
     "name": "stderr",
     "output_type": "stream",
     "text": [
      "G:\\Anaconda\\lib\\site-packages\\ipykernel_launcher.py:15: RuntimeWarning: invalid value encountered in true_divide\n",
      "  from ipykernel import kernelapp as app\n",
      "G:\\Anaconda\\lib\\site-packages\\ipykernel_launcher.py:4: RuntimeWarning: invalid value encountered in greater\n",
      "  after removing the cwd from sys.path.\n",
      "G:\\Anaconda\\lib\\site-packages\\ipykernel_launcher.py:4: RuntimeWarning: invalid value encountered in less\n",
      "  after removing the cwd from sys.path.\n"
     ]
    }
   ],
   "source": [
    "hsv = BGR2HSV(img)\n",
    "\n",
    "mask = get_mask(hsv)\n",
    "\n",
    "out = mask.astype(np.uint8)"
   ]
  },
  {
   "cell_type": "code",
   "execution_count": 7,
   "metadata": {},
   "outputs": [],
   "source": [
    "cv2.imwrite(\"../picture/result70_Color Tracking.jpg\", out)\n",
    "cv2.imshow(\"result\", out)\n",
    "cv2.waitKey(0)\n",
    "cv2.destroyAllWindows()"
   ]
  },
  {
   "cell_type": "markdown",
   "metadata": {},
   "source": [
    "# 71-掩膜（Masking）"
   ]
  },
  {
   "cell_type": "markdown",
   "metadata": {},
   "source": [
    "使用HSV对imori.jpg进行掩膜处理，只让蓝色的地方变黑。\n",
    "\n",
    "像这样通过使用黑白二值图像将对应于黑色部分的原始图像的像素改变为黑色的操作被称为掩膜。\n",
    "\n",
    "要提取蓝色部分，请先创建这样的二进制图像，使得HSV色彩空间中$180\\leq H\\leq 260$的位置的像素值设为1，并将其0和1反转之后与原始图像相乘。\n",
    "\n",
    "这使得可以在某种程度上将（从背景上）分离出来。"
   ]
  },
  {
   "cell_type": "code",
   "execution_count": 22,
   "metadata": {},
   "outputs": [],
   "source": [
    "def get_masking(hsv):\n",
    "    \n",
    "    mask = np.zeros_like(hsv[..., 0])\n",
    "    #mask[np.where((hsv > 180) & (hsv[0] < 260))] = 255\n",
    "    mask[np.logical_and((hsv[..., 0] > 180), (hsv[..., 0] < 260))] = 1\n",
    "\n",
    "    return mask"
   ]
  },
  {
   "cell_type": "code",
   "execution_count": 18,
   "metadata": {},
   "outputs": [],
   "source": [
    "def masking(img, mask):\n",
    "    \n",
    "    mask = 1 - mask\n",
    "    out = img.copy()\n",
    "    \n",
    "    # mask [h, w] -> [h, w, channel]\n",
    "    mask = np.tile(mask, [3, 1, 1]).transpose([1, 2, 0])\n",
    "    out *= mask\n",
    "\n",
    "    return out"
   ]
  },
  {
   "cell_type": "code",
   "execution_count": 23,
   "metadata": {},
   "outputs": [
    {
     "name": "stderr",
     "output_type": "stream",
     "text": [
      "G:\\Anaconda\\lib\\site-packages\\ipykernel_launcher.py:5: RuntimeWarning: invalid value encountered in greater\n",
      "  \"\"\"\n",
      "G:\\Anaconda\\lib\\site-packages\\ipykernel_launcher.py:5: RuntimeWarning: invalid value encountered in less\n",
      "  \"\"\"\n"
     ]
    }
   ],
   "source": [
    "mask = get_masking(hsv)\n",
    "\n",
    "out = masking(img, mask)\n",
    "\n",
    "out = out.astype(np.uint8)"
   ]
  },
  {
   "cell_type": "code",
   "execution_count": 24,
   "metadata": {},
   "outputs": [],
   "source": [
    "cv2.imwrite(\"../picture/result71_masking.jpg\", out)\n",
    "cv2.imshow(\"result\", out)\n",
    "cv2.waitKey(0)\n",
    "cv2.destroyAllWindows()"
   ]
  },
  {
   "cell_type": "markdown",
   "metadata": {},
   "source": [
    "# 72-掩膜（色彩追踪（Color Tracking）+形态学处理）"
   ]
  },
  {
   "cell_type": "markdown",
   "metadata": {},
   "source": [
    "在问题七十一中掩膜并不是十分精细。\n",
    "\n",
    "因此，可以通过对掩膜图像应用N = 5闭运算（问题五十）和开运算（问题四十九），以使掩膜图像准确。"
   ]
  },
  {
   "cell_type": "code",
   "execution_count": 26,
   "metadata": {},
   "outputs": [],
   "source": [
    "def Erode(img, Erode_time=1):\n",
    "    \n",
    "    H, W = img.shape\n",
    "    out = img.copy()\n",
    "\n",
    "    # kernel\n",
    "    MF = np.array(((0, 1, 0), (1, 0, 1), (0, 1, 0)), dtype=np.int)\n",
    "\n",
    "    for i in range(Erode_time):\n",
    "        tmp = np.pad(out, (1, 1), 'edge')\n",
    "        # erode\n",
    "        for y in range(1, H + 1):\n",
    "            for x in range(1, W + 1):\n",
    "                if np.sum(MF * tmp[y - 1 : y + 2 , x - 1 : x + 2]) < 1 * 4:\n",
    "                    out[y - 1, x - 1] = 0\n",
    "\n",
    "    return out"
   ]
  },
  {
   "cell_type": "code",
   "execution_count": 27,
   "metadata": {},
   "outputs": [],
   "source": [
    "def Dilate(img, Dil_time=1):\n",
    "\n",
    "    H, W = img.shape\n",
    "    \n",
    "    # kernel\n",
    "    MF = np.array(((0, 1, 0), (1, 0, 1), (0, 1, 0)), dtype=np.int)\n",
    "    \n",
    "    # each dilate time\n",
    "    out = img.copy()\n",
    "    for i in range(Dil_time):\n",
    "        tmp = np.pad(out, (1, 1), 'edge')\n",
    "        for y in range(1, H + 1):\n",
    "            for x in range(1, W + 1):\n",
    "                if np.sum(MF * tmp[y - 1 : y + 2, x - 1 : x + 2]) >= 1:\n",
    "                    out[y - 1, x - 1] = 1\n",
    "\n",
    "    return out"
   ]
  },
  {
   "cell_type": "code",
   "execution_count": 28,
   "metadata": {},
   "outputs": [],
   "source": [
    "def Morphology_Opening(img, time=1):\n",
    "    \n",
    "    out = Erode(img, Erode_time=time)\n",
    "    out = Dilate(out, Dil_time=time)\n",
    "    \n",
    "    return out"
   ]
  },
  {
   "cell_type": "code",
   "execution_count": 29,
   "metadata": {},
   "outputs": [],
   "source": [
    "def Morphology_Closing(img, time=1):\n",
    "    \n",
    "    out = Dilate(img, Dil_time=time)\n",
    "    out = Erode(out, Erode_time=time)\n",
    "    \n",
    "    return out"
   ]
  },
  {
   "cell_type": "code",
   "execution_count": 30,
   "metadata": {},
   "outputs": [],
   "source": [
    "mask = Morphology_Closing(mask, time=5)\n",
    "\n",
    "mask = Morphology_Opening(mask, time=5)"
   ]
  },
  {
   "cell_type": "code",
   "execution_count": 31,
   "metadata": {},
   "outputs": [],
   "source": [
    "out = masking(img, mask)\n",
    "\n",
    "out = out.astype(np.uint8)"
   ]
  },
  {
   "cell_type": "code",
   "execution_count": null,
   "metadata": {},
   "outputs": [],
   "source": [
    "cv2.imwrite(\"../picture/result71_masking.jpg\", out)\n",
    "cv2.imshow(\"result\", out)\n",
    "cv2.waitKey(0)\n",
    "cv2.destroyAllWindows()"
   ]
  }
 ],
 "metadata": {
  "kernelspec": {
   "display_name": "Python 3",
   "language": "python",
   "name": "python3"
  },
  "language_info": {
   "codemirror_mode": {
    "name": "ipython",
    "version": 3
   },
   "file_extension": ".py",
   "mimetype": "text/x-python",
   "name": "python",
   "nbconvert_exporter": "python",
   "pygments_lexer": "ipython3",
   "version": "3.6.5"
  }
 },
 "nbformat": 4,
 "nbformat_minor": 2
}
