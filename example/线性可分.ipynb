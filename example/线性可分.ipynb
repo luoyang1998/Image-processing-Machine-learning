{
 "cells": [
  {
   "cell_type": "markdown",
   "id": "prime-progress",
   "metadata": {},
   "source": [
    "###逻辑回归-线性可分"
   ]
  },
  {
   "cell_type": "markdown",
   "id": "popular-chess",
   "metadata": {},
   "source": [
    "#案例：根据学生两门成绩，预测是否被大学录取"
   ]
  },
  {
   "cell_type": "code",
   "execution_count": 2,
   "id": "current-consumption",
   "metadata": {},
   "outputs": [],
   "source": [
    "import numpy as np\n",
    "import pandas as pd\n",
    "import matplotlib.pyplot as plt"
   ]
  },
  {
   "cell_type": "code",
   "execution_count": 7,
   "id": "dimensional-mentor",
   "metadata": {},
   "outputs": [
    {
     "data": {
      "text/html": [
       "<div>\n",
       "<style scoped>\n",
       "    .dataframe tbody tr th:only-of-type {\n",
       "        vertical-align: middle;\n",
       "    }\n",
       "\n",
       "    .dataframe tbody tr th {\n",
       "        vertical-align: top;\n",
       "    }\n",
       "\n",
       "    .dataframe thead th {\n",
       "        text-align: right;\n",
       "    }\n",
       "</style>\n",
       "<table border=\"1\" class=\"dataframe\">\n",
       "  <thead>\n",
       "    <tr style=\"text-align: right;\">\n",
       "      <th></th>\n",
       "      <th>Exam1</th>\n",
       "      <th>Exam2</th>\n",
       "      <th>Accepted</th>\n",
       "    </tr>\n",
       "  </thead>\n",
       "  <tbody>\n",
       "    <tr>\n",
       "      <th>0</th>\n",
       "      <td>34.623660</td>\n",
       "      <td>78.024693</td>\n",
       "      <td>0</td>\n",
       "    </tr>\n",
       "    <tr>\n",
       "      <th>1</th>\n",
       "      <td>30.286711</td>\n",
       "      <td>43.894998</td>\n",
       "      <td>0</td>\n",
       "    </tr>\n",
       "    <tr>\n",
       "      <th>2</th>\n",
       "      <td>35.847409</td>\n",
       "      <td>72.902198</td>\n",
       "      <td>0</td>\n",
       "    </tr>\n",
       "    <tr>\n",
       "      <th>3</th>\n",
       "      <td>60.182599</td>\n",
       "      <td>86.308552</td>\n",
       "      <td>1</td>\n",
       "    </tr>\n",
       "    <tr>\n",
       "      <th>4</th>\n",
       "      <td>79.032736</td>\n",
       "      <td>75.344376</td>\n",
       "      <td>1</td>\n",
       "    </tr>\n",
       "  </tbody>\n",
       "</table>\n",
       "</div>"
      ],
      "text/plain": [
       "       Exam1      Exam2  Accepted\n",
       "0  34.623660  78.024693         0\n",
       "1  30.286711  43.894998         0\n",
       "2  35.847409  72.902198         0\n",
       "3  60.182599  86.308552         1\n",
       "4  79.032736  75.344376         1"
      ]
     },
     "execution_count": 7,
     "metadata": {},
     "output_type": "execute_result"
    }
   ],
   "source": [
    "path = 'E:/ML_NG/02-logistic_regression/ex2data1.txt'\n",
    "data = pd.read_csv(path,names=['Exam1','Exam2','Accepted'])\n",
    "data.head()"
   ]
  },
  {
   "cell_type": "code",
   "execution_count": 15,
   "id": "experimental-republican",
   "metadata": {},
   "outputs": [
    {
     "data": {
      "image/png": "[encoded data removed]",
      "text/plain": [
       "<Figure size 432x288 with 1 Axes>"
      ]
     },
     "metadata": {
      "needs_background": "light"
     },
     "output_type": "display_data"
    }
   ],
   "source": [
    "fig,ax = plt.subplots()\n",
    "ax.scatter(data[data['Accepted']==0]['Exam1'],data[data['Accepted']==0]['Exam2'],c='r',marker='x',label='y=0')\n",
    "ax.scatter(data[data['Accepted']==1]['Exam1'],data[data['Accepted']==1]['Exam2'],c='b',marker='o',label='y=1')\n",
    "ax.legend()\n",
    "\n",
    "ax.set(xlabel='exam1',ylabel='exam2')\n",
    "plt.show()"
   ]
  },
  {
   "cell_type": "code",
   "execution_count": 16,
   "id": "descending-terminology",
   "metadata": {},
   "outputs": [],
   "source": [
    "def get_Xy(data):\n",
    "    \n",
    "    data.insert(0,'ones',1)\n",
    "    X_ = data.iloc[:,0:-1]\n",
    "    X = X_.values\n",
    "    \n",
    "    y_ = data.iloc[:,-1]\n",
    "    y = y_.values.reshape(len(y_),1)\n",
    "    \n",
    "    return X,y"
   ]
  },
  {
   "cell_type": "code",
   "execution_count": 17,
   "id": "isolated-parallel",
   "metadata": {},
   "outputs": [],
   "source": [
    "X,y = get_Xy(data)"
   ]
  },
  {
   "cell_type": "code",
   "execution_count": 18,
   "id": "organic-plenty",
   "metadata": {},
   "outputs": [
    {
     "data": {
      "text/plain": [
       "(100, 3)"
      ]
     },
     "execution_count": 18,
     "metadata": {},
     "output_type": "execute_result"
    }
   ],
   "source": [
    "X.shape"
   ]
  },
  {
   "cell_type": "code",
   "execution_count": 19,
   "id": "architectural-happiness",
   "metadata": {},
   "outputs": [
    {
     "data": {
      "text/plain": [
       "(100, 1)"
      ]
     },
     "execution_count": 19,
     "metadata": {},
     "output_type": "execute_result"
    }
   ],
   "source": [
    "y.shape"
   ]
  },
  {
   "cell_type": "markdown",
   "id": "primary-death",
   "metadata": {},
   "source": [
    "###损失函数"
   ]
  },
  {
   "cell_type": "code",
   "execution_count": 31,
   "id": "vocational-badge",
   "metadata": {},
   "outputs": [],
   "source": [
    "def sigmoid(z):\n",
    "    return 1/(1 + np.exp(-z))"
   ]
  },
  {
   "cell_type": "code",
   "execution_count": 32,
   "id": "outside-whole",
   "metadata": {},
   "outputs": [],
   "source": [
    "def costFunction(X,y,theta):\n",
    "    A = sigmoid(X@theta)\n",
    "    \n",
    "    first = y * np.log(A)\n",
    "    second = (1-y) * np.log(1-A)\n",
    "    \n",
    "    return -np.sum(first + second)/len(X)"
   ]
  },
  {
   "cell_type": "code",
   "execution_count": 24,
   "id": "current-appliance",
   "metadata": {},
   "outputs": [
    {
     "data": {
      "text/plain": [
       "(3, 1)"
      ]
     },
     "execution_count": 24,
     "metadata": {},
     "output_type": "execute_result"
    }
   ],
   "source": [
    "theta = np.zeros((3,1))\n",
    "theta.shape"
   ]
  },
  {
   "cell_type": "code",
   "execution_count": 33,
   "id": "empirical-occurrence",
   "metadata": {},
   "outputs": [
    {
     "name": "stdout",
     "output_type": "stream",
     "text": [
      "0.6931471805599453\n"
     ]
    }
   ],
   "source": [
    "cost_init = costFunction(X,y,theta)\n",
    "print(cost_init)"
   ]
  },
  {
   "cell_type": "code",
   "execution_count": 37,
   "id": "equal-prayer",
   "metadata": {},
   "outputs": [],
   "source": [
    "def gradientDescent(X,y,theta,iters,alpha):\n",
    "    m = len(X)\n",
    "    costs = []\n",
    "    \n",
    "    for i in range(iters):\n",
    "        A = sigmoid(X@theta)\n",
    "        theta = theta -(alpha/m) * X.T @ (A - y)\n",
    "        cost = costFunction(X,y,theta)\n",
    "        costs.append(cost)\n",
    "        #if i % 100 ==0:\n",
    "            #print(cost)\n",
    "    return costs,theta"
   ]
  },
  {
   "cell_type": "code",
   "execution_count": 35,
   "id": "lyric-venice",
   "metadata": {},
   "outputs": [],
   "source": [
    "alpha = 0.004\n",
    "iters = 200000"
   ]
  },
  {
   "cell_type": "code",
   "execution_count": 38,
   "id": "cross-concern",
   "metadata": {},
   "outputs": [],
   "source": [
    "costs,theta_final = gradientDescent(X,y,theta,iters,alpha)"
   ]
  },
  {
   "cell_type": "code",
   "execution_count": 40,
   "id": "correct-sister",
   "metadata": {},
   "outputs": [
    {
     "data": {
      "text/plain": [
       "array([[-23.77376631],\n",
       "       [  0.18688441],\n",
       "       [  0.18043173]])"
      ]
     },
     "execution_count": 40,
     "metadata": {},
     "output_type": "execute_result"
    }
   ],
   "source": [
    "theta_final"
   ]
  },
  {
   "cell_type": "code",
   "execution_count": 41,
   "id": "inappropriate-black",
   "metadata": {},
   "outputs": [],
   "source": [
    "def predict(X,theta):\n",
    "    \n",
    "    prob = sigmoid(X@theta)\n",
    "    \n",
    "    return [1 if x>=0.5 else 0 for x in prob]"
   ]
  },
  {
   "cell_type": "code",
   "execution_count": 42,
   "id": "blond-static",
   "metadata": {},
   "outputs": [
    {
     "name": "stdout",
     "output_type": "stream",
     "text": [
      "0.86\n"
     ]
    }
   ],
   "source": [
    "y_ = np.array(predict(X,theta_final))\n",
    "y_pre = y_.reshape(len(y_),1)\n",
    "\n",
    "acc = np.mean(y_pre == y)\n",
    "\n",
    "print(acc)"
   ]
  },
  {
   "cell_type": "code",
   "execution_count": 44,
   "id": "twenty-accused",
   "metadata": {},
   "outputs": [],
   "source": [
    "coef1 = -theta_final[0,0] / theta_final[2,0]\n",
    "coef2 = -theta_final[1,0] / theta_final[2,0]"
   ]
  },
  {
   "cell_type": "code",
   "execution_count": 47,
   "id": "regional-thermal",
   "metadata": {},
   "outputs": [
    {
     "data": {
      "image/png": "[encoded data removed]",
      "text/plain": [
       "<Figure size 432x288 with 1 Axes>"
      ]
     },
     "metadata": {
      "needs_background": "light"
     },
     "output_type": "display_data"
    }
   ],
   "source": [
    "x = np.linspace(20,100,100)\n",
    "f = coef1 + coef2 * x\n",
    "\n",
    "fig,ax = plt.subplots()\n",
    "ax.scatter(data[data['Accepted']==0]['Exam1'],data[data['Accepted']==0]['Exam2'],c='r',marker='x',label='y=0')\n",
    "ax.scatter(data[data['Accepted']==1]['Exam1'],data[data['Accepted']==1]['Exam2'],c='b',marker='o',label='y=1')\n",
    "ax.legend()\n",
    "\n",
    "ax.set(xlabel='exam1',ylabel='exam2')\n",
    "ax.plot(x,f,c='g')\n",
    "plt.show()"
   ]
  },
  {
   "cell_type": "code",
   "execution_count": null,
   "id": "historical-james",
   "metadata": {},
   "outputs": [],
   "source": []
  }
 ],
 "metadata": {
  "kernelspec": {
   "display_name": "Python 3",
   "language": "python",
   "name": "python3"
  },
  "language_info": {
   "codemirror_mode": {
    "name": "ipython",
    "version": 3
   },
   "file_extension": ".py",
   "mimetype": "text/x-python",
   "name": "python",
   "nbconvert_exporter": "python",
   "pygments_lexer": "ipython3",
   "version": "3.6.5"
  },
  "toc": {
   "base_numbering": 1,
   "nav_menu": {},
   "number_sections": true,
   "sideBar": true,
   "skip_h1_title": false,
   "title_cell": "Table of Contents",
   "title_sidebar": "Contents",
   "toc_cell": false,
   "toc_position": {},
   "toc_section_display": true,
   "toc_window_display": false
  }
 },
 "nbformat": 4,
 "nbformat_minor": 5
}
