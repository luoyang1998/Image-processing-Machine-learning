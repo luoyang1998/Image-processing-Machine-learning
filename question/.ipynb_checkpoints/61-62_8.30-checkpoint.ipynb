{
 "cells": [
  {
   "cell_type": "markdown",
   "metadata": {},
   "source": [
    "# 61-4连接数"
   ]
  },
  {
   "cell_type": "markdown",
   "metadata": {},
   "source": [
    "请根据$4-$连接数将renketsu.png上色。\n",
    "\n",
    "$4-$连接数可以用于显示附近像素的状态。通常，对于中心像素$x_0(x，y)$不为零的情况，邻域定义如下：\n",
    "\n",
    "$$ \\begin{matrix} x_4(x-1,y-1)& x_3(x,y-1)& x_2(x+1,y-1)\\ x_5(x-1,y) & x_0(x,y) & x_1(x+1,y)\\ x_6(x-1,y+1)& x_7(x,y+1)& x_8(x+1,y+1) \\end{matrix} $$ \n",
    "\n",
    "这里，$4-$连接数通过以下等式计算： $$ S = (x_1 - x_1\\ x_2\\ x_3) + (x_3 - x_3\\ x_4\\ x_5) + (x_5 - x_5\\ x_6\\ x_7) + (x_7 - x_7\\ x_8\\ x_1) $$ $S$的取值范围为$[0,4]$：\n",
    "\n",
    "$S = 0$： 内部点；\n",
    "$S = 1$：端点；\n",
    "$S = 2$：连接点；\n",
    "$S = 3$：分支点；\n",
    "$S = 4$：交叉点。"
   ]
  },
  {
   "cell_type": "code",
   "execution_count": 3,
   "metadata": {},
   "outputs": [],
   "source": [
    "import cv2\n",
    "import numpy as np\n",
    "import matplotlib.pyplot as plt"
   ]
  },
  {
   "cell_type": "code",
   "execution_count": null,
   "metadata": {},
   "outputs": [],
   "source": []
  },
  {
   "cell_type": "code",
   "execution_count": null,
   "metadata": {},
   "outputs": [],
   "source": []
  },
  {
   "cell_type": "code",
   "execution_count": null,
   "metadata": {},
   "outputs": [],
   "source": []
  },
  {
   "cell_type": "code",
   "execution_count": null,
   "metadata": {},
   "outputs": [],
   "source": [
    "cv2.imwrite(\"../picture/result60_Alpha Blending.jpg\", out)\n",
    "cv2.imshow(\"result\", out)\n",
    "cv2.waitKey(0)\n",
    "cv2.destroyAllWindows()"
   ]
  }
 ],
 "metadata": {
  "kernelspec": {
   "display_name": "Python 3",
   "language": "python",
   "name": "python3"
  },
  "language_info": {
   "codemirror_mode": {
    "name": "ipython",
    "version": 3
   },
   "file_extension": ".py",
   "mimetype": "text/x-python",
   "name": "python",
   "nbconvert_exporter": "python",
   "pygments_lexer": "ipython3",
   "version": "3.6.5"
  }
 },
 "nbformat": 4,
 "nbformat_minor": 2
}
