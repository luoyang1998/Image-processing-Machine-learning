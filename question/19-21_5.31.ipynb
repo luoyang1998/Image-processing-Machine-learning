{
 "cells": [
  {
   "cell_type": "markdown",
   "metadata": {},
   "source": [
    "# 19-LoG滤波器"
   ]
  },
  {
   "cell_type": "markdown",
   "metadata": {},
   "source": [
    "使用LoG 滤波器，对噪声图片检测边缘\n",
    "\n",
    "LoG即高斯-拉普拉斯（Laplacian of Gaussian）的缩写，使用高斯滤波器使图像平滑化之后再使用拉普拉斯滤波器使图像的轮廓更加清晰。\n",
    "\n",
    "为了防止拉普拉斯滤波器计算二次微分会使得图像噪声更加明显，首先使用高斯滤波器来抑制噪声。\n",
    "\n",
    "LoG 滤波器使用以下式子定义： $$ \\text{LoG}(x,y)=\\frac{x^2 + y^2 - s^2}{2 \\ \\pi \\ s^6} \\ e^{-\\frac{x^2+y^2}{2\\ s^2}} $$"
   ]
  },
  {
   "cell_type": "code",
   "execution_count": 2,
   "metadata": {},
   "outputs": [],
   "source": [
    "import cv2\n",
    "import numpy as np"
   ]
  },
  {
   "cell_type": "code",
   "execution_count": 3,
   "metadata": {},
   "outputs": [],
   "source": [
    "# 读取使用高斯滤波处理后的噪声灰度图像\n",
    "\n",
    "img = cv2.imread('../picture/cat_gaus_noise_gray.jpg', 0)"
   ]
  },
  {
   "cell_type": "code",
   "execution_count": 8,
   "metadata": {},
   "outputs": [],
   "source": [
    "def log(img, K_size, sigma):\n",
    "    \n",
    "    h, w = img.shape\n",
    "    \n",
    "    # Zero padding\n",
    "    pad = K_size // 2\n",
    "    out = np.zeros((h + pad * 2, w + pad * 2), dtype=np.float)\n",
    "    out[pad: pad + h, pad: pad + w] = img.copy().astype(np.float)\n",
    "    tmp = out.copy()\n",
    "\n",
    "    K = np.zeros((K_size, K_size), dtype=np.float)\n",
    "    for x in range(-pad, -pad + K_size):\n",
    "        for y in range(-pad, -pad + K_size):\n",
    "            K[y + pad, x + pad] = (x ** 2 + y ** 2 - sigma ** 2) * np.exp( -(x ** 2 + y ** 2) / (2 * (sigma ** 2)))\n",
    "    K /= (2 * np.pi * (sigma ** 6))\n",
    "    K /= K.sum()\n",
    "\n",
    "    # 滤波\n",
    "    for y in range(h):\n",
    "        for x in range(w):\n",
    "            out[pad + y, pad + x] = np.sum(K * (tmp[y: y + K_size, x: x + K_size]))\n",
    "\n",
    "    out = np.clip(out, 0, 255)\n",
    "\n",
    "    out = out[pad: pad + h, pad: pad + w].astype(np.uint8)\n",
    "\n",
    "    return out"
   ]
  },
  {
   "cell_type": "code",
   "execution_count": 9,
   "metadata": {},
   "outputs": [],
   "source": [
    "img_log = log(img, K_size=7, sigma=3)"
   ]
  },
  {
   "cell_type": "code",
   "execution_count": 10,
   "metadata": {},
   "outputs": [],
   "source": [
    "cv2.imwrite('../picture/chan_result19_log_filter.jpg', img_log)\n",
    "cv2.namedWindow(\"result\", 0);\n",
    "cv2.resizeWindow(\"result\", (600, 600));\n",
    "cv2.imshow(\"result\", img_log)\n",
    "cv2.waitKey(0)\n",
    "cv2.destroyAllWindows()"
   ]
  },
  {
   "cell_type": "markdown",
   "metadata": {},
   "source": [
    "# 20-直方图"
   ]
  },
  {
   "cell_type": "markdown",
   "metadata": {},
   "source": [
    "使用Matplotlib来绘制imori_dark.jpg的直方图\n",
    "\n",
    "直方图显示了不同数值的像素出现的次数。在Matplotlib中有hist()函数提供绘制直方图的接口。"
   ]
  },
  {
   "cell_type": "code",
   "execution_count": 1,
   "metadata": {},
   "outputs": [],
   "source": [
    "import matplotlib.pyplot as plt\n",
    "from PIL import Image"
   ]
  },
  {
   "cell_type": "code",
   "execution_count": 3,
   "metadata": {},
   "outputs": [],
   "source": [
    "img = Image.open('../picture/chan_gray.jpg')"
   ]
  },
  {
   "cell_type": "markdown",
   "metadata": {},
   "source": [
    "图像增亮\\暗"
   ]
  },
  {
   "cell_type": "markdown",
   "metadata": {},
   "source": [
    "将每个像素乘以0.5(使图像变暗)\n",
    "最适合jpg和png文件，较暗< 1.0 <较亮\n",
    "注意，lambda类似于一个单行函数"
   ]
  },
  {
   "cell_type": "code",
   "execution_count": 8,
   "metadata": {},
   "outputs": [],
   "source": [
    "img_dark= img.point(lambda p: p * 0.5)"
   ]
  },
  {
   "cell_type": "code",
   "execution_count": 9,
   "metadata": {},
   "outputs": [],
   "source": [
    "img_dark.show()"
   ]
  },
  {
   "cell_type": "code",
   "execution_count": 10,
   "metadata": {},
   "outputs": [],
   "source": [
    "img_dark.save(\"../picture/chan_dark.jpg\")"
   ]
  },
  {
   "cell_type": "code",
   "execution_count": 33,
   "metadata": {},
   "outputs": [],
   "source": [
    "img_gray = cv2.imread('../picture/chan_dark.jpg').astype(np.float)"
   ]
  },
  {
   "cell_type": "code",
   "execution_count": 34,
   "metadata": {},
   "outputs": [
    {
     "data": {
      "image/png": "[encoded data removed]",
      "text/plain": [
       "<Figure size 432x288 with 1 Axes>"
      ]
     },
     "metadata": {},
     "output_type": "display_data"
    }
   ],
   "source": [
    "# 画直方图\n",
    "\n",
    "plt.hist(img_gray.ravel(), bins=255, rwidth=0.8, range=(0, 255))\n",
    "plt.savefig(\"../picture/result20_hist.png\")\n",
    "plt.show()"
   ]
  },
  {
   "cell_type": "markdown",
   "metadata": {},
   "source": [
    "# 21-直方图归一化（ Histogram Normalization ）"
   ]
  },
  {
   "cell_type": "markdown",
   "metadata": {},
   "source": [
    "来归一化直方图\n",
    "\n",
    "有时直方图会偏向一边。\n",
    "\n",
    "比如说，数据集中在$0$处（左侧）的图像全体会偏暗，数据集中在$255$处（右侧）的图像会偏亮。\n",
    "\n",
    "如果直方图有所偏向，那么其**动态范围（ dynamic range ）**就会较低。\n",
    "\n",
    "为了使人能更清楚地看见图片，让直方图归一化、平坦化是十分必要的。\n",
    "\n",
    "这种归一化直方图的操作被称作灰度变换（Grayscale Transformation）。像素点取值范围从$[c,d]$转换到$[a,b]$的过程由下式定义。这回我们将imori_dark.jpg的灰度扩展到$[0, 255]$范围： $$ x_{out}= \\begin{cases} a& (\\text{if}\\quad x_{in}<c)\\ \\frac{b-a}{d-c}\\ (x_{in}-c)+a&(\\text{else if}\\quad c\\leq x_{in}<d)\\ b&(\\text{else}) \\end{cases} $$"
   ]
  },
  {
   "cell_type": "code",
   "execution_count": 35,
   "metadata": {},
   "outputs": [],
   "source": [
    "# 直方图均衡化\n",
    "\n",
    "def hist_normalization(img, a=0, b=255):\n",
    "    # 得到最大最小值\n",
    "    c = img.min()\n",
    "    d = img.max()\n",
    "\n",
    "    out = img.copy()\n",
    "\n",
    "    # 标准化\n",
    "    out = (b-a) / (d - c) * (out - c) + a\n",
    "    out[out < a] = a\n",
    "    out[out > b] = b\n",
    "    out = out.astype(np.uint8)\n",
    "\n",
    "    return out"
   ]
  },
  {
   "cell_type": "code",
   "execution_count": 36,
   "metadata": {},
   "outputs": [],
   "source": [
    "img_hist = hist_normalization(img_gray)"
   ]
  },
  {
   "cell_type": "code",
   "execution_count": 37,
   "metadata": {},
   "outputs": [
    {
     "data": {
      "image/png": "[encoded data removed]",
      "text/plain": [
       "<Figure size 432x288 with 1 Axes>"
      ]
     },
     "metadata": {},
     "output_type": "display_data"
    }
   ],
   "source": [
    "plt.hist(img_hist.ravel(), bins=255, rwidth=0.8, range=(0, 255))\n",
    "plt.savefig(\"../picture/result21_hist_norm.png\")\n",
    "plt.show()"
   ]
  },
  {
   "cell_type": "code",
   "execution_count": 38,
   "metadata": {},
   "outputs": [],
   "source": []
  },
  {
   "cell_type": "code",
   "execution_count": null,
   "metadata": {},
   "outputs": [],
   "source": []
  }
 ],
 "metadata": {
  "kernelspec": {
   "display_name": "Python 3",
   "language": "python",
   "name": "python3"
  },
  "language_info": {
   "codemirror_mode": {
    "name": "ipython",
    "version": 3
   },
   "file_extension": ".py",
   "mimetype": "text/x-python",
   "name": "python",
   "nbconvert_exporter": "python",
   "pygments_lexer": "ipython3",
   "version": "3.6.5"
  },
  "toc": {
   "base_numbering": 1,
   "nav_menu": {},
   "number_sections": true,
   "sideBar": true,
   "skip_h1_title": false,
   "title_cell": "Table of Contents",
   "title_sidebar": "Contents",
   "toc_cell": false,
   "toc_position": {},
   "toc_section_display": true,
   "toc_window_display": false
  }
 },
 "nbformat": 4,
 "nbformat_minor": 2
}
