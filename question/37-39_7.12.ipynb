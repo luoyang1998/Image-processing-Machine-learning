{
 "cells": [
  {
   "cell_type": "markdown",
   "metadata": {},
   "source": [
    "# 37-PSNR"
   ]
  },
  {
   "cell_type": "markdown",
   "metadata": {},
   "source": [
    "离散余弦逆变换中如果不使用$8$作为系数，而是使用$4$作为系数的话，图像的画质会变差。来求输入图像和经过离散余弦逆变换之后的图像的峰值信噪比吧！再求出离散余弦逆变换的比特率吧！\n",
    "\n",
    "峰值信噪比（Peak Signal to Noise Ratio）缩写为PSNR，用来表示信号最大可能功率和影响它的表示精度的破坏性噪声功率的比值，可以显示图像画质损失的程度。\n",
    "\n",
    "峰值信噪比越大，表示画质损失越小。峰值信噪比通过下式定义。MAX表示图像点颜色的最大数值。如果取值范围是$[0,255]$的话，那么MAX的值就为255。MSE表示均方误差（Mean Squared Error），用来表示两个图像各个像素点之间差值平方和的平均数： $$ \\text{PSNR}=10\\ \\log_{10}\\ \\frac{{v_{max}}^2}{\\text{MSE}}\\ \\text{MSE}=\\frac{\\sum\\limits_{y=0}^{H-1}\\ \\sum\\limits_{x=0}^{W-1}\\ [I_1(x,y)-I_2(x,y)]^2}{H\\ W} $$ 如果我们进行$8\\times8$的离散余弦变换，离散余弦逆变换的系数为$KtimesK$的话，比特率按下式定义： $$ \\text{bit rate}=8\\ \\frac{K^2}{8^2} $$"
   ]
  },
  {
   "cell_type": "code",
   "execution_count": 2,
   "metadata": {},
   "outputs": [],
   "source": [
    "import numpy as np\n",
    "import cv2\n",
    "import matplotlib.pyplot as plt"
   ]
  },
  {
   "cell_type": "code",
   "execution_count": 1,
   "metadata": {},
   "outputs": [],
   "source": [
    "# DCT hyoer-parameter\n",
    "T = 8\n",
    "K = 4\n",
    "channel = 3"
   ]
  },
  {
   "cell_type": "code",
   "execution_count": 3,
   "metadata": {},
   "outputs": [],
   "source": [
    "# DCT weight\n",
    "def w(x, y, u, v):\n",
    "    cu = 1.\n",
    "    cv = 1.\n",
    "    if u == 0:\n",
    "        cu /= np.sqrt(2)\n",
    "    if v == 0:\n",
    "        cv /= np.sqrt(2)\n",
    "    theta = np.pi / (2 * T)\n",
    "    \n",
    "    return (( 2 * cu * cv / T) * np.cos((2*x+1)*u*theta) * np.cos((2*y+1)*v*theta))"
   ]
  },
  {
   "cell_type": "code",
   "execution_count": 4,
   "metadata": {},
   "outputs": [],
   "source": [
    "# DCT\n",
    "def dct(img):\n",
    "    H, W, _ = img.shape\n",
    "\n",
    "    F = np.zeros((H, W, channel), dtype=np.float32)\n",
    "\n",
    "    for c in range(channel):\n",
    "        for yi in range(0, H, T):\n",
    "            for xi in range(0, W, T):\n",
    "                for v in range(T):\n",
    "                    for u in range(T):\n",
    "                        for y in range(T):\n",
    "                            for x in range(T):\n",
    "                                F[v+yi, u+xi, c] += img[y+yi, x+xi, c] * w(x,y,u,v)\n",
    "\n",
    "    return F"
   ]
  },
  {
   "cell_type": "code",
   "execution_count": 5,
   "metadata": {},
   "outputs": [],
   "source": [
    "# IDCT\n",
    "def idct(F):\n",
    "    H, W, _ = F.shape\n",
    "\n",
    "    out = np.zeros((H, W, channel), dtype=np.float32)\n",
    "\n",
    "    for c in range(channel):\n",
    "        for yi in range(0, H, T):\n",
    "            for xi in range(0, W, T):\n",
    "                for y in range(T):\n",
    "                    for x in range(T):\n",
    "                        for v in range(K):\n",
    "                            for u in range(K):\n",
    "                                out[y+yi, x+xi, c] += F[v+yi, u+xi, c] * w(x,y,u,v)\n",
    "\n",
    "    out = np.clip(out, 0, 255)\n",
    "    out = np.round(out).astype(np.uint8)\n",
    "\n",
    "    return out"
   ]
  },
  {
   "cell_type": "code",
   "execution_count": 6,
   "metadata": {},
   "outputs": [],
   "source": [
    "# MSE\n",
    "def MSE(img1, img2):\n",
    "    H, W, _ = img1.shape\n",
    "    mse = np.sum((img1 - img2) ** 2) / (H * W * channel)\n",
    "    \n",
    "    return mse"
   ]
  },
  {
   "cell_type": "code",
   "execution_count": 7,
   "metadata": {},
   "outputs": [],
   "source": [
    "# PSNR\n",
    "def PSNR(mse, vmax=255):\n",
    "    \n",
    "    return 10 * np.log10(vmax * vmax / mse)"
   ]
  },
  {
   "cell_type": "code",
   "execution_count": 8,
   "metadata": {},
   "outputs": [],
   "source": [
    "# bitrate\n",
    "def BITRATE():\n",
    "    \n",
    "    return 1. * T * K * K / T / T"
   ]
  },
  {
   "cell_type": "code",
   "execution_count": 9,
   "metadata": {},
   "outputs": [],
   "source": [
    "img = cv2.imread('../picture/chans.png').astype(np.float32)"
   ]
  },
  {
   "cell_type": "code",
   "execution_count": 10,
   "metadata": {},
   "outputs": [],
   "source": [
    "F = dct(img)"
   ]
  },
  {
   "cell_type": "code",
   "execution_count": 11,
   "metadata": {},
   "outputs": [],
   "source": [
    "img_dct = idct(F)"
   ]
  },
  {
   "cell_type": "code",
   "execution_count": 12,
   "metadata": {},
   "outputs": [],
   "source": [
    "# MSE\n",
    "mse = MSE(img, img_dct)\n",
    "\n",
    "# PSNR\n",
    "psnr = PSNR(mse)\n",
    "\n",
    "# bitrate\n",
    "bitrate = BITRATE()"
   ]
  },
  {
   "cell_type": "code",
   "execution_count": 14,
   "metadata": {},
   "outputs": [
    {
     "name": "stdout",
     "output_type": "stream",
     "text": [
      "MSE: 294.2742106119792\n",
      "PSNR: 23.443281574827807\n",
      "bitrate: 2.0\n"
     ]
    }
   ],
   "source": [
    "print(\"MSE:\", mse)\n",
    "print(\"PSNR:\", psnr)\n",
    "print(\"bitrate:\", bitrate)"
   ]
  },
  {
   "cell_type": "code",
   "execution_count": 15,
   "metadata": {},
   "outputs": [],
   "source": [
    "cv2.imwrite('../picture/chan_result37_Discrete Cosine Transformation.jpg', img_dct)\n",
    "cv2.namedWindow(\"result\", 0);\n",
    "cv2.resizeWindow(\"result\", (600, 600));\n",
    "cv2.imshow(\"result\", img_dct)\n",
    "cv2.waitKey(0)\n",
    "cv2.destroyAllWindows()"
   ]
  },
  {
   "cell_type": "markdown",
   "metadata": {},
   "source": [
    "# 38-JPEG 压缩——第二步：离散余弦变换+量化"
   ]
  },
  {
   "cell_type": "markdown",
   "metadata": {},
   "source": [
    "量化离散余弦变换系数并使用离散余弦逆变换恢复。再比较变换前后图片的大小。\n",
    "\n",
    "量化离散余弦变换系数是用于编码 JPEG 图像的技术。\n",
    "\n",
    "量化即在对值在预定义的区间内舍入，其中floor、ceil、round等是类似的计算。\n",
    "\n",
    "在 JPEG 图像中，根据下面所示的量化矩阵量化离散余弦变换系数。\n",
    "该量化矩阵取自 JPEG 软件开发联合会组织颁布的标准量化表。在量化中，将8x 8的系数除以（量化矩阵） Q 并四舍五入。\n",
    "之后然后再乘以 Q 。对于离散余弦逆变换，应使用所有系数。"
   ]
  },
  {
   "cell_type": "code",
   "execution_count": 16,
   "metadata": {},
   "outputs": [],
   "source": [
    "# 量化\n",
    "def quantization(F):\n",
    "    H, W, _ = F.shape\n",
    "\n",
    "    Q = np.array(((16, 11, 10, 16, 24, 40, 51, 61),\n",
    "                (12, 12, 14, 19, 26, 58, 60, 55),\n",
    "                (14, 13, 16, 24, 40, 57, 69, 56),\n",
    "                (14, 17, 22, 29, 51, 87, 80, 62),\n",
    "                (18, 22, 37, 56, 68, 109, 103, 77),\n",
    "                (24, 35, 55, 64, 81, 104, 113, 92),\n",
    "                (49, 64, 78, 87, 103, 121, 120, 101),\n",
    "                (72, 92, 95, 98, 112, 100, 103, 99)), dtype=np.float32)\n",
    "\n",
    "    for ys in range(0, H, T):\n",
    "        for xs in range(0, W, T):\n",
    "            for c in range(channel):\n",
    "                F[ys: ys + T, xs: xs + T, c] =  np.round(F[ys: ys + T, xs: xs + T, c] / Q) * Q\n",
    "\n",
    "    return F"
   ]
  },
  {
   "cell_type": "code",
   "execution_count": 17,
   "metadata": {},
   "outputs": [],
   "source": [
    "F = quantization(F)"
   ]
  },
  {
   "cell_type": "code",
   "execution_count": 18,
   "metadata": {},
   "outputs": [],
   "source": [
    "img_quan = idct(F)"
   ]
  },
  {
   "cell_type": "code",
   "execution_count": 19,
   "metadata": {},
   "outputs": [],
   "source": [
    "# MSE\n",
    "mse = MSE(img, img_quan)\n",
    "\n",
    "# PSNR\n",
    "psnr = PSNR(mse)\n",
    "\n",
    "# bitrate\n",
    "bitrate = BITRATE()"
   ]
  },
  {
   "cell_type": "code",
   "execution_count": 20,
   "metadata": {},
   "outputs": [
    {
     "name": "stdout",
     "output_type": "stream",
     "text": [
      "MSE: 296.60695393880206\n",
      "PSNR: 23.40899032038506\n",
      "bitrate: 2.0\n"
     ]
    }
   ],
   "source": [
    "print(\"MSE:\", mse)\n",
    "print(\"PSNR:\", psnr)\n",
    "print(\"bitrate:\", bitrate)"
   ]
  },
  {
   "cell_type": "code",
   "execution_count": 21,
   "metadata": {},
   "outputs": [],
   "source": [
    "cv2.imwrite('../picture/chan_result38_quantization.jpg', img_quan)\n",
    "cv2.namedWindow(\"result\", 0);\n",
    "cv2.resizeWindow(\"result\", (600, 600));\n",
    "cv2.imshow(\"result\", img_quan)\n",
    "cv2.waitKey(0)\n",
    "cv2.destroyAllWindows()"
   ]
  },
  {
   "cell_type": "markdown",
   "metadata": {},
   "source": [
    "# 39-JPEG 压缩——第三步：YCbCr 色彩空间"
   ]
  },
  {
   "cell_type": "markdown",
   "metadata": {},
   "source": [
    "在 YCbCr 色彩空间内，将 Y 乘以0.7以使对比度变暗。\n",
    "\n",
    "YCbCr 色彩空间是用于将图像由表示亮度的 Y、表示蓝色色度Cb以及表示红色色度Cr表示的方法。\n",
    "\n",
    "这用于 JPEG 转换。\n",
    "\n",
    "使用下式从 RGB 转换到 YCbCr： $$ Y = 0.299 \\ R + 0.5870 \\ G + 0.114 \\ B$$ $$Cb = -0.1687\\ R - 0.3313 \\ G + 0.5 \\ B + 128$$ $$Cr = 0.5 \\ R - 0.4187 \\ G - 0.0813 \\ B + 128 $$ \n",
    "\n",
    "使用下式从 YCbCr 转到 RGB： $$ R = Y + (Cr - 128) \\ 1.402$$ $$G = Y - (Cb - 128) \\ 0.3441 - (Cr - 128) \\ 0.7139$$ \n",
    "$$B = Y + (Cb - 128) \\ 1.7718$$"
   ]
  },
  {
   "cell_type": "code",
   "execution_count": 22,
   "metadata": {},
   "outputs": [],
   "source": [
    "channel = 3"
   ]
  },
  {
   "cell_type": "code",
   "execution_count": 24,
   "metadata": {},
   "outputs": [],
   "source": [
    "# BGR -> YCbCr\n",
    "def BGR2YCbCr(img):\n",
    "    H, W, C = img.shape\n",
    "\n",
    "    ycbcr = np.zeros([H, W, 3], dtype=np.float32)\n",
    "\n",
    "    ycbcr[..., 0] = 0.2990 * img[..., 2] + 0.5870 * img[..., 1] + 0.1140 * img[..., 0]\n",
    "    ycbcr[..., 1] = -0.1687 * img[..., 2] - 0.3313 * img[..., 1] + 0.5 * img[..., 0] + 128.\n",
    "    ycbcr[..., 2] = 0.5 * img[..., 2] - 0.4187 * img[..., 1] - 0.0813 * img[..., 0] + 128.\n",
    "\n",
    "    return ycbcr"
   ]
  },
  {
   "cell_type": "code",
   "execution_count": 25,
   "metadata": {},
   "outputs": [],
   "source": [
    "# YCbCr -> BGR\n",
    "def YCbCr2BGR(ycbcr):\n",
    "    \n",
    "    H, W, C = img.shape\n",
    "    \n",
    "    bgr = np.zeros([H, W, channel], dtype=np.float32)\n",
    "    bgr[..., 2] = ycbcr[..., 0] + (ycbcr[..., 1] - 128) * 1.402\n",
    "    bgr[..., 1] = ycbcr[..., 0] - (ycbcr[..., 1] - 128) * 0.3411 - (ycbcr[..., 2] - 128) * 0.7139\n",
    "    bgr[..., 0] = ycbcr[..., 0] + (ycbcr[..., 1] - 128) * 1.7718\n",
    "    \n",
    "    bgr = np.clip(bgr, 0, 255)\n",
    "    bgr = bgr.astype(np.uint8)\n",
    "    \n",
    "    return bgr"
   ]
  },
  {
   "cell_type": "code",
   "execution_count": 26,
   "metadata": {},
   "outputs": [],
   "source": [
    "ycbcr = BGR2YCbCr(img)"
   ]
  },
  {
   "cell_type": "code",
   "execution_count": 27,
   "metadata": {},
   "outputs": [],
   "source": [
    "bgr = YCbCr2BGR(ycbcr)"
   ]
  },
  {
   "cell_type": "code",
   "execution_count": 28,
   "metadata": {},
   "outputs": [],
   "source": [
    "cv2.imwrite('../picture/chan_result39_ycbcr.jpg', bgr)\n",
    "cv2.namedWindow(\"result\", 0);\n",
    "cv2.resizeWindow(\"result\", (600, 600));\n",
    "cv2.imshow(\"result\", bgr)\n",
    "cv2.waitKey(0)\n",
    "cv2.destroyAllWindows()"
   ]
  },
  {
   "cell_type": "code",
   "execution_count": null,
   "metadata": {},
   "outputs": [],
   "source": []
  }
 ],
 "metadata": {
  "kernelspec": {
   "display_name": "Python 3",
   "language": "python",
   "name": "python3"
  },
  "language_info": {
   "codemirror_mode": {
    "name": "ipython",
    "version": 3
   },
   "file_extension": ".py",
   "mimetype": "text/x-python",
   "name": "python",
   "nbconvert_exporter": "python",
   "pygments_lexer": "ipython3",
   "version": "3.6.5"
  },
  "toc": {
   "base_numbering": 1,
   "nav_menu": {},
   "number_sections": true,
   "sideBar": true,
   "skip_h1_title": false,
   "title_cell": "Table of Contents",
   "title_sidebar": "Contents",
   "toc_cell": false,
   "toc_position": {},
   "toc_section_display": true,
   "toc_window_display": false
  }
 },
 "nbformat": 4,
 "nbformat_minor": 2
}
