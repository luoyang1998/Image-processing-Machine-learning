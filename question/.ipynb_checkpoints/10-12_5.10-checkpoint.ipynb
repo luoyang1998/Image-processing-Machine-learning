{
 "cells": [
  {
   "cell_type": "markdown",
   "metadata": {},
   "source": [
    "# 10-中值滤波（Median Filter）"
   ]
  },
  {
   "cell_type": "markdown",
   "metadata": {},
   "source": [
    "使用中值滤波器（$3\\times3$大小）进行降噪处理\n",
    "\n",
    "中值滤波器是一种可以使图像平滑的滤波器。这种滤波器用滤波器范围内（在这里是$3\\times3$）像素点的中值进行滤波，采用Zero Padding。"
   ]
  },
  {
   "cell_type": "code",
   "execution_count": 1,
   "metadata": {},
   "outputs": [],
   "source": [
    "import cv2\n",
    "import numpy as np"
   ]
  },
  {
   "cell_type": "code",
   "execution_count": 2,
   "metadata": {},
   "outputs": [],
   "source": [
    "img_noise = cv2.imread('../picture/chan_noise.jpg')"
   ]
  },
  {
   "cell_type": "code",
   "execution_count": 3,
   "metadata": {},
   "outputs": [],
   "source": [
    "# 中值滤波\n",
    "def median_filter(img, K_size):\n",
    "    \n",
    "#     H, W, C = img.shape\n",
    "\n",
    "    if len(img.shape) == 3:\n",
    "        H, W, C = img.shape\n",
    "    else:\n",
    "        img = np.expand_dims(img, axis=-1)\n",
    "        H, W, C = img.shape                               #确保图像为 3 通道\n",
    "        \n",
    "    # Zero padding\n",
    "    pad = K_size // 2\n",
    "    out = np.zeros((H + pad*2, W + pad*2, C), dtype=np.float)\n",
    "    out[pad:pad+H, pad:pad+W] = img.copy().astype(np.float)\n",
    "\n",
    "    tmp = out.copy()\n",
    "\n",
    "    # filtering\n",
    "    for y in range(H):\n",
    "        for x in range(W):\n",
    "            for c in range(C):\n",
    "                out[pad+y, pad+x, c] = np.median(tmp[y:y+K_size, x:x+K_size, c])\n",
    "\n",
    "    out = out[pad:pad+H, pad:pad+W].astype(np.uint8)\n",
    "\n",
    "    return out"
   ]
  },
  {
   "cell_type": "code",
   "execution_count": 8,
   "metadata": {},
   "outputs": [],
   "source": [
    "img_med = median_filter(img_noise, 9)"
   ]
  },
  {
   "cell_type": "code",
   "execution_count": 6,
   "metadata": {},
   "outputs": [],
   "source": [
    "cv2.imwrite('../picture/cat_result10_median_filter.jpg', img_med)\n",
    "cv2.namedWindow(\"result\", 0);\n",
    "cv2.resizeWindow(\"result\", (600, 600));\n",
    "cv2.imshow(\"result\", img_med)\n",
    "cv2.waitKey(0)\n",
    "cv2.destroyAllWindows()"
   ]
  },
  {
   "cell_type": "markdown",
   "metadata": {},
   "source": [
    "# 11-均值滤波"
   ]
  },
  {
   "cell_type": "markdown",
   "metadata": {},
   "source": [
    "使用$3\\times3$的均值滤波器来进行滤波\n",
    "\n",
    "均值滤波器使用网格内像素的平均值。"
   ]
  },
  {
   "cell_type": "code",
   "execution_count": 7,
   "metadata": {},
   "outputs": [],
   "source": [
    "# 均值滤波\n",
    "\n",
    "def mean_filter(img, K_size):\n",
    "    H, W, C = img.shape\n",
    "\n",
    "    # zero padding\n",
    "    pad = K_size // 2\n",
    "    out = np.zeros((H + pad * 2, W + pad * 2, C), dtype=np.float)\n",
    "    out[pad: pad + H, pad: pad + W] = img.copy().astype(np.float)\n",
    "    tmp = out.copy()\n",
    "\n",
    "    # filtering\n",
    "    for y in range(H):\n",
    "        for x in range(W):\n",
    "            for c in range(C):\n",
    "                out[pad + y, pad + x, c] = np.mean(tmp[y: y + K_size, x: x + K_size, c])\n",
    "\n",
    "    out = out[pad: pad + H, pad: pad + W].astype(np.uint8)\n",
    "\n",
    "    return out"
   ]
  },
  {
   "cell_type": "code",
   "execution_count": 9,
   "metadata": {},
   "outputs": [],
   "source": [
    "img_mean = mean_filter(img_noise, 9)"
   ]
  },
  {
   "cell_type": "code",
   "execution_count": null,
   "metadata": {},
   "outputs": [],
   "source": [
    "cv2.imwrite('../picture/cat_result11_mean_filter.jpg', img_mean)\n",
    "cv2.namedWindow(\"result\", 0);\n",
    "cv2.resizeWindow(\"result\", (600, 600));\n",
    "cv2.imshow(\"result\", img_mean)\n",
    "cv2.waitKey(0)\n",
    "cv2.destroyAllWindows()"
   ]
  },
  {
   "cell_type": "markdown",
   "metadata": {},
   "source": [
    "# 12-Motion Filter"
   ]
  },
  {
   "cell_type": "markdown",
   "metadata": {},
   "source": [
    "使用$3\\times3$的Motion Filter来进行滤波\n",
    "\n",
    "Motion Filter取对角线方向的像素的平均值，像下式这样定义： $$ \\left[ \\begin{matrix} \\frac{1}{3}&0&0\\ 0&\\frac{1}{3}&0\\ 0 & 0& \\frac{1}{3} \\end{matrix} \\right] $$"
   ]
  },
  {
   "cell_type": "code",
   "execution_count": null,
   "metadata": {},
   "outputs": [],
   "source": []
  },
  {
   "cell_type": "code",
   "execution_count": 12,
   "metadata": {},
   "outputs": [],
   "source": [
    "# motion filter\n",
    "\n",
    "def motion_filter(img, K_size):\n",
    "    H, W, C = img.shape\n",
    "\n",
    "    # Kernel\n",
    "    K = np.diag( [1] * K_size ).astype(np.float)\n",
    "    K /= K_size\n",
    "\n",
    "    # zero padding\n",
    "    pad = K_size // 2\n",
    "    out = np.zeros((H + pad * 2, W + pad * 2, C), dtype=np.float)\n",
    "    out[pad: pad + H, pad: pad + W] = img.copy().astype(np.float)\n",
    "    tmp = out.copy()\n",
    "\n",
    "    # filtering\n",
    "    for y in range(H):\n",
    "        for x in range(W):\n",
    "            for c in range(C):\n",
    "                out[pad + y, pad + x, c] = np.sum(K * tmp[y: y + K_size, x: x + K_size, c])\n",
    "\n",
    "    out = out[pad: pad + H, pad: pad + W].astype(np.uint8)\n",
    "\n",
    "    return out"
   ]
  },
  {
   "cell_type": "code",
   "execution_count": 13,
   "metadata": {},
   "outputs": [],
   "source": [
    "img_mot = motion_filter(img_noise, 9)"
   ]
  },
  {
   "cell_type": "code",
   "execution_count": 14,
   "metadata": {},
   "outputs": [],
   "source": [
    "cv2.imwrite('../picture/cat_result12_motion_filter.jpg', img_mot)\n",
    "cv2.namedWindow(\"result\", 0);\n",
    "cv2.resizeWindow(\"result\", (600, 600));\n",
    "cv2.imshow(\"result\", img_mot)\n",
    "cv2.waitKey(0)\n",
    "cv2.destroyAllWindows()"
   ]
  },
  {
   "cell_type": "code",
   "execution_count": null,
   "metadata": {},
   "outputs": [],
   "source": []
  }
 ],
 "metadata": {
  "kernelspec": {
   "display_name": "Python 3",
   "language": "python",
   "name": "python3"
  },
  "language_info": {
   "codemirror_mode": {
    "name": "ipython",
    "version": 3
   },
   "file_extension": ".py",
   "mimetype": "text/x-python",
   "name": "python",
   "nbconvert_exporter": "python",
   "pygments_lexer": "ipython3",
   "version": "3.6.5"
  },
  "toc": {
   "base_numbering": 1,
   "nav_menu": {},
   "number_sections": true,
   "sideBar": true,
   "skip_h1_title": false,
   "title_cell": "Table of Contents",
   "title_sidebar": "Contents",
   "toc_cell": false,
   "toc_position": {},
   "toc_section_display": true,
   "toc_window_display": false
  }
 },
 "nbformat": 4,
 "nbformat_minor": 2
}
