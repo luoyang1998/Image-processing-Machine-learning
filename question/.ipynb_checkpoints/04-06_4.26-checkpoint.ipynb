{
 "cells": [
  {
   "cell_type": "markdown",
   "metadata": {},
   "source": [
    "# 04-大津二值法（Otsu's Method）"
   ]
  },
  {
   "cell_type": "code",
   "execution_count": 1,
   "metadata": {},
   "outputs": [],
   "source": [
    "import cv2\n",
    "from matplotlib import pyplot as plt\n",
    "import numpy as np\n",
    "from tqdm import tqdm"
   ]
  },
  {
   "cell_type": "markdown",
   "metadata": {},
   "source": [
    "### 大津算法，也被称作最大类间方差法，是一种可以自动确定二值化中阈值的算法。"
   ]
  },
  {
   "cell_type": "code",
   "execution_count": 22,
   "metadata": {},
   "outputs": [],
   "source": [
    "#读取一幅灰度图，或者将图片转为灰度图\n",
    "\n",
    "# 这里直接将数据转换成 float32，方便后续计算\n",
    "img = cv2.imread('../picture/cat.jpg')"
   ]
  },
  {
   "cell_type": "code",
   "execution_count": 23,
   "metadata": {},
   "outputs": [],
   "source": [
    "def rgb2gray(image):\n",
    "    h = image.shape[0]\n",
    "    w = image.shape[1]\n",
    "    grayimage  = np.zeros((h,w),np.uint8)\n",
    "    for i in tqdm(range(h)):\n",
    "        for j in range(w):\n",
    "            grayimage [i,j] = 0.144*image[i,j,0]+0.587*image[i,j,1]+0.299*image[i,j,1]\n",
    "    return grayimage\n"
   ]
  },
  {
   "cell_type": "code",
   "execution_count": 24,
   "metadata": {},
   "outputs": [],
   "source": [
    "#大津法\n",
    "\n",
    "def otsu(image):\n",
    "    \n",
    "    ### 高和宽\n",
    "    h = image.shape[0]\n",
    "    w = image.shape[1]\n",
    "    ### 求总像素\n",
    "    m = h*w\n",
    "\n",
    "    otsuimg = np.zeros((h, w), np.uint8)\n",
    "    ##初始阈值\n",
    "    initial_threshold = 0\n",
    "    ### 最终阈值\n",
    "    final_threshold   = 0\n",
    "    # 初始化各灰度级个数统计参数\n",
    "    histogram = np.zeros(256, np.int32)\n",
    "    # 初始化各灰度级占图像中的分布的统计参数\n",
    "    probability = np.zeros(256, np.float32)\n",
    "\n",
    "    ### 各个灰度级的个数统计\n",
    "    for i in tqdm(range(h)):\n",
    "        for j in range(w):\n",
    "            s = image[i,j]\n",
    "            histogram[s] = histogram[s] +1\n",
    "    ### 各灰度级占图像中的分布的统计参数\n",
    "    for i in tqdm(range(256)):\n",
    "        probability[i] = histogram[i]/m\n",
    "\n",
    "    for i in tqdm(range(255)):\n",
    "        w0 = w1 = 0  ## 前景和背景的灰度数\n",
    "        fgs = bgs = 0  # 定义前景像素点灰度级总和背景像素点灰度级总和\n",
    "        for j in range(256):\n",
    "            if j <= i:  # 当前i为分割阈值\n",
    "                w0 += probability[j]  # 前景像素点占整幅图像的比例累加\n",
    "                fgs += j * probability[j]\n",
    "            else:\n",
    "                w1 += probability[j]  # 背景像素点占整幅图像的比例累加\n",
    "                bgs += j * probability[j]\n",
    "        u0 = fgs / w0  # 前景像素点的平均灰度\n",
    "        u1 = bgs / w1  # 背景像素点的平均灰度\n",
    "        G  = w0*w1*(u0-u1)**2\n",
    "        if G >= initial_threshold:\n",
    "            initial_threshold = G\n",
    "            final_threshold = i\n",
    "    print(final_threshold)\n",
    "\n",
    "    for i in range(h):\n",
    "        for j in range(w):\n",
    "            if image[i, j] > final_threshold:\n",
    "                otsuimg[i, j] = 255\n",
    "            else:\n",
    "                otsuimg[i, j] = 0\n",
    "                \n",
    "    return otsuimg\n"
   ]
  },
  {
   "cell_type": "code",
   "execution_count": 28,
   "metadata": {},
   "outputs": [
    {
     "name": "stderr",
     "output_type": "stream",
     "text": [
      "100%|██████████████████████████████████████████████████████████████████████████████| 2256/2256 [02:00<00:00, 18.70it/s]\n",
      "100%|█████████████████████████████████████████████████████████████████████████████| 2256/2256 [00:12<00:00, 185.37it/s]\n",
      "100%|████████████████████████████████████████████████████████████████████████████| 256/256 [00:00<00:00, 255652.82it/s]\n",
      "100%|███████████████████████████████████████████████████████████████████████████████| 255/255 [00:00<00:00, 511.64it/s]\n"
     ]
    },
    {
     "name": "stdout",
     "output_type": "stream",
     "text": [
      "158\n"
     ]
    }
   ],
   "source": [
    "img_gray  = rgb2gray(img)\n",
    "img_ostu  = otsu(img_gray)"
   ]
  },
  {
   "cell_type": "code",
   "execution_count": 34,
   "metadata": {},
   "outputs": [],
   "source": [
    "cv2.imwrite('../picture/cat_result4_ostu.jpg', img_ostu)\n",
    "cv2.namedWindow(\"result\", 0);\n",
    "cv2.resizeWindow(\"result\", (800, 600));\n",
    "cv2.imshow(\"result\", img_ostu)\n",
    "cv2.waitKey(0)\n",
    "cv2.destroyAllWindows()\n",
    "\n",
    "# plt.xticks([])\n",
    "# plt.yticks([])\n",
    "# plt.imshow(img_ostu)\n",
    "# plt.show()"
   ]
  },
  {
   "cell_type": "markdown",
   "metadata": {},
   "source": [
    "# 05-HSV变换"
   ]
  },
  {
   "cell_type": "code",
   "execution_count": 35,
   "metadata": {},
   "outputs": [],
   "source": [
    "# BGR -> HSV\n",
    "\n",
    "def BGR2HSV(img):\n",
    "    img = img.copy() / 255.\n",
    "    \n",
    "    hsv = np.zeros_like(img, dtype=np.float32)\n",
    "\n",
    "    #取 max和 min\n",
    "    max_v = np.max(img, axis=2).copy()\n",
    "    min_v = np.min(img, axis=2).copy()\n",
    "    min_arg = np.argmin(img, axis=2)\n",
    "\n",
    "    # H\n",
    "    hsv[..., 0][np.where(max_v == min_v)]= 0\n",
    "    # if min == B\n",
    "    ind = np.where(min_arg == 0)\n",
    "    hsv[..., 0][ind] = 60 * (img[..., 1][ind] - img[..., 2][ind]) / (max_v[ind] - min_v[ind]) + 60\n",
    "    # if min == R\n",
    "    ind = np.where(min_arg == 2)\n",
    "    hsv[..., 0][ind] = 60 * (img[..., 0][ind] - img[..., 1][ind]) / (max_v[ind] - min_v[ind]) + 180\n",
    "    # if min == G\n",
    "    ind = np.where(min_arg == 1)\n",
    "    hsv[..., 0][ind] = 60 * (img[..., 2][ind] - img[..., 0][ind]) / (max_v[ind] - min_v[ind]) + 300\n",
    "\n",
    "    # S\n",
    "    hsv[..., 1] = max_v.copy() - min_v.copy()\n",
    "\n",
    "    # V\n",
    "    hsv[..., 2] = max_v.copy()\n",
    "\n",
    "    return hsv"
   ]
  },
  {
   "cell_type": "code",
   "execution_count": 36,
   "metadata": {},
   "outputs": [],
   "source": [
    "# HSV -> BGR\n",
    "\n",
    "def HSV2BGR(_img, hsv):\n",
    "    \n",
    "    img = _img.copy() / 255.\n",
    "\n",
    "    max_v = np.max(img, axis=2).copy()\n",
    "    min_v = np.min(img, axis=2).copy()\n",
    "\n",
    "    out = np.zeros_like(img)\n",
    "\n",
    "    H = hsv[..., 0]\n",
    "    S = hsv[..., 1]\n",
    "    V = hsv[..., 2]\n",
    "\n",
    "    C = S\n",
    "    H_ = H / 60.\n",
    "    X = C * (1 - np.abs( H_ % 2 - 1))\n",
    "    Z = np.zeros_like(H)\n",
    "\n",
    "    vals = [[Z,X,C], [Z,C,X], [X,C,Z], [C,X,Z], [C,Z,X], [X,Z,C]]\n",
    "\n",
    "    for i in range(6):\n",
    "        ind = np.where((i <= H_) & (H_ < (i+1)))\n",
    "        out[..., 0][ind] = (V - C)[ind] + vals[i][0][ind]\n",
    "        out[..., 1][ind] = (V - C)[ind] + vals[i][1][ind]\n",
    "        out[..., 2][ind] = (V - C)[ind] + vals[i][2][ind]\n",
    "\n",
    "    out[np.where(max_v == min_v)] = 0\n",
    "    out = np.clip(out, 0, 1)\n",
    "    out = (out * 255).astype(np.uint8)\n",
    "\n",
    "    return out"
   ]
  },
  {
   "cell_type": "code",
   "execution_count": 43,
   "metadata": {},
   "outputs": [
    {
     "name": "stderr",
     "output_type": "stream",
     "text": [
      "E:\\Anaconda3\\lib\\site-packages\\ipykernel_launcher.py:17: RuntimeWarning: invalid value encountered in true_divide\n",
      "E:\\Anaconda3\\lib\\site-packages\\ipykernel_launcher.py:7: RuntimeWarning: invalid value encountered in remainder\n",
      "  import sys\n"
     ]
    }
   ],
   "source": [
    "img_ = img.astype(np.float32)\n",
    "\n",
    "# RGB -> HSV\n",
    "hsv = BGR2HSV(img_)\n",
    "\n",
    "#移调色调\n",
    "hsv[..., 0] = (hsv[..., 0] + 180) % 360\n",
    "\n",
    "cv2.imwrite('../picture/cat_result5_hsv.jpg', hsv)\n",
    "cv2.namedWindow(\"hsv\", 0);\n",
    "cv2.resizeWindow(\"hsv\", (800, 600));\n",
    "cv2.imshow(\"hsc\", hsv)\n",
    "cv2.waitKey(0)\n",
    "cv2.destroyAllWindows()"
   ]
  },
  {
   "cell_type": "code",
   "execution_count": 41,
   "metadata": {},
   "outputs": [
    {
     "name": "stderr",
     "output_type": "stream",
     "text": [
      "E:\\Anaconda3\\lib\\site-packages\\ipykernel_launcher.py:2: RuntimeWarning: invalid value encountered in remainder\n",
      "  \n",
      "E:\\Anaconda3\\lib\\site-packages\\ipykernel_launcher.py:18: RuntimeWarning: invalid value encountered in remainder\n"
     ]
    }
   ],
   "source": [
    "# HSV -> RGB\n",
    "rgb = HSV2BGR(img, hsv)\n",
    "\n",
    "cv2.imwrite('../picture/cat_result5_rgb.jpg', rgb)\n",
    "cv2.namedWindow(\"rgb\", 0);\n",
    "cv2.resizeWindow(\"rgb\", (800, 600));\n",
    "cv2.imshow(\"rgb\", rgb)\n",
    "cv2.waitKey(0)\n",
    "cv2.destroyAllWindows()"
   ]
  },
  {
   "cell_type": "markdown",
   "metadata": {},
   "source": [
    "# 06-减色处理"
   ]
  },
  {
   "cell_type": "code",
   "execution_count": 44,
   "metadata": {},
   "outputs": [],
   "source": [
    "#减色\n",
    "\n",
    "def dicrease_color(img):\n",
    "    \n",
    "    out = img.copy()\n",
    "    out = out // 64 * 64 + 32\n",
    "\n",
    "    return out"
   ]
  },
  {
   "cell_type": "code",
   "execution_count": 46,
   "metadata": {},
   "outputs": [],
   "source": [
    "img_dic = dicrease_color(img)"
   ]
  },
  {
   "cell_type": "code",
   "execution_count": 48,
   "metadata": {},
   "outputs": [],
   "source": [
    "cv2.imwrite('../picture/cat_result6_dicrease.jpg', img_dic)\n",
    "cv2.namedWindow(\"dicrease_color\", 0);\n",
    "cv2.resizeWindow(\"dicrease_color\", (800, 600));\n",
    "cv2.imshow(\"dicrease_color\", img_dic)\n",
    "cv2.waitKey(0)\n",
    "cv2.destroyAllWindows()"
   ]
  },
  {
   "cell_type": "code",
   "execution_count": null,
   "metadata": {},
   "outputs": [],
   "source": []
  },
  {
   "cell_type": "code",
   "execution_count": null,
   "metadata": {},
   "outputs": [],
   "source": []
  },
  {
   "cell_type": "code",
   "execution_count": null,
   "metadata": {},
   "outputs": [],
   "source": []
  },
  {
   "cell_type": "code",
   "execution_count": null,
   "metadata": {},
   "outputs": [],
   "source": []
  },
  {
   "cell_type": "code",
   "execution_count": null,
   "metadata": {},
   "outputs": [],
   "source": []
  },
  {
   "cell_type": "code",
   "execution_count": null,
   "metadata": {},
   "outputs": [],
   "source": []
  },
  {
   "cell_type": "code",
   "execution_count": 33,
   "metadata": {},
   "outputs": [],
   "source": [
    "#画 X 和 Y 轴上的投影\n",
    "I2=cv2.imread('../picture/cat.jpg')\n",
    "\n",
    "#求图片长宽,先读高再读宽\n",
    "height, width, si = I2.shape\n",
    "\n",
    "#存储行的像素值的 width*1 矩阵\n",
    "marrow = np.zeros((height, 1))\n",
    "#存储列的像素值的 1*length 矩阵\n",
    "marcol = np.zeros((1, width))"
   ]
  },
  {
   "cell_type": "code",
   "execution_count": 32,
   "metadata": {},
   "outputs": [
    {
     "data": {
      "text/plain": [
       "((2256, 3008, 3), (2256, 1))"
      ]
     },
     "execution_count": 32,
     "metadata": {},
     "output_type": "execute_result"
    }
   ],
   "source": [
    "I2.shape,marrow.shape"
   ]
  },
  {
   "cell_type": "code",
   "execution_count": 39,
   "metadata": {},
   "outputs": [],
   "source": [
    "#求行的投影 \n",
    "for row in range(height):\n",
    "    rFlag = 0                       #记录行的像素点\n",
    "    for col in range(width):\n",
    "        if I2[row, col, 1] !=0:\n",
    "            rFlag = rFlag + 1         #记录像素点\n",
    "    marrow[row, :] = rFlag       #记录投影点 R+1"
   ]
  },
  {
   "cell_type": "code",
   "execution_count": 41,
   "metadata": {},
   "outputs": [],
   "source": [
    "#求列的投影\n",
    "for col in range(width):\n",
    "    cFlag = 0                       #记录列的像素点\n",
    "    for row in range(height):\n",
    "        if I2[row, col, 1] !=0:\n",
    "            cFlag = cFlag + 1         #记录像素点\n",
    "    marcol[:, col] = cFlag       #记录投影点 R+1"
   ]
  },
  {
   "cell_type": "code",
   "execution_count": 59,
   "metadata": {},
   "outputs": [
    {
     "name": "stderr",
     "output_type": "stream",
     "text": [
      "E:\\Anaconda3\\lib\\site-packages\\matplotlib\\font_manager.py:1328: UserWarning: findfont: Font family ['sans-serif'] not found. Falling back to DejaVu Sans\n",
      "  (prop.get_family(), self.defaultFamily[fontext]))\n"
     ]
    },
    {
     "data": {
      "image/png": "[encoded data removed]",
      "text/plain": [
       "<Figure size 432x288 with 1 Axes>"
      ]
     },
     "metadata": {},
     "output_type": "display_data"
    },
    {
     "data": {
      "image/png": "[encoded data removed]",
      "text/plain": [
       "<Figure size 432x288 with 1 Axes>"
      ]
     },
     "metadata": {},
     "output_type": "display_data"
    }
   ],
   "source": [
    "plt.rcParams['font.sans-serif'] = ['Microsoft YaHei']#显示中文\n",
    "\n",
    "plt.title(\"Horizontal projection histogram\")\n",
    "plt.plot(marrow)\n",
    "plt.show()\n",
    "\n",
    "plt.title(\"Vertical projection histogram\")\n",
    "plt.plot(marrow)\n",
    "plt.show()\n",
    "\n",
    "\n",
    "\n",
    "# plt.subplot(1,2,1),plt(marrow);title('水平投影直方图')\n",
    "# plt.subplot(1,2,2),plt(marcol);title('垂直投影直方图')"
   ]
  }
 ],
 "metadata": {
  "kernelspec": {
   "display_name": "Python 3",
   "language": "python",
   "name": "python3"
  },
  "language_info": {
   "codemirror_mode": {
    "name": "ipython",
    "version": 3
   },
   "file_extension": ".py",
   "mimetype": "text/x-python",
   "name": "python",
   "nbconvert_exporter": "python",
   "pygments_lexer": "ipython3",
   "version": "3.6.5"
  },
  "toc": {
   "base_numbering": 1,
   "nav_menu": {},
   "number_sections": true,
   "sideBar": true,
   "skip_h1_title": false,
   "title_cell": "Table of Contents",
   "title_sidebar": "Contents",
   "toc_cell": false,
   "toc_position": {},
   "toc_section_display": true,
   "toc_window_display": false
  }
 },
 "nbformat": 4,
 "nbformat_minor": 2
}
